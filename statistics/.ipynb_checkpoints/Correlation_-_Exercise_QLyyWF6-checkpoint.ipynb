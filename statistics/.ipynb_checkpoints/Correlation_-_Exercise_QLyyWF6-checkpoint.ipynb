{
 "cells": [
  {
   "cell_type": "markdown",
   "metadata": {},
   "source": [
    "# Question 1\n",
    "\n",
    "## Q1.1 generate data:\n",
    "(a) $X=\\left[-1, -0.99, -0.98, \\ldots, 0.98, 0.99, 1\\right]$ \n",
    " \n",
    "(b) $Y = 2\\cdot X$\n",
    " \n",
    "(c) write a function noise_var(v) which receives an array and adds **to each element** a sample from a normal distribution with mean 0 and variance 0.01. \n",
    "\n",
    "(d) using the function you wrote in clause (c) generate $X'$. Where $X'$ is a vector defined as following:\n",
    "- for all $x_i\\in X, x'_i\\in X'$\n",
    "- $ x'_i=x_i+n_i $ \n",
    "- $n_i\\sim \\mathcal{N}\\left(0, 0.01\\right)$ \n",
    "\n",
    "(d) Repeat the same process as in (d) to create $Y'$"
   ]
  },
  {
   "cell_type": "code",
   "execution_count": 19,
   "metadata": {},
   "outputs": [],
   "source": [
    "import numpy as np\n",
    "import math\n",
    "\n",
    "def noise_var(y):   \n",
    "    v = np.random.normal(0,math.sqrt(.01), len(x))\n",
    "    return y + v\n",
    "\n",
    "x = np.arange(-1,1.01, .01)\n",
    "y = 2 * x\n",
    "xprime = noise_var(x)\n",
    "yprime = noise_var(y)"
   ]
  },
  {
   "cell_type": "markdown",
   "metadata": {},
   "source": [
    "## Q1.2\n",
    "Are $X'$ and $Y'$ statistically dependent? what type of dependence? how can you show that? \n",
    "\n",
    "1. explain in words\n",
    "2. show with math (in code)\n",
    "\n",
    "\n",
    "*hint - most mathematical operations you encounter are already implemented in the Python libraries you know. Use them.*"
   ]
  },
  {
   "cell_type": "code",
   "execution_count": 22,
   "metadata": {},
   "outputs": [
    {
     "data": {
      "text/plain": [
       "(0.9831773508801143, 6.656219086502529e-149)"
      ]
     },
     "execution_count": 22,
     "metadata": {},
     "output_type": "execute_result"
    }
   ],
   "source": [
    "## X' and Y' are almost fully dependent because Y is 2*X but not fully dependent because \n",
    "## they add a number where the mean is 0 with S.D of 0.01. \n",
    "## The type of dependency is linear (2*X is linear).\n",
    "\n",
    "from scipy.stats.stats import pearsonr\n",
    "pearsonr(xprime, yprime)"
   ]
  },
  {
   "cell_type": "markdown",
   "metadata": {},
   "source": [
    "# Question 2\n"
   ]
  },
  {
   "cell_type": "markdown",
   "metadata": {},
   "source": [
    "Load the data in movie_rating.csv into a dataframe. The data consists of critic ratings and people votes for a set of 20 movies.\n",
    "## Q2.1\n",
    "Compute the linear correlation between critic ratings and people votes\n",
    "\n",
    "\n",
    "*hint - most mathematical operations you encounter are already implemented in the Python libraries you know. Use them.*"
   ]
  },
  {
   "cell_type": "code",
   "execution_count": 52,
   "metadata": {},
   "outputs": [
    {
     "name": "stdout",
     "output_type": "stream",
     "text": [
      "(0.33695346478287086, 0.14629113411365588)\n"
     ]
    }
   ],
   "source": [
    "import pandas as pd\n",
    "\n",
    "movie = pd.read_csv(\"movie_rating.csv\")\n",
    "people = movie['people_vote']\n",
    "rating = movie['rating']\n",
    "movie_correlation = pearsonr(people, rating)\n",
    "print(movie_correlation)"
   ]
  },
  {
   "cell_type": "markdown",
   "metadata": {},
   "source": [
    "## Q2.2\n",
    "(a) To explore the connection between critic ratings and people votes, draw them against each other in a scatter plot. "
   ]
  },
  {
   "cell_type": "code",
   "execution_count": 39,
   "metadata": {},
   "outputs": [
    {
     "data": {
      "image/png": "[encoded data removed]",
      "text/plain": [
       "<Figure size 432x288 with 1 Axes>"
      ]
     },
     "metadata": {
      "needs_background": "light"
     },
     "output_type": "display_data"
    }
   ],
   "source": [
    "import matplotlib.pyplot as plt\n",
    "\n",
    "plt.scatter(people, rating)\n",
    "plt.show()"
   ]
  },
  {
   "cell_type": "markdown",
   "metadata": {},
   "source": [
    "(b) Create a new data frame, with all the movies, except the one with the lowest people vote. "
   ]
  },
  {
   "cell_type": "code",
   "execution_count": 48,
   "metadata": {},
   "outputs": [],
   "source": [
    "movies2 = movie[movie['people_vote'] > 0]"
   ]
  },
  {
   "cell_type": "markdown",
   "metadata": {},
   "source": [
    "(c) Draw a scatter plot for the movies selected. Is there a linear connection? Explain."
   ]
  },
  {
   "cell_type": "code",
   "execution_count": 54,
   "metadata": {},
   "outputs": [
    {
     "data": {
      "image/png": "[encoded data removed]",
      "text/plain": [
       "<Figure size 432x288 with 1 Axes>"
      ]
     },
     "metadata": {
      "needs_background": "light"
     },
     "output_type": "display_data"
    },
    {
     "name": "stdout",
     "output_type": "stream",
     "text": [
      "(0.8609465459222103, 2.2256804373534285e-06)\n"
     ]
    }
   ],
   "source": [
    "plt.scatter(movies2['people_vote'], movies2['rating'])\n",
    "plt.show()\n",
    "people2 = movies2['people_vote']\n",
    "rating2 = movies2['rating']\n",
    "movie_correlation2 = pearsonr(people2, rating2)\n",
    "print(movie_correlation2)\n",
    "\n",
    "## There is a correlation as we see the value of the correlation function is now .86\n",
    "## which is pretty strong"
   ]
  },
  {
   "cell_type": "markdown",
   "metadata": {},
   "source": []
  },
  {
   "cell_type": "markdown",
   "metadata": {},
   "source": [
    "(d) Congragulations you've encountered an outlier, a data point so far from the others, keeping it may adversely affect results. \n",
    "Linear correlation is sensitive to distance. Handling outliers is important and most cases are harder than this one, due to complexity (hunderds of variables), size (thousands of movies), etc. In this case a possible remedy would be to use order statistics or ranks (1st, 2nd,...).\n",
    "\n",
    "$$\n",
    "\\small\n",
    "X=\\{100,0, 15, 50\\}\n",
    "\\rightarrow\n",
    "rank(X)=\\{4, 1, 2, 3\\}\n",
    "$$\n",
    "\n",
    "- Create a new data frame for all movies with all critic ratings replaced by their rank and the same for people vote. \n",
    "- Draw a scatter plot\n",
    "- compute the linear correlation."
   ]
  },
  {
   "cell_type": "code",
   "execution_count": 92,
   "metadata": {},
   "outputs": [
    {
     "data": {
      "image/png": "[encoded data removed]",
      "text/plain": [
       "<Figure size 432x288 with 1 Axes>"
      ]
     },
     "metadata": {
      "needs_background": "light"
     },
     "output_type": "display_data"
    },
    {
     "name": "stdout",
     "output_type": "stream",
     "text": [
      "(0.8609465459222103, 2.2256804373534285e-06)\n"
     ]
    }
   ],
   "source": [
    "people_rank = people2.rank()\n",
    "people_rank = people_rank.rename(\"people_rank\")\n",
    "rating_rank = rating2.rank()\n",
    "rating_rank = rating_rank.rename(\"rating_rank\")\n",
    "ranked_frame = pd.DataFrame(index=[people_rank,rating_rank])\n",
    "plt.scatter(people_rank, rating_rank)\n",
    "plt.show()\n",
    "rating_correlation = pearsonr(people2, rating2)\n",
    "print(rating_correlation)"
   ]
  },
  {
   "cell_type": "markdown",
   "metadata": {},
   "source": [
    "Correlation over ranks is named Spearman correlation."
   ]
  },
  {
   "cell_type": "markdown",
   "metadata": {},
   "source": [
    "# Question 3\n",
    "Read the csv file bank-full.csv into a data frame. The description\n",
    "of this data can be found in bank-info.txt\n",
    "\n",
    "(a) Compute the Spearman correlation between days from last contact and previous campaign contacts"
   ]
  },
  {
   "cell_type": "code",
   "execution_count": 119,
   "metadata": {},
   "outputs": [
    {
     "name": "stdout",
     "output_type": "stream",
     "text": [
      "(-0.10127327886194193, 2.839971779114998e-20)\n"
     ]
    }
   ],
   "source": [
    "blank_df = pd.read_csv(\"bank-full.csv\")\n",
    "blank_df = blank_df[blank_df.days_from_last_contact != -1]\n",
    "days_from_last_contact = blank_df['days_from_last_contact']\n",
    "days_from_last_contact_rank = days_from_last_contact.rank()\n",
    "days_from_last_contact_rank = days_from_last_contact_rank.rename(\"days_from_last_contact_rank\")\n",
    "previous_campaign_contacts = blank_df['previous_campaign_contacts']\n",
    "previous_campaign_contacts_rank = previous_campaign_contacts.rank()\n",
    "previous_campaign_contacts_rank = previous_campaign_contacts_rank.rename(\"previous_campaign_contacts_rank\")\n",
    "rating_correlation = pearsonr(days_from_last_contact_rank, previous_campaign_contacts_rank)\n",
    "print(rating_correlation)"
   ]
  },
  {
   "cell_type": "markdown",
   "metadata": {},
   "source": [
    "(b) Is there an actual linear correlation between the ranks? Explain, and back your claims with math and plots. "
   ]
  },
  {
   "cell_type": "code",
   "execution_count": 121,
   "metadata": {},
   "outputs": [
    {
     "data": {
      "image/png": "[encoded data removed]",
      "text/plain": [
       "<Figure size 432x288 with 1 Axes>"
      ]
     },
     "metadata": {
      "needs_background": "light"
     },
     "output_type": "display_data"
    }
   ],
   "source": [
    "plt.scatter(days_from_last_contact_rank, previous_campaign_contacts_rank)\n",
    "plt.show()\n",
    "\n",
    "## There is no linear correlation. We see the x-values in the graph have nothing to do with the y-values and the \n",
    "## correlation function gives us -.1 which indicates no correlation"
   ]
  },
  {
   "cell_type": "markdown",
   "metadata": {},
   "source": []
  },
  {
   "cell_type": "code",
   "execution_count": null,
   "metadata": {},
   "outputs": [],
   "source": []
  }
 ],
 "metadata": {
  "kernelspec": {
   "display_name": "Python 3",
   "language": "python",
   "name": "python3"
  },
  "language_info": {
   "codemirror_mode": {
    "name": "ipython",
    "version": 3
   },
   "file_extension": ".py",
   "mimetype": "text/x-python",
   "name": "python",
   "nbconvert_exporter": "python",
   "pygments_lexer": "ipython3",
   "version": "3.7.0"
  }
 },
 "nbformat": 4,
 "nbformat_minor": 1
}
