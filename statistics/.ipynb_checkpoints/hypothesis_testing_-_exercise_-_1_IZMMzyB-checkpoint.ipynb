{
 "cells": [
  {
   "cell_type": "markdown",
   "metadata": {},
   "source": [
    "# Question 1\n",
    "(a) Draw 1000 samples from a normal distribution $\\mathcal{N}(0, 1)$. Denote these samples $ X $."
   ]
  },
  {
   "cell_type": "code",
   "execution_count": 53,
   "metadata": {},
   "outputs": [],
   "source": [
    "import numpy as np\n",
    "import scipy.stats as st\n",
    "\n",
    "X = np.random.normal(0,1,1000)"
   ]
  },
  {
   "cell_type": "markdown",
   "metadata": {},
   "source": [
    "(b) You suspect a third party replaced some of your samples with samples drawn from a different normal distribution **with $\\mu>0$**. Could you use statistical hypothesis testing to check? What would be the null hypothesis?\n",
    "\n",
    "_hint:_ there are multiple (literally infinite) possible null hypotheses. which would you choose if you would want to avoid \"crying wolf\" i.e. a false positive?"
   ]
  },
  {
   "cell_type": "markdown",
   "metadata": {},
   "source": []
  },
  {
   "cell_type": "markdown",
   "metadata": {},
   "source": [
    "(c) Perform hypothesis testing for $ \\alpha=0.01, 0.05, 0.1, 0.2, 0.3 $. What is the proportion of rejected null hypothesis for each? Plot your results"
   ]
  },
  {
   "cell_type": "code",
   "execution_count": 69,
   "metadata": {},
   "outputs": [
    {
     "data": {
      "image/png": "[encoded data removed]",
      "text/plain": [
       "<Figure size 432x288 with 1 Axes>"
      ]
     },
     "metadata": {
      "needs_background": "light"
     },
     "output_type": "display_data"
    }
   ],
   "source": [
    "import matplotlib.pyplot as plt\n",
    "\n",
    "alphas = [0.01,0.05,0.1,0.2,0.3]\n",
    "proportion_rejected_X = []\n",
    "for alpha in alphas:\n",
    "    alpha = st.norm.ppf(alpha)\n",
    "    rejected_ratio = np.sum(abs(X) > abs(alpha))/len(X)\n",
    "    proportion_rejected_X.append(rejected_ratio)\n",
    "plt.scatter(alphas, proportion_rejected_X)\n",
    "plt.show()"
   ]
  },
  {
   "cell_type": "markdown",
   "metadata": {},
   "source": [
    "##### (d) For $\\mu=1$ draw 1000 samples from a normal distribution $ \\mathcal{N}(\\mu, 1) $. Denote these samples $ Y $. "
   ]
  },
  {
   "cell_type": "code",
   "execution_count": 71,
   "metadata": {},
   "outputs": [],
   "source": [
    "Y = np.random.normal(1,1,1000)"
   ]
  },
  {
   "cell_type": "markdown",
   "metadata": {},
   "source": [
    "(e) For the $ \\alpha $ values in (c) peform the **same** testing on $ Y $ (same null hypothesis). Plot the ratio$^1$ of null hypotheses rejected in $ Y $ (as the y axis) to the number of elements in $ Y $ against the ratio$^2$ of null hypotheses rejected in $ X $ to the number of elements in $ X $ (as the x axis).\n",
    "\n",
    "- what is ratio$^1$?\n",
    "- what is ratio$^2$?"
   ]
  },
  {
   "cell_type": "code",
   "execution_count": 72,
   "metadata": {},
   "outputs": [
    {
     "data": {
      "image/png": "[encoded data removed]",
      "text/plain": [
       "<Figure size 432x288 with 1 Axes>"
      ]
     },
     "metadata": {
      "needs_background": "light"
     },
     "output_type": "display_data"
    },
    {
     "data": {
      "image/png": "[encoded data removed]",
      "text/plain": [
       "<Figure size 432x288 with 1 Axes>"
      ]
     },
     "metadata": {
      "needs_background": "light"
     },
     "output_type": "display_data"
    }
   ],
   "source": [
    "proportion_rejected_Y = []\n",
    "\n",
    "alphas = [0.01,0.05,0.1,0.2,0.3]\n",
    "for alpha in alphas:\n",
    "    alpha = st.norm.ppf(alpha)\n",
    "    rejected_ratio = np.sum(abs(Y) > abs(alpha))/len(Y)\n",
    "    proportion_rejected_Y.append(rejected_ratio)\n",
    "plt.scatter(alphas, proportion_rejected_Y)\n",
    "plt.show()\n",
    "fig = plt.scatter(proportion_rejected_X, proportion_rejected_Y)\n",
    "plt.show()"
   ]
  },
  {
   "cell_type": "raw",
   "metadata": {},
   "source": [
    "words go here.."
   ]
  },
  {
   "cell_type": "markdown",
   "metadata": {},
   "source": [
    "A plot of false positive rate Vs. true positive rate (in binary classification) is known as a ROC curve. \n",
    "A ROC curve shows the balance between the two rates for a given model, enabling an informed choice. "
   ]
  },
  {
   "cell_type": "markdown",
   "metadata": {},
   "source": [
    "(f) Repeat question (d) and (e) for $ \\mu=0.1, 0.3, 0.5, 1.5 $. Plot ROC curves for all options. \n",
    "\n",
    "\n",
    "Explain the difference in the curves: \n",
    "- Is the problem harder for some $ \\mu $ values? \n",
    "- How is that visible from the curves?\n",
    "- For a single curve, how would you choose an optimal $ \\alpha $ value?"
   ]
  },
  {
   "cell_type": "code",
   "execution_count": 92,
   "metadata": {},
   "outputs": [
    {
     "data": {
      "image/png": "[encoded data removed]",
      "text/plain": [
       "<Figure size 432x288 with 1 Axes>"
      ]
     },
     "metadata": {
      "needs_background": "light"
     },
     "output_type": "display_data"
    },
    {
     "data": {
      "image/png": "[encoded data removed]",
      "text/plain": [
       "<Figure size 432x288 with 1 Axes>"
      ]
     },
     "metadata": {
      "needs_background": "light"
     },
     "output_type": "display_data"
    }
   ],
   "source": [
    "from sklearn.metrics import roc_curve\n",
    "\n",
    "mu = 1.5\n",
    "X = np.random.normal(mu,1,1000)\n",
    "proportion_rejected = []\n",
    "alphas = [0.01,0.05,0.1,0.2,0.3,.5,.75,.9,1]\n",
    "for alpha in alphas:\n",
    "    alpha = st.norm.ppf(alpha)\n",
    "    rejected_ratio = np.sum(abs(X) < alpha)/len(Y)\n",
    "    proportion_rejected.append(rejected_ratio)\n",
    "plt.plot(alphas, proportion_rejected)\n",
    "plt.show()\n",
    "\n",
    "r = X < -1.96\n",
    "pr = [p < .05 for p in proportion_rejected]\n",
    "alp = [a < .05 for a in alphas]\n",
    "\n",
    "\n",
    "# print(proportion_rejected_Y, proportion_rejected_X)\n",
    "fpr, tpr, thresholds = roc_curve(alp, pr, pos_label=2)\n",
    "plt.plot(fpr, tpr)\n",
    "plt.show()\n",
    "\n",
    "#I didnt do the roc curve properly but I ran out of time"
   ]
  },
  {
   "cell_type": "markdown",
   "metadata": {},
   "source": [
    "words go here.."
   ]
  },
  {
   "cell_type": "markdown",
   "metadata": {},
   "source": [
    "# Question 2\n",
    "$$\n",
    "\\begin{aligned}\n",
    "&X=\\left\\{X_i\\right\\}_{i=1}^{1000},\\:\\: X_i \\sim \\mathcal{N}(0, 1)\\\\\n",
    "&Y=\\left\\{Y_i\\right\\}_{i=1}^{1000},\\:\\: Y_i \\sim \\mathcal{N}(1, 1)\\\\\n",
    "&\\alpha = 0.01, 0.05, 0.1, 0.2, 0.3\n",
    "\\end{aligned}\n",
    "$$\n",
    "\n",
    "(a) Again you suspect You suspect a third party replaced some of your samples with samples drawn from a different normal distribution with  μ>0. Perform hypothesis testing on $ X $ using $ \\alpha = 0.05 $. Repeat this process 2000 times. What is the ratio of times in which at least one sample in $ X $ is falsely rejected?"
   ]
  },
  {
   "cell_type": "code",
   "execution_count": 100,
   "metadata": {},
   "outputs": [
    {
     "name": "stderr",
     "output_type": "stream",
     "text": [
      "/usr/local/lib/python3.7/site-packages/ipykernel_launcher.py:7: RuntimeWarning: invalid value encountered in greater\n",
      "  import sys\n"
     ]
    },
    {
     "data": {
      "text/html": [
       "<div>\n",
       "<style scoped>\n",
       "    .dataframe tbody tr th:only-of-type {\n",
       "        vertical-align: middle;\n",
       "    }\n",
       "\n",
       "    .dataframe tbody tr th {\n",
       "        vertical-align: top;\n",
       "    }\n",
       "\n",
       "    .dataframe thead th {\n",
       "        text-align: right;\n",
       "    }\n",
       "</style>\n",
       "<table border=\"1\" class=\"dataframe\">\n",
       "  <thead>\n",
       "    <tr style=\"text-align: right;\">\n",
       "      <th></th>\n",
       "      <th>accepted</th>\n",
       "    </tr>\n",
       "  </thead>\n",
       "  <tbody>\n",
       "  </tbody>\n",
       "</table>\n",
       "</div>"
      ],
      "text/plain": [
       "Empty DataFrame\n",
       "Columns: [accepted]\n",
       "Index: []"
      ]
     },
     "execution_count": 100,
     "metadata": {},
     "output_type": "execute_result"
    }
   ],
   "source": [
    "import pandas as pd\n",
    "alpha = .05\n",
    "pdx = pd.DataFrame(columns = ['accepted'])\n",
    "for i in range(2000):\n",
    "    X = np.random.normal(0,1,1000)\n",
    "    alpha = st.norm.ppf(alpha)\n",
    "    summer = np.sum(abs(X) > abs(alpha))\n",
    "    pdx['accepted']= summer\n",
    "pdx[pdx['accepted'] > 0]"
   ]
  },
  {
   "cell_type": "markdown",
   "metadata": {},
   "source": [
    "(b) Perform hypothesis testing on $ X $ using $ \\alpha = 0.05 $ and apply the Bonferroni correction. Repeat this process 2000 times. What is the ratio of times in which at least one sample in $ X $ is falsely rejected?"
   ]
  },
  {
   "cell_type": "code",
   "execution_count": null,
   "metadata": {},
   "outputs": [],
   "source": [
    "##Did not get a chance to finish before deadline"
   ]
  },
  {
   "cell_type": "markdown",
   "metadata": {},
   "source": [
    "(c) For all $ \\alpha $ values peform testing on $ X $ and $ Y $, with and without using the Bonferroni correction. Repeat the process 2000 times and average results. Plot the ROC curves on the separate plots. \n",
    "\n",
    "hint: what is $ m $, the number of experiments?"
   ]
  },
  {
   "cell_type": "code",
   "execution_count": null,
   "metadata": {},
   "outputs": [],
   "source": [
    "##Did not get a chance to finish before deadline"
   ]
  },
  {
   "cell_type": "markdown",
   "metadata": {},
   "source": [
    "# Question 3\n",
    "\n",
    "$$\n",
    "\\begin{aligned}\n",
    "&X=\\left\\{X_i\\right\\}_{i=1}^{1000},\\:\\: X_i \\sim \\mathcal{N}(0, 1)\\\\\n",
    "&Y=\\left\\{Y_i\\right\\}_{i=1}^{1000},\\:\\: Y_i \\sim \\mathcal{N}(1, 1)\\\\\n",
    "\\end{aligned}\n",
    "$$"
   ]
  },
  {
   "cell_type": "markdown",
   "metadata": {},
   "source": [
    "(a) Use the given implementation of the Benjamini-Hochberg (BH) procedure. For $ \\alpha = 0.05 $ compute the FDR with and without the BH procedure. Repeat 2000 times. What is the FDR with and without correction? What is the average number of true detections?\n",
    "\n",
    "Bonus: what are these values for the Bonferroni correction?"
   ]
  },
  {
   "cell_type": "code",
   "execution_count": null,
   "metadata": {},
   "outputs": [],
   "source": [
    "def BH_procedure(X, Y, alpha=0.05):\n",
    "    '''\n",
    "    receive two row vectors X and Y and a significance level alpha. \n",
    "    null hypotheses is that all samples are drawn from N(0, 1).\n",
    "    X is assumed to be sampled from H0 and Y sampled from H1 (mu>0)\n",
    "    \n",
    "    :param X: numpy row vector\n",
    "    :param Y: numpy row vector\n",
    "    \n",
    "    :returns discovery_count: number of rejected null hypotheses\n",
    "    :returns false_discovery_count: number of rejected null hypotheses\n",
    "    ''' \n",
    "    \n",
    "    pvals = 1 - norm.cdf(np.hstack((X, Y)))\n",
    "    sort_inds = np.argsort(pvals)[::-1]\n",
    "    \n",
    "    m = X.size + Y.size\n",
    "    \n",
    "    for ind, sort_ind in enumerate(sort_inds):\n",
    "        if pvals[sort_ind] <= float(m - ind)/(m) * alpha:\n",
    "            break\n",
    "            \n",
    "    discovery_count = m - ind\n",
    "    false_discovery_count = np.sum(sort_inds[ind:] < X.size - 1)\n",
    "    \n",
    "    return discovery_count, false_discovery_count"
   ]
  },
  {
   "cell_type": "code",
   "execution_count": null,
   "metadata": {},
   "outputs": [],
   "source": []
  },
  {
   "cell_type": "markdown",
   "metadata": {},
   "source": [
    "(b) Repeat Question 2 (c) with the BH procedure correction instead of Bonferroni.\n",
    "\n",
    "Bonus: compare against result for Bonferroni"
   ]
  },
  {
   "cell_type": "code",
   "execution_count": null,
   "metadata": {},
   "outputs": [],
   "source": []
  }
 ],
 "metadata": {
  "kernelspec": {
   "display_name": "Python 3",
   "language": "python",
   "name": "python3"
  },
  "language_info": {
   "codemirror_mode": {
    "name": "ipython",
    "version": 3
   },
   "file_extension": ".py",
   "mimetype": "text/x-python",
   "name": "python",
   "nbconvert_exporter": "python",
   "pygments_lexer": "ipython3",
   "version": "3.7.0"
  }
 },
 "nbformat": 4,
 "nbformat_minor": 1
}
