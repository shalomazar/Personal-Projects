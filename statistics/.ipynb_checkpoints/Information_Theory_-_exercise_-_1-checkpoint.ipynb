{
 "cells": [
  {
   "cell_type": "markdown",
   "metadata": {},
   "source": [
    "# Question 1\n",
    "load data is_sleepy.csv to a dataframe\n",
    "\n",
    "(a) what is the entropy of 'meal' "
   ]
  },
  {
   "cell_type": "code",
   "execution_count": 74,
   "metadata": {},
   "outputs": [
    {
     "name": "stdout",
     "output_type": "stream",
     "text": [
      "0.9426831892554922\n"
     ]
    }
   ],
   "source": [
    "import pandas as pd\n",
    "from scipy.stats import entropy\n",
    "import math\n",
    "\n",
    "pd = pd.read_csv(\"is_sleepy.csv\")\n",
    "\n",
    "def log2(x):\n",
    "    return math.log(x,2)\n",
    "\n",
    "def custom_entropy(col):\n",
    "    p = len(col.where(col == 1).dropna())/len(col)\n",
    "    return -1*p*log2(p) - ((1 - p)* log2(1 - p))\n",
    "\n",
    "def conditional_entropy(col1, col2):\n",
    "    a = custom_entropy(col1[col2 == 1]) * probability_col(col2)\n",
    "    b = custom_entropy(col1[col2 == 0]) * (1-probability_col(col2))\n",
    "    return a + b\n",
    "\n",
    "def probability_col(col):\n",
    "    return len(col.where(col == 1).dropna())/len(col)\n",
    "\n",
    "def probability_col_given(col1, col2):\n",
    "    col = col1.where(col2 == 1).dropna()\n",
    "    return len(col.where(col == 1).dropna())/len(col)\n",
    "\n",
    "def joint_dist(col1, col2, df):\n",
    "    col = col1.where(col2 == 1).dropna()\n",
    "    return len(col.where(col == 1).dropna())/len(df)\n",
    "\n",
    "\n",
    "meal_entropy = custom_entropy(pd.meal)\n",
    "print(meal_entropy)\n"
   ]
  },
  {
   "cell_type": "markdown",
   "metadata": {},
   "source": [
    "(b) what is the entropy of 'tired'"
   ]
  },
  {
   "cell_type": "code",
   "execution_count": 75,
   "metadata": {},
   "outputs": [
    {
     "name": "stdout",
     "output_type": "stream",
     "text": [
      "0.904381457724494\n"
     ]
    }
   ],
   "source": [
    "\n",
    "\n",
    "tired_entropy = custom_entropy(pd.tired)\n",
    "print(tired_entropy)"
   ]
  },
  {
   "cell_type": "markdown",
   "metadata": {},
   "source": [
    "(c) what is the conditional entropy of 'meal' given 'tired'"
   ]
  },
  {
   "cell_type": "code",
   "execution_count": 76,
   "metadata": {},
   "outputs": [
    {
     "name": "stdout",
     "output_type": "stream",
     "text": [
      "0.7871265862012691\n"
     ]
    }
   ],
   "source": [
    "meal_given_tired = pd.meal.where(pd.tired == 1).dropna()\n",
    "meal_given_tired_entropy = custom_entropy(meal_given_tired)\n",
    "print(meal_given_tired_entropy)"
   ]
  },
  {
   "cell_type": "markdown",
   "metadata": {},
   "source": [
    "(d) look at the definition of mutual information from the lecture and answer\n",
    "\n",
    "$$ I(X;Y) \\overset{?}{=} I(Y;X) $$"
   ]
  },
  {
   "cell_type": "markdown",
   "metadata": {},
   "source": []
  },
  {
   "cell_type": "markdown",
   "metadata": {},
   "source": [
    "(e) compute \n",
    "$$ I(X;Y)=H(X)-H(X\\mid Y) $$\n",
    "and \n",
    "$$ I(Y;X)=H(Y)-H(Y\\mid X) $$\n",
    "for X=meal and Y=tired\n",
    "are they equal? do they satisfy \n",
    "$$ \\left\\|I(Y;X)-I(X;Y)\\right\\|<1\\cdot 10^{-15} $$"
   ]
  },
  {
   "cell_type": "code",
   "execution_count": 81,
   "metadata": {},
   "outputs": [
    {
     "name": "stdout",
     "output_type": "stream",
     "text": [
      "I(Y;X) = I(X;Y) are equal\n"
     ]
    }
   ],
   "source": [
    "\n",
    "x = pd.meal\n",
    "y = pd.tired\n",
    "\n",
    "hxy = conditional_entropy(x,y)\n",
    "hyx = conditional_entropy(y,x)\n",
    "ixy = custom_entropy(x) - hxy\n",
    "iyx = custom_entropy(y) - hyx\n",
    "\n",
    "\n",
    "if abs(iyx - ixy) < 10**(-15):\n",
    "    print(\"I(Y;X) = I(X;Y) are equal\")\n",
    "else:\n",
    "    print(\"I(Y;X) = I(X;Y) are not equal\")"
   ]
  },
  {
   "cell_type": "markdown",
   "metadata": {},
   "source": [
    "# Question 2\n",
    "use the same data from question 1. our target is to predict sleepy column using the other columns\n",
    "\n",
    "(a) what is the optimal question for the data $ qa $ using the information gain criterion?"
   ]
  },
  {
   "cell_type": "markdown",
   "metadata": {},
   "source": [
    "Optimal question is asking about tiredness"
   ]
  },
  {
   "cell_type": "code",
   "execution_count": 90,
   "metadata": {},
   "outputs": [
    {
     "name": "stdout",
     "output_type": "stream",
     "text": [
      "Insight about tired from sleepy: 0.1550221871551789\n",
      "Insight about meal from sleepy: 0.03410217068156207\n",
      "Insight about exercise from sleepy: 0.0017863578091161791\n"
     ]
    }
   ],
   "source": [
    "print(\"Insight about tired from sleepy:\", custom_entropy(pd.sleepy) - conditional_entropy(pd.sleepy, pd.tired))\n",
    "print(\"Insight about meal from sleepy:\", custom_entropy(pd.sleepy) - conditional_entropy(pd.sleepy, pd.meal))\n",
    "print(\"Insight about exercise from sleepy:\", custom_entropy(pd.sleepy) - conditional_entropy(pd.sleepy, pd.exercise))"
   ]
  },
  {
   "cell_type": "markdown",
   "metadata": {},
   "source": [
    "(b) we segment the data as following\n",
    "\n",
    "\\begin{array}{|c|c|c|}\n",
    "\\hline\n",
    "\\boldsymbol{math} & \\boldsymbol{python} & \\textbf{in words} \\\\\n",
    "\\hline\n",
    "\\hline\n",
    "\\hline\n",
    "D_{1y} & D.qa==1 & qa\\text{ is yes}\\\\\n",
    "\\hline\n",
    "D_{1n} & D.qa==0 & qa\\text{ is no}\\\\\n",
    "\\hline\n",
    "\\end{array}\n",
    "\n",
    "\n",
    "you can now ask another question $ qb $\n",
    "you can ask it regarding $ D_{1y} $ or $ D_{1n} $\n",
    "\n",
    "What is the best question for $ D_{1y} $? What is the best question for $ D_{1n} $?"
   ]
  },
  {
   "cell_type": "markdown",
   "metadata": {},
   "source": [
    "Whether the answer is yes or no we get more insight from asking if he is exercising than asking if he had a meal"
   ]
  },
  {
   "cell_type": "code",
   "execution_count": 96,
   "metadata": {},
   "outputs": [
    {
     "name": "stdout",
     "output_type": "stream",
     "text": [
      "Insight about meal from sleepy given the person is tired: 0.00011420613134072166\n",
      "Insight about exercise from sleepy given the person is tired: 0.053981378495651766\n",
      "Insight about meal from sleepy given the person is not tired: 0.006855286754329559\n",
      "Insight about exercise from sleepy given the person is tired: 0.10584334459644862\n"
     ]
    }
   ],
   "source": [
    "dy = pd[pd.tired == 1]\n",
    "dn = pd[pd.tired == 0]\n",
    "\n",
    "print(\"Insight about meal from sleepy given the person is tired:\", custom_entropy(dy.sleepy) - conditional_entropy(dy.sleepy, dy.meal))\n",
    "print(\"Insight about exercise from sleepy given the person is tired:\", custom_entropy(dy.sleepy) - conditional_entropy(dy.sleepy, dy.exercise))\n",
    "\n",
    "print(\"Insight about meal from sleepy given the person is not tired:\", custom_entropy(dn.sleepy) - conditional_entropy(dn.sleepy, dn.meal))\n",
    "print(\"Insight about exercise from sleepy given the person is tired:\", custom_entropy(dn.sleepy) - conditional_entropy(dn.sleepy, dn.exercise))"
   ]
  },
  {
   "cell_type": "markdown",
   "metadata": {},
   "source": [
    "**Bonus**\n",
    "\n",
    "(c) if you can only ask the question $ q2 $ for either $ D_{1y} $ or $ D_{1n} $, which one should you choose?"
   ]
  },
  {
   "cell_type": "markdown",
   "metadata": {},
   "source": [
    "I would answer D1n becuase it gives us more insight that D1y"
   ]
  },
  {
   "cell_type": "code",
   "execution_count": null,
   "metadata": {},
   "outputs": [],
   "source": []
  }
 ],
 "metadata": {
  "kernelspec": {
   "display_name": "Python 3",
   "language": "python",
   "name": "python3"
  },
  "language_info": {
   "codemirror_mode": {
    "name": "ipython",
    "version": 3
   },
   "file_extension": ".py",
   "mimetype": "text/x-python",
   "name": "python",
   "nbconvert_exporter": "python",
   "pygments_lexer": "ipython3",
   "version": "3.7.0"
  }
 },
 "nbformat": 4,
 "nbformat_minor": 1
}
