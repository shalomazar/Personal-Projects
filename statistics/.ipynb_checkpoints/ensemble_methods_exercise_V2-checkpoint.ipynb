{
 "cells": [
  {
   "cell_type": "markdown",
   "metadata": {},
   "source": [
    "# Q1\n",
    "(a) generate data from two classes as following:\n",
    "- X1 = samp1(n)\n",
    "- X2 = samp2(n)\n",
    "\n",
    "choose n to be 50"
   ]
  },
  {
   "cell_type": "code",
   "execution_count": 269,
   "metadata": {},
   "outputs": [],
   "source": [
    "import numpy as np\n",
    "\n",
    "def noise_samples(samples, required_sample_num, random_gen=np.random.normal, params=dict(loc=0.0, scale=0.2)):\n",
    "    \"\"\"\n",
    "    return required_sample_num sample by creating \"noised\" data around the original samples\n",
    "    :param samples: original samples\n",
    "    :param required_sample_num: number of samples needed\n",
    "    :param random_gen: random generator. default np.random.normal\n",
    "    :param params: parameters for random generator. default loc (mean) = 0.0 and scale (std) = 0.2\n",
    "    \"\"\"\n",
    "    delta_sample_num = required_sample_num - samples.shape[0]\n",
    "    assert delta_sample_num > 0\n",
    "    centers = samples[np.random.choice(samples.shape[0], delta_sample_num, True)]\n",
    "    params.update(dict(size=(delta_sample_num, samples.shape[1])))\n",
    "    random_samples = centers + random_gen(**params)\n",
    "    return np.vstack((samples, random_samples))\n",
    "\n",
    "def samp1(n):\n",
    "    \"\"\"\n",
    "    return n 2D samples from class 1\n",
    "    :param n: number of samples\n",
    "    :returns X: an ndarray with shape (n, 2)\n",
    "    \"\"\"\n",
    "    m = np.array([\n",
    "        [0.8, 1],\n",
    "        [0.5, 2],\n",
    "        [2.2, 3.3],\n",
    "        [3, 5],\n",
    "        [3.4, 4.2],\n",
    "        [3.4, 1.9]\n",
    "    ])\n",
    "    return noise_samples(m, n)\n",
    "\n",
    "\n",
    "def samp2(n):\n",
    "    \"\"\"\n",
    "    return n 2D samples from class 2\n",
    "    :param n: number of samples\n",
    "    :returns X: an ndarray with shape (n, 2)\n",
    "    \"\"\"\n",
    "    m = np.array([\n",
    "        [1.5, 0.5],\n",
    "        [1.7, 2.2],\n",
    "        [2.3, 2],\n",
    "        [4.3, 2.1],\n",
    "        [4.3, 4.6],\n",
    "    ])\n",
    "    return noise_samples(m, n)\n",
    "\n"
   ]
  },
  {
   "cell_type": "code",
   "execution_count": 270,
   "metadata": {},
   "outputs": [],
   "source": [
    "n = 50\n",
    "X1 = samp1(n)\n",
    "X2 = samp2(n)"
   ]
  },
  {
   "cell_type": "markdown",
   "metadata": {},
   "source": [
    "(b) draw scatter plot of X1 and X2 and mark them by different colors"
   ]
  },
  {
   "cell_type": "code",
   "execution_count": 271,
   "metadata": {},
   "outputs": [
    {
     "data": {
      "image/png": "[encoded data removed]",
      "text/plain": [
       "<Figure size 432x288 with 1 Axes>"
      ]
     },
     "metadata": {
      "needs_background": "light"
     },
     "output_type": "display_data"
    }
   ],
   "source": [
    "import matplotlib.pyplot as plt\n",
    "\n",
    "colors = [\"green\",\"blue\"]\n",
    "xs = [X1, X2]\n",
    "for ind, c in enumerate(colors):\n",
    "    plt.scatter(xs[ind][:,0], xs[ind][:,1], color=c)\n",
    "plt.show()"
   ]
  },
  {
   "cell_type": "markdown",
   "metadata": {},
   "source": [
    "(c) create vectors of labels for X1 and X2 (Y1, Y2 respectively) using np.ones((n)) and -np.ones((n))"
   ]
  },
  {
   "cell_type": "code",
   "execution_count": 272,
   "metadata": {},
   "outputs": [],
   "source": [
    "n = 50\n",
    "Y1 = np.ones((n))\n",
    "Y2 = -np.ones((n))"
   ]
  },
  {
   "cell_type": "markdown",
   "metadata": {},
   "source": [
    "(d) create data matrix X by vertically concatenating X1 and X2. create label vector Y by vertical concatenating Y1 and Y2."
   ]
  },
  {
   "cell_type": "code",
   "execution_count": 273,
   "metadata": {},
   "outputs": [],
   "source": [
    "X = np.concatenate((X1, X2), axis=0)\n",
    "Y = np.concatenate((Y1, Y2), axis=0)"
   ]
  },
  {
   "cell_type": "markdown",
   "metadata": {},
   "source": [
    "(e) call function train_lin_classifier with arguments X and Y to get a axis aligned linear classifier."
   ]
  },
  {
   "cell_type": "code",
   "execution_count": 277,
   "metadata": {},
   "outputs": [],
   "source": [
    "from sklearn import svm\n",
    "from sklearn.tree import DecisionTreeClassifier\n",
    "\n",
    "def train_axis_aligned_lin_classifier(X_, Y_, weights=None, md=1):\n",
    "    \"\"\"\n",
    "    axis aligned linear classifier parallel to either the of the axes\n",
    "    :param X_: data - numpy array (n_samples, n_features)\n",
    "    :param Y_: labels - numpy array (n_samples, )\n",
    "    :param weights: sample weights - numpy array (n_samples, )\n",
    "    :returns w: coefficient - numpy array (n_features, 1)\n",
    "    :returns b: intercept - scalar\n",
    "    \"\"\"\n",
    "    clf = DecisionTreeClassifier(max_depth=md)\n",
    "    clf.fit(X_, Y_, sample_weight=weights)\n",
    "    w = np.zeros((2, 1))\n",
    "    w[clf.tree_.feature[0]] = 1\n",
    "    b = -clf.tree_.threshold[0]\n",
    "    return w, b"
   ]
  },
  {
   "cell_type": "code",
   "execution_count": 278,
   "metadata": {},
   "outputs": [
    {
     "name": "stdout",
     "output_type": "stream",
     "text": [
      "[[1.]\n",
      " [0.]] -3.8158475160598755\n"
     ]
    }
   ],
   "source": [
    "w, b = train_axis_aligned_lin_classifier(X,Y)\n",
    "print(w, b)"
   ]
  },
  {
   "cell_type": "markdown",
   "metadata": {},
   "source": [
    "(f) in the next cell you will find a plotting function for binary classification results\n",
    "- add an informative title including the fraction of correct prediction to all predictions i.e. accuracy\n",
    "- complete the required classification function using the results from traing the axis aligned linear classifier\n",
    "- run the cell and observe the results\n"
   ]
  },
  {
   "cell_type": "code",
   "execution_count": 279,
   "metadata": {},
   "outputs": [
    {
     "data": {
      "image/png": "[encoded data removed]",
      "text/plain": [
       "<Figure size 432x288 with 1 Axes>"
      ]
     },
     "metadata": {
      "needs_background": "light"
     },
     "output_type": "display_data"
    }
   ],
   "source": [
    "# meshgrid for plotting decision function\n",
    "h = .02\n",
    "x_min, x_max = X[:, 0].min() - .5, X[:, 0].max() + .5\n",
    "y_min, y_max = X[:, 1].min() - .5, X[:, 1].max() + .5\n",
    "xx, yy = np.meshgrid(np.arange(x_min, x_max, h),\n",
    "                         np.arange(y_min, y_max, h))\n",
    "zz = np.c_[xx.ravel(), yy.ravel()]\n",
    "\n",
    "def classification_fun(x_test, w, b):\n",
    "    labels = x_test @ w + b\n",
    "    out = np.array([1 if item > 0 else -1 for item in labels])\n",
    "    return out\n",
    "##\n",
    "\n",
    "def show_results(X, Y, w, b, classification_fun, title_suffix=''):\n",
    "    hits = (classification_fun(X, w, b) == Y)\n",
    "    x1_hits = (Y==1)*hits\n",
    "    x1_misses = (Y==1)*(hits==False)\n",
    "    x2_hits = (Y==-1)*hits\n",
    "    x2_misses = (Y==-1)*(hits==False)\n",
    "\n",
    "    plt.figure()\n",
    "    plt.scatter(X[x1_hits, 0], X[x1_hits, 1], c='r', marker='o')\n",
    "    plt.scatter(X[x1_misses, 0], X[x1_misses, 1], c='r', marker='+')\n",
    "    plt.scatter(X[x2_hits, 0], X[x2_hits, 1], c='g', marker='o')\n",
    "    plt.scatter(X[x2_misses, 0], X[x2_misses, 1], c='g', marker='+')\n",
    "    plt.contourf(xx, yy, classification_fun(zz, w, b).reshape(xx.shape), cmap=plt.cm.RdYlGn_r, alpha=0.2)\n",
    "    pass\n",
    "    ##\n",
    "    plt.show()\n",
    "\n",
    "show_results(X, Y, w, b, class_fun)\n"
   ]
  },
  {
   "cell_type": "code",
   "execution_count": null,
   "metadata": {},
   "outputs": [],
   "source": []
  },
  {
   "cell_type": "code",
   "execution_count": null,
   "metadata": {},
   "outputs": [],
   "source": []
  },
  {
   "cell_type": "markdown",
   "metadata": {},
   "source": [
    "# Q2\n",
    "(a) implement bagging for the scenario described in question 1. try bagging with different numbers of bootstrap samples. plot scatter plots of your results"
   ]
  },
  {
   "cell_type": "code",
   "execution_count": 280,
   "metadata": {},
   "outputs": [],
   "source": [
    "def show_results_with_hit(X, Y, ypred, title_suffix=''):\n",
    "    hits = (ypred == Y)\n",
    "    x1_hits = (Y==1)*hits\n",
    "    x1_misses = (Y==1)*(hits==False)\n",
    "    x2_hits = (Y==-1)*hits\n",
    "    x2_misses = (Y==-1)*(hits==False)\n",
    "\n",
    "    plt.figure()\n",
    "    plt.scatter(X[x1_hits, 0], X[x1_hits, 1], c='r', marker='o')\n",
    "    plt.scatter(X[x1_misses, 0], X[x1_misses, 1], c='r', marker='+')\n",
    "    plt.scatter(X[x2_hits, 0], X[x2_hits, 1], c='g', marker='o')\n",
    "    plt.scatter(X[x2_misses, 0], X[x2_misses, 1], c='g', marker='+')\n",
    "    plt.contourf(xx, yy, classification_fun(zz, w, b).reshape(xx.shape), cmap=plt.cm.RdYlGn_r, alpha=0.2)\n",
    "    pass\n",
    "    ##\n",
    "    plt.show()"
   ]
  },
  {
   "cell_type": "code",
   "execution_count": 281,
   "metadata": {},
   "outputs": [],
   "source": [
    "from sklearn.model_selection import train_test_split\n",
    "\n",
    "X_train, X_test, y_train, y_test = train_test_split(X, Y, test_size=0.2)"
   ]
  },
  {
   "cell_type": "code",
   "execution_count": 282,
   "metadata": {},
   "outputs": [
    {
     "name": "stdout",
     "output_type": "stream",
     "text": [
      "accuracy rate: 0.66\n",
      "accuracy rate: 0.6\n",
      "accuracy rate: 0.58\n",
      "accuracy rate: 0.5\n",
      "accuracy rate: 0.57\n",
      "accuracy rate: 0.58\n",
      "accuracy rate: 0.46\n",
      "accuracy rate: 0.47\n",
      "accuracy rate: 0.64\n",
      "accuracy rate: 0.6\n",
      "accuracy rate: 0.45\n",
      "accuracy rate: 0.58\n",
      "accuracy rate: 0.56\n",
      "accuracy rate: 0.5\n",
      "accuracy rate: 0.36\n",
      "accuracy rate: 0.56\n",
      "accuracy rate: 0.55\n",
      "accuracy rate: 0.63\n",
      "accuracy rate: 0.62\n",
      "accuracy rate: 0.6\n",
      "accuracy rate: 0.48\n"
     ]
    }
   ],
   "source": [
    "def bagging(samples, X, Y):\n",
    "    y_total_pred = np.zeros(len(Y))\n",
    "    for n in range(samples):\n",
    "        rand = np.random.choice(a=len(X),size=3, replace=True)\n",
    "        xtrain = X[rand]\n",
    "        ytrain = Y[rand]\n",
    "        w, b = train_axis_aligned_lin_classifier(xtrain, ytrain)\n",
    "        ypred = classification_fun(X, w, b)\n",
    "        y_total_pred = np.add(y_total_pred, ypred)\n",
    "\n",
    "    \n",
    "    y_total_pred = np.divide(y_total_pred,samples)\n",
    "    y_total_pred = np.array([1 if item > 0 else -1 for item in y_total_pred])\n",
    "    final_hits = (y_total_pred == Y)\n",
    "    accuracy = np.sum(final_hits)/len(final_hits)\n",
    "    print(\"accuracy rate:\", accuracy)\n",
    "#     show_results_with_hit(X, Y, y_total_pred)\n",
    "    \n",
    "for r in range(4,25):\n",
    "    bagging(r, X, Y)"
   ]
  },
  {
   "cell_type": "code",
   "execution_count": 283,
   "metadata": {
    "scrolled": false
   },
   "outputs": [],
   "source": [
    "# run with different numbers of bootstrap samples"
   ]
  },
  {
   "cell_type": "markdown",
   "metadata": {},
   "source": [
    "(b) implement AdaBoost for the scenario described in question 1. try AdaBoost with different numbers of base classifiers. plot scatter plots of your results."
   ]
  },
  {
   "cell_type": "code",
   "execution_count": 295,
   "metadata": {},
   "outputs": [
    {
     "name": "stdout",
     "output_type": "stream",
     "text": [
      "------\n",
      "1 model accuracy rate: 0.68\n",
      "------\n",
      "2 model accuracy rate: 0.63\n",
      "------\n",
      "3 model accuracy rate: 0.88\n",
      "------\n",
      "4 model accuracy rate: 0.88\n",
      "------\n",
      "5 model accuracy rate: 0.9\n",
      "------\n",
      "6 model accuracy rate: 0.89\n",
      "------\n",
      "7 model accuracy rate: 0.96\n",
      "------\n",
      "8 model accuracy rate: 0.94\n",
      "------\n",
      "9 model accuracy rate: 0.89\n",
      "------\n",
      "10 model accuracy rate: 0.96\n",
      "------\n",
      "11 model accuracy rate: 0.9\n",
      "------\n",
      "12 model accuracy rate: 0.97\n",
      "------\n",
      "13 model accuracy rate: 0.96\n",
      "------\n",
      "14 model accuracy rate: 0.98\n",
      "------\n",
      "15 model accuracy rate: 0.96\n",
      "------\n",
      "16 model accuracy rate: 0.98\n",
      "------\n",
      "17 model accuracy rate: 0.97\n",
      "------\n",
      "18 model accuracy rate: 0.98\n",
      "------\n",
      "19 model accuracy rate: 0.98\n",
      "------\n",
      "20 model accuracy rate: 0.97\n",
      "------\n",
      "21 model accuracy rate: 0.99\n",
      "------\n",
      "22 model accuracy rate: 0.97\n",
      "------\n",
      "23 model accuracy rate: 0.97\n",
      "------\n",
      "24 model accuracy rate: 0.97\n"
     ]
    }
   ],
   "source": [
    "import math\n",
    "\n",
    "def adaboost(samples, X, Y):\n",
    "    y_total_pred = np.zeros(len(Y))\n",
    "    weights = np.ones(len(X))/len(X)\n",
    "    alphas = []\n",
    "    total_alpha_pred = np.zeros(len(X))\n",
    "    for n in range(samples):\n",
    "        w, b = train_axis_aligned_lin_classifier(X,Y, weights)\n",
    "        labels = X @ w + b\n",
    "        ypred = np.array([1 if item > 0 else -1 for item in labels])\n",
    "        hits = (ypred != Y)\n",
    "        error = (weights @ hits)/np.sum(weights)\n",
    "        alpha = .5*math.log((1-error)/error)\n",
    "        total_alpha_pred = np.add(total_alpha_pred,alpha*ypred)\n",
    "        weights = weights*(np.exp((-alpha*Y)*(ypred)))\n",
    "        weights = weights/(np.sum(weights))\n",
    "\n",
    "    \n",
    "    final_pred = np.sign(total_alpha_pred)\n",
    "    final_hits = (final_pred == Y)\n",
    "    print(\"------\")\n",
    "    accuracy = np.sum(final_hits)/len(final_hits)\n",
    "    print(samples, \"model accuracy rate:\", accuracy)\n",
    "    \n",
    "\n",
    "#     show_results_with_hit(X, Y, y_total_pred)\n",
    "    \n",
    "for r in range(1,25):\n",
    "    adaboost(r, X, Y)"
   ]
  },
  {
   "cell_type": "code",
   "execution_count": 287,
   "metadata": {
    "scrolled": false
   },
   "outputs": [],
   "source": [
    "# run with different numbers of base classifiers"
   ]
  },
  {
   "cell_type": "markdown",
   "metadata": {},
   "source": [
    "# Q3\n",
    "(a) whats wrong with the learning procedure we performed in question 1?"
   ]
  },
  {
   "cell_type": "markdown",
   "metadata": {},
   "source": [
    "its a linear classifier but the data is clearly not linear"
   ]
  },
  {
   "cell_type": "markdown",
   "metadata": {},
   "source": [
    "(b) [bonus] why is this violation not as severe for the procedure you performed in question 2.a?"
   ]
  },
  {
   "cell_type": "markdown",
   "metadata": {},
   "source": [
    "your words here.."
   ]
  },
  {
   "cell_type": "markdown",
   "metadata": {},
   "source": [
    "(c) can you tell what is the ideal number of base classifiers for boosting in this case? do you need to specify it in advance?"
   ]
  },
  {
   "cell_type": "markdown",
   "metadata": {},
   "source": [
    "No matter what the number of classifiers are, there seems to be around a 50% accuracy rate"
   ]
  },
  {
   "cell_type": "markdown",
   "metadata": {},
   "source": [
    "(d) can you suggest a modification to bagging to make it perform better in this case? explain your idea, implement your suggestion and plot the results."
   ]
  },
  {
   "cell_type": "markdown",
   "metadata": {},
   "source": [
    "What really needs to be done is to use different types of classifiers, because a linear classifier will always give you the same results"
   ]
  },
  {
   "cell_type": "code",
   "execution_count": 297,
   "metadata": {},
   "outputs": [
    {
     "name": "stdout",
     "output_type": "stream",
     "text": [
      "4 model accuracy rate: 0.52\n",
      "5 model accuracy rate: 0.58\n",
      "6 model accuracy rate: 0.55\n",
      "7 model accuracy rate: 0.58\n",
      "8 model accuracy rate: 0.54\n",
      "9 model accuracy rate: 0.5\n",
      "10 model accuracy rate: 0.58\n",
      "11 model accuracy rate: 0.58\n",
      "12 model accuracy rate: 0.6\n",
      "13 model accuracy rate: 0.41\n",
      "14 model accuracy rate: 0.58\n",
      "15 model accuracy rate: 0.35\n",
      "16 model accuracy rate: 0.55\n",
      "17 model accuracy rate: 0.58\n",
      "18 model accuracy rate: 0.58\n",
      "19 model accuracy rate: 0.45\n",
      "20 model accuracy rate: 0.62\n",
      "21 model accuracy rate: 0.63\n",
      "22 model accuracy rate: 0.58\n",
      "23 model accuracy rate: 0.47\n",
      "24 model accuracy rate: 0.57\n"
     ]
    }
   ],
   "source": [
    "def bagging(samples, X, Y):\n",
    "    y_total_pred = np.zeros(len(Y))\n",
    "    for n in range(samples):\n",
    "        rand = np.random.choice(a=len(X),size=3, replace=True)\n",
    "        xtrain = X[rand]\n",
    "        ytrain = Y[rand]\n",
    "        w, b = train_axis_aligned_lin_classifier(xtrain, ytrain, md=n+1)\n",
    "        ypred = classification_fun(X, w, b)\n",
    "        y_total_pred = np.add(y_total_pred, ypred)\n",
    "\n",
    "    \n",
    "    y_total_pred = np.divide(y_total_pred,samples)\n",
    "    y_total_pred = np.array([1 if item > 0 else -1 for item in y_total_pred])\n",
    "    final_hits = (y_total_pred == Y)\n",
    "    accuracy = np.sum(final_hits)/len(final_hits)\n",
    "    print(samples, \"model accuracy rate:\", accuracy)\n",
    "#     show_results_with_hit(X, Y, y_total_pred)\n",
    "    \n",
    "for r in range(4,25):\n",
    "    bagging(r, X, Y)"
   ]
  },
  {
   "cell_type": "code",
   "execution_count": null,
   "metadata": {
    "scrolled": false
   },
   "outputs": [],
   "source": [
    "# run and plot results"
   ]
  }
 ],
 "metadata": {
  "kernelspec": {
   "display_name": "Python 3",
   "language": "python",
   "name": "python3"
  },
  "language_info": {
   "codemirror_mode": {
    "name": "ipython",
    "version": 3
   },
   "file_extension": ".py",
   "mimetype": "text/x-python",
   "name": "python",
   "nbconvert_exporter": "python",
   "pygments_lexer": "ipython3",
   "version": "3.7.0"
  }
 },
 "nbformat": 4,
 "nbformat_minor": 2
}
