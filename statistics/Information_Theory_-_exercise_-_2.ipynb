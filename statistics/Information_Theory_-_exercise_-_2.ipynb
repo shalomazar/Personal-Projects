{
 "cells": [
  {
   "cell_type": "markdown",
   "metadata": {},
   "source": [
    "# Question 1\n",
    "load data is_sleepy.csv to a dataframe\n",
    "\n",
    "(a) what is the entropy of 'meal' "
   ]
  },
  {
   "cell_type": "code",
   "execution_count": null,
   "metadata": {},
   "outputs": [],
   "source": [
    "\n"
   ]
  },
  {
   "cell_type": "markdown",
   "metadata": {},
   "source": [
    "(b) what is the entropy of 'tired'"
   ]
  },
  {
   "cell_type": "code",
   "execution_count": null,
   "metadata": {},
   "outputs": [],
   "source": []
  },
  {
   "cell_type": "markdown",
   "metadata": {},
   "source": [
    "(c) what is the conditional entropy of 'meal' given 'tired'"
   ]
  },
  {
   "cell_type": "code",
   "execution_count": null,
   "metadata": {},
   "outputs": [],
   "source": []
  },
  {
   "cell_type": "markdown",
   "metadata": {},
   "source": [
    "(d) look at the definition of mutual information from the lecture and answer\n",
    "\n",
    "$$ I(X;Y) \\overset{?}{=} I(Y;X) $$"
   ]
  },
  {
   "cell_type": "markdown",
   "metadata": {},
   "source": []
  },
  {
   "cell_type": "markdown",
   "metadata": {},
   "source": [
    "(e) compute \n",
    "$$ I(X;Y)=H(X)-H(X\\mid Y) $$\n",
    "and \n",
    "$$ I(Y;X)=H(Y)-H(Y\\mid X) $$\n",
    "for X=meal and Y=tired\n",
    "are they equal? do they satisfy \n",
    "$$ \\left\\|I(Y;X)-I(X;Y)\\right\\|<1\\cdot 10^{-15} $$"
   ]
  },
  {
   "cell_type": "code",
   "execution_count": null,
   "metadata": {},
   "outputs": [],
   "source": []
  },
  {
   "cell_type": "markdown",
   "metadata": {},
   "source": [
    "# Question 2\n",
    "use the same data from question 1. our target is to predict sleepy column using the other columns\n",
    "\n",
    "(a) what is the optimal question for the data $ qa $ using the information gain criterion?"
   ]
  },
  {
   "cell_type": "code",
   "execution_count": null,
   "metadata": {},
   "outputs": [],
   "source": []
  },
  {
   "cell_type": "markdown",
   "metadata": {},
   "source": [
    "(b) we segment the data as following\n",
    "\n",
    "\\begin{array}{|c|c|c|}\n",
    "\\hline\n",
    "\\boldsymbol{math} & \\boldsymbol{python} & \\textbf{in words} \\\\\n",
    "\\hline\n",
    "\\hline\n",
    "\\hline\n",
    "D_{1y} & D.qa==1 & qa\\text{ is yes}\\\\\n",
    "\\hline\n",
    "D_{1n} & D.qa==0 & qa\\text{ is no}\\\\\n",
    "\\hline\n",
    "\\end{array}\n",
    "\n",
    "\n",
    "you can now ask another question $ qb $\n",
    "you can ask it regarding $ D_{1y} $ or $ D_{1n} $\n",
    "\n",
    "What is the best question for $ D_{1y} $? What is the best question for $ D_{1n} $?"
   ]
  },
  {
   "cell_type": "code",
   "execution_count": null,
   "metadata": {},
   "outputs": [],
   "source": []
  },
  {
   "cell_type": "markdown",
   "metadata": {},
   "source": [
    "**Bonus**\n",
    "\n",
    "(c) if you can only ask the question $ q2 $ for either $ D_{1y} $ or $ D_{1n} $, which one should you choose?"
   ]
  },
  {
   "cell_type": "code",
   "execution_count": null,
   "metadata": {},
   "outputs": [],
   "source": []
  }
 ],
 "metadata": {
  "kernelspec": {
   "display_name": "Python 2",
   "language": "python",
   "name": "python2"
  },
  "language_info": {
   "codemirror_mode": {
    "name": "ipython",
    "version": 2
   },
   "file_extension": ".py",
   "mimetype": "text/x-python",
   "name": "python",
   "nbconvert_exporter": "python",
   "pygments_lexer": "ipython2",
   "version": "2.7.15"
  }
 },
 "nbformat": 4,
 "nbformat_minor": 1
}
