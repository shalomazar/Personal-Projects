{
 "cells": [
  {
   "cell_type": "markdown",
   "metadata": {},
   "source": [
    "# Question 1\n",
    "load data is_sleepy.csv to a dataframe\n",
    "\n",
    "(a) what is the entropy of 'meal' "
   ]
  },
  {
   "cell_type": "code",
   "execution_count": 2,
   "metadata": {},
   "outputs": [
    {
     "data": {
      "text/html": [
       "<div>\n",
       "<style scoped>\n",
       "    .dataframe tbody tr th:only-of-type {\n",
       "        vertical-align: middle;\n",
       "    }\n",
       "\n",
       "    .dataframe tbody tr th {\n",
       "        vertical-align: top;\n",
       "    }\n",
       "\n",
       "    .dataframe thead th {\n",
       "        text-align: right;\n",
       "    }\n",
       "</style>\n",
       "<table border=\"1\" class=\"dataframe\">\n",
       "  <thead>\n",
       "    <tr style=\"text-align: right;\">\n",
       "      <th></th>\n",
       "      <th>Unnamed: 0</th>\n",
       "      <th>meal</th>\n",
       "      <th>tired</th>\n",
       "      <th>exercise</th>\n",
       "      <th>sleepy</th>\n",
       "    </tr>\n",
       "  </thead>\n",
       "  <tbody>\n",
       "    <tr>\n",
       "      <th>0</th>\n",
       "      <td>0</td>\n",
       "      <td>0</td>\n",
       "      <td>1</td>\n",
       "      <td>1</td>\n",
       "      <td>0</td>\n",
       "    </tr>\n",
       "    <tr>\n",
       "      <th>1</th>\n",
       "      <td>1</td>\n",
       "      <td>1</td>\n",
       "      <td>1</td>\n",
       "      <td>0</td>\n",
       "      <td>0</td>\n",
       "    </tr>\n",
       "    <tr>\n",
       "      <th>2</th>\n",
       "      <td>2</td>\n",
       "      <td>0</td>\n",
       "      <td>0</td>\n",
       "      <td>1</td>\n",
       "      <td>0</td>\n",
       "    </tr>\n",
       "    <tr>\n",
       "      <th>3</th>\n",
       "      <td>3</td>\n",
       "      <td>0</td>\n",
       "      <td>1</td>\n",
       "      <td>1</td>\n",
       "      <td>0</td>\n",
       "    </tr>\n",
       "    <tr>\n",
       "      <th>4</th>\n",
       "      <td>4</td>\n",
       "      <td>0</td>\n",
       "      <td>1</td>\n",
       "      <td>1</td>\n",
       "      <td>0</td>\n",
       "    </tr>\n",
       "  </tbody>\n",
       "</table>\n",
       "</div>"
      ],
      "text/plain": [
       "   Unnamed: 0  meal  tired  exercise  sleepy\n",
       "0           0     0      1         1       0\n",
       "1           1     1      1         0       0\n",
       "2           2     0      0         1       0\n",
       "3           3     0      1         1       0\n",
       "4           4     0      1         1       0"
      ]
     },
     "execution_count": 2,
     "metadata": {},
     "output_type": "execute_result"
    }
   ],
   "source": [
    "import pandas as pd\n",
    "import numpy as np\n",
    "\n",
    "df = pd.read_csv('is_sleepy.csv')\n",
    "df.head()"
   ]
  },
  {
   "cell_type": "markdown",
   "metadata": {},
   "source": [
    "(b) what is the entropy of 'tired'"
   ]
  },
  {
   "attachments": {
    "image.png": {
     "image/png": "[encoded data removed]"
    }
   },
   "cell_type": "markdown",
   "metadata": {},
   "source": [
    "![image.png](attachment:image.png)"
   ]
  },
  {
   "cell_type": "code",
   "execution_count": 3,
   "metadata": {},
   "outputs": [
    {
     "name": "stdout",
     "output_type": "stream",
     "text": [
      "Entropy of meal: 0.9426831893\n",
      "Entropy of tired: 0.9043814577\n"
     ]
    }
   ],
   "source": [
    "from scipy.stats import entropy\n",
    "\n",
    "def find_entropy(a):\n",
    "    return entropy(a.value_counts()/len(a), base=2)\n",
    "\n",
    "probs_meal = df.meal.value_counts()/len(df)\n",
    "probs_tired = df.tired.value_counts()/len(df)\n",
    "\n",
    "print('Entropy of meal: {0:.10f}'.format(find_entropy(df.meal)))\n",
    "print('Entropy of tired: {0:.10f}'.format(find_entropy(df.tired)))"
   ]
  },
  {
   "cell_type": "markdown",
   "metadata": {},
   "source": [
    "(c) what is the conditional entropy of 'meal' given 'tired'"
   ]
  },
  {
   "attachments": {
    "image.png": {
     "image/png": "[encoded data removed]"
    }
   },
   "cell_type": "markdown",
   "metadata": {},
   "source": [
    "![image.png](attachment:image.png)"
   ]
  },
  {
   "cell_type": "code",
   "execution_count": 4,
   "metadata": {},
   "outputs": [],
   "source": [
    "def cond_ent(a,b):\n",
    "    # A given B\n",
    "    proba_b = b.value_counts()/len(df)\n",
    "    cond_ent = find_entropy(a[b==1])*proba_b[1] + find_entropy(a[b==0])*proba_b[0]\n",
    "    return cond_ent"
   ]
  },
  {
   "cell_type": "code",
   "execution_count": 5,
   "metadata": {},
   "outputs": [
    {
     "name": "stdout",
     "output_type": "stream",
     "text": [
      "Conditional probability of 'meal' given 'tired':0.841\n"
     ]
    }
   ],
   "source": [
    "print(\"Conditional probability of 'meal' given 'tired':{:.3f}\".format(cond_ent(df.meal, df.tired)))"
   ]
  },
  {
   "cell_type": "markdown",
   "metadata": {},
   "source": [
    "(d) look at the definition of mutual information from the lecture and answer\n",
    "\n",
    "$$ I(X;Y) \\overset{?}{=} I(Y;X) $$"
   ]
  },
  {
   "cell_type": "markdown",
   "metadata": {},
   "source": [
    "Given the definition for mutual information:\n",
    "\n",
    "$I(X;Y) = \\sum_{y \\in Y} \\sum_{x \\in X}\n",
    "  p(x,y) \\log{ \\left(\\frac{p(x,y)}{p(x)\\,p(y)}\n",
    "  \\right) }$,\n",
    "\n",
    "it follows from rearrangement of the summands:\n",
    "\n",
    "$I(Y; X) =\n",
    "  \\sum_{x \\in X} \\sum_{y \\in Y}\n",
    "  p(x,y) \\log{ \\left(\\frac{p(x,y)}{p(x)\\,p(y)}\n",
    "  \\right) }$\n",
    "  \n",
    "Hence I(X;Y)=I(Y;X)."
   ]
  },
  {
   "cell_type": "markdown",
   "metadata": {},
   "source": [
    "(e) compute \n",
    "$$ I(X;Y)=H(X)-H(X\\mid Y) $$\n",
    "and \n",
    "$$ I(Y;X)=H(Y)-H(Y\\mid X) $$\n",
    "for X=meal and Y=tired\n",
    "are they equal? do they satisfy \n",
    "$$ \\left\\|I(Y;X)-I(X;Y)\\right\\|<1\\cdot 10^{-15} $$"
   ]
  },
  {
   "cell_type": "code",
   "execution_count": 45,
   "metadata": {},
   "outputs": [
    {
     "name": "stdout",
     "output_type": "stream",
     "text": [
      "Mutual informations I(X,Y) : 0.070714\n",
      "Mutual informations I(Y,X) : 0.070714\n"
     ]
    }
   ],
   "source": [
    "I_XY = find_entropy(df.tired) - cond_ent(df.tired, df.meal)\n",
    "I_YX = find_entropy(df.meal) - cond_ent(df.meal, df.tired)\n",
    "print('Mutual informations I(X,Y) : %f' %I_XY)\n",
    "print('Mutual informations I(Y,X) : %f' %I_YX)"
   ]
  },
  {
   "cell_type": "code",
   "execution_count": 46,
   "metadata": {},
   "outputs": [
    {
     "data": {
      "text/plain": [
       "True"
      ]
     },
     "execution_count": 46,
     "metadata": {},
     "output_type": "execute_result"
    }
   ],
   "source": [
    "np.linalg.norm(I_YX-I_XY) < 10**(-15) "
   ]
  },
  {
   "cell_type": "markdown",
   "metadata": {},
   "source": [
    "# Question 2\n",
    "use the same data from question 1. our target is to predict sleepy column using the other columns\n",
    "\n",
    "(a) what is the optimal question for the data $ qa $ using the information gain criterion?"
   ]
  },
  {
   "attachments": {
    "image.png": {
     "image/png": "[encoded data removed]"
    }
   },
   "cell_type": "markdown",
   "metadata": {},
   "source": [
    "Best question results in biggest drop in entropy. So we need to maximise the information criterion\n",
    "![image.png](attachment:image.png)"
   ]
  },
  {
   "cell_type": "code",
   "execution_count": 47,
   "metadata": {},
   "outputs": [
    {
     "name": "stdout",
     "output_type": "stream",
     "text": [
      "Information gathered from asking whether tired: 10.75%\n",
      "Information gathered from asking whether eaten: 2.36%\n",
      "Information gathered from asking whether exercised: 0.12%\n"
     ]
    }
   ],
   "source": [
    "info_gain_tired = find_entropy(df.sleepy) - cond_ent(df.sleepy, df.tired)\n",
    "info_gain_meal = find_entropy(df.sleepy) - cond_ent(df.sleepy, df.meal)\n",
    "info_gain_exercise = find_entropy(df.sleepy) - cond_ent(df.sleepy, df.exercise)\n",
    "\n",
    "print('Information gathered from asking whether tired: {:.2%}'.format(info_gain_tired))\n",
    "print('Information gathered from asking whether eaten: {:.2%}'.format(info_gain_meal))\n",
    "print('Information gathered from asking whether exercised: {:.2%}'.format(info_gain_exercise))"
   ]
  },
  {
   "cell_type": "markdown",
   "metadata": {},
   "source": [
    "Therefore, most information gained from asking whether tired. Seems intuitive!"
   ]
  },
  {
   "cell_type": "markdown",
   "metadata": {},
   "source": [
    "(b) we segment the data as following\n",
    "\n",
    "\\begin{array}{|c|c|c|}\n",
    "\\hline\n",
    "\\boldsymbol{math} & \\boldsymbol{python} & \\textbf{in words} \\\\\n",
    "\\hline\n",
    "\\hline\n",
    "\\hline\n",
    "D_{1y} & D.qa==1 & qa\\text{ is yes}\\\\\n",
    "\\hline\n",
    "D_{1n} & D.qa==0 & qa\\text{ is no}\\\\\n",
    "\\hline\n",
    "\\end{array}\n",
    "\n",
    "\n",
    "you can now ask another question $ qb $\n",
    "you can ask it regarding $ D_{1y} $ or $ D_{1n} $\n",
    "\n",
    "What is the best question for $ D_{1y} $? What is the best question for $ D_{1n} $?"
   ]
  },
  {
   "cell_type": "code",
   "execution_count": 59,
   "metadata": {},
   "outputs": [
    {
     "name": "stdout",
     "output_type": "stream",
     "text": [
      "If answered 'yes' to tired, info gain from asking if eaten: 11.60%\n",
      "If answered 'yes' to tired, info gain from asking if exercised: 14.14%\n",
      "If answered 'no' to tired, info gain from asking if eaten: 46.75%\n",
      "If answered 'no' to tired, info gain from asking if exercised: 48.95%\n"
     ]
    }
   ],
   "source": [
    "#So, which is the next best question to ask, given their answer to 'are you tired'?\n",
    "\n",
    "#If answered 'yes'\n",
    "info_gain_meal = find_entropy(df[df.tired==1].sleepy) - cond_ent(df[df.tired==1].sleepy, df[df.tired==1].meal)\n",
    "info_gain_exercise = find_entropy(df[df.tired==1].sleepy) - cond_ent(df[df.tired==1].sleepy, df[df.tired==1].exercise)\n",
    "print(\"If answered 'yes' to tired, info gain from asking if eaten: {:.2%}\".format(info_gain_meal))\n",
    "print(\"If answered 'yes' to tired, info gain from asking if exercised: {:.2%}\".format(info_gain_exercise))\n",
    "\n",
    "#If answered 'no'\n",
    "info_gain_meal = find_entropy(df[df.tired==0].sleepy) - cond_ent(df[df.tired==0].sleepy, df[df.tired==0].meal)\n",
    "info_gain_exercise = find_entropy(df[df.tired==0].sleepy) - cond_ent(df[df.tired==0].sleepy, df[df.tired==0].exercise)\n",
    "print(\"If answered 'no' to tired, info gain from asking if eaten: {:.2%}\".format(info_gain_meal))\n",
    "print(\"If answered 'no' to tired, info gain from asking if exercised: {:.2%}\".format(info_gain_exercise))"
   ]
  },
  {
   "cell_type": "markdown",
   "metadata": {},
   "source": [
    "In both cases, asking whether they exercised yields the greatest information gain."
   ]
  },
  {
   "cell_type": "markdown",
   "metadata": {},
   "source": [
    "**Bonus**\n",
    "\n",
    "(c) if you can only ask the question $ q2 $ for either $ D_{1y} $ or $ D_{1n} $, which one should you choose?"
   ]
  },
  {
   "cell_type": "markdown",
   "metadata": {},
   "source": [
    "D1N, as this yields the greater information gain"
   ]
  }
 ],
 "metadata": {
  "kernelspec": {
   "display_name": "Python 3",
   "language": "python",
   "name": "python3"
  },
  "language_info": {
   "codemirror_mode": {
    "name": "ipython",
    "version": 3
   },
   "file_extension": ".py",
   "mimetype": "text/x-python",
   "name": "python",
   "nbconvert_exporter": "python",
   "pygments_lexer": "ipython3",
   "version": "3.7.0"
  }
 },
 "nbformat": 4,
 "nbformat_minor": 1
}
