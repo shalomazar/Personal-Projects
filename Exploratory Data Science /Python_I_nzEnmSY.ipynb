{
 "cells": [
  {
   "cell_type": "markdown",
   "metadata": {},
   "source": [
    "# Variables\n",
    "variables in python are easy and intuitive. run the following cell to witness some magic"
   ]
  },
  {
   "cell_type": "code",
   "execution_count": null,
   "metadata": {},
   "outputs": [],
   "source": [
    "a = 5\n",
    "b = 'abc'\n",
    "c = 1.5\n",
    "print('a', a)\n",
    "print('b', b)\n",
    "print('c', c)"
   ]
  },
  {
   "cell_type": "markdown",
   "metadata": {},
   "source": [
    "You can use the built-in type function to find out the type of any variable defined. Use the type function on a, b and c to find out their types"
   ]
  },
  {
   "cell_type": "code",
   "execution_count": null,
   "metadata": {},
   "outputs": [],
   "source": [
    "# your code here\n"
   ]
  },
  {
   "cell_type": "markdown",
   "metadata": {},
   "source": [
    "Python is very easy going and doesn't care if you assign a different variable type to a previously defined variable. Run the following cell to behold."
   ]
  },
  {
   "cell_type": "code",
   "execution_count": null,
   "metadata": {},
   "outputs": [],
   "source": [
    "# run forest run\n",
    "print(type(a))\n",
    "a = 'suddenly'\n",
    "print(type(a))"
   ]
  },
  {
   "cell_type": "markdown",
   "metadata": {},
   "source": [
    "This is called dynamic typing, and is a double edged sword. It makes life easy when writing code, but deny you the protection of a more involved comiler, pointing obvious would-be mistakes at compilation time."
   ]
  },
  {
   "cell_type": "markdown",
   "metadata": {},
   "source": [
    "Manipulating numbers is super easy"
   ]
  },
  {
   "cell_type": "code",
   "execution_count": null,
   "metadata": {},
   "outputs": [],
   "source": [
    "a = 5\n",
    "b = 3\n",
    "print(a+b)\n",
    "print(a*2)"
   ]
  },
  {
   "cell_type": "markdown",
   "metadata": {},
   "source": [
    "Now that wasn't too hard wasn't it?\n",
    "\n",
    "How about we try the same thing with strings? Change a and b to strings of your choosing and repeat summation and multiplication. This type of madness shouldn't work, or should it? Try and find out."
   ]
  },
  {
   "cell_type": "code",
   "execution_count": null,
   "metadata": {},
   "outputs": [],
   "source": [
    "# your code here"
   ]
  },
  {
   "cell_type": "markdown",
   "metadata": {},
   "source": [
    "## conversion\n",
    "it's also fairly easy to convert between variable types. "
   ]
  },
  {
   "cell_type": "code",
   "execution_count": null,
   "metadata": {},
   "outputs": [],
   "source": [
    "a = 5\n",
    "print(a)\n",
    "print(float(a))"
   ]
  },
  {
   "cell_type": "markdown",
   "metadata": {},
   "source": [
    "try it yourself. What happens when you convert 4.5 to string, or to an integer?"
   ]
  },
  {
   "cell_type": "code",
   "execution_count": null,
   "metadata": {},
   "outputs": [],
   "source": [
    "# your code here"
   ]
  },
  {
   "cell_type": "markdown",
   "metadata": {},
   "source": [
    "# Containers\n",
    "While writing code with single variables is elegant and fun, to begin unleashing real power we should start talking about containers. A container is simply an aggregation of variables, one that could contain any of these \"lists\"\n",
    "\n",
    "1. 1, 2, 3,...\n",
    "2. 'knights', 'who', 'say', 'nee',..\n",
    "\n",
    "and many, many more."
   ]
  },
  {
   "cell_type": "markdown",
   "metadata": {},
   "source": [
    "## Lists\n",
    "Lists are container type in python which represent... well... lists. In the cell below we've defined some lists for you."
   ]
  },
  {
   "cell_type": "code",
   "execution_count": null,
   "metadata": {},
   "outputs": [],
   "source": [
    "l1 = [2, 1, 3]\n",
    "l2 = ['knights', 'who', 'say', 'nee']\n",
    "print(l1)\n",
    "print(l2)"
   ]
  },
  {
   "cell_type": "markdown",
   "metadata": {},
   "source": [
    "As you can see a list is defined using a comma separated \"list\" surrounded with brackets. You could define a list using the list function as following"
   ]
  },
  {
   "cell_type": "code",
   "execution_count": null,
   "metadata": {},
   "outputs": [],
   "source": [
    "l1_2 = list([2, 1, 3])\n",
    "l2_2 = list(['knights', 'who', 'say', 'nee'])\n",
    "print(l1_2)\n",
    "print(l2_2)"
   ]
  },
  {
   "cell_type": "markdown",
   "metadata": {},
   "source": [
    "That doesn't seem too useful, and it isn't, in this case. You may encounter cases where the list function is useful perhaps even today."
   ]
  },
  {
   "cell_type": "markdown",
   "metadata": {},
   "source": [
    "### list indexing\n",
    "putting stuff in stuff is nice, but get's a lot nicer when you can also get stuff out of stuff. The i-th element of list l is accessed via the following expression `l[i]`.\n",
    "\n",
    "try it for yourself:\n",
    "1. print the first element of `l1`. \n",
    "2. replace the first element of `l1` with 4.\n",
    "3. list indices can also be negative (?!) print the `-2` element of `l2` to behold"
   ]
  },
  {
   "cell_type": "code",
   "execution_count": null,
   "metadata": {},
   "outputs": [],
   "source": [
    "# your code here"
   ]
  },
  {
   "cell_type": "markdown",
   "metadata": {},
   "source": [
    "lists are magical beings with many traits and abilities, which you will master according to mood and will. To complete basic training you'll have to learn the following:\n",
    "1. appending an item to a list using append\n",
    "2. extending a list with another list using extend\n",
    "3. deleting an element from a list using del\n",
    "\n",
    "in the following cell, you'll find two lists, and a call to append. Can you use your skill and internet powers to discover how to delete from `l4` the word that doesn't belong and the extend `l3` by `l4`?"
   ]
  },
  {
   "cell_type": "code",
   "execution_count": null,
   "metadata": {},
   "outputs": [],
   "source": [
    "l3 = [3, 5, 2]\n",
    "l4 = ['words', 'in', 'english', 'מסתנן']\n",
    "\n",
    "print(l3)\n",
    "print(l4)\n",
    "\n",
    "l3.append(9)\n",
    "print(l3)\n",
    "\n",
    "# your code here\n"
   ]
  },
  {
   "cell_type": "markdown",
   "metadata": {},
   "source": [
    "You just met lists, and this is crazy, but try adding one list to another or multiplying it by an integer maybe?"
   ]
  },
  {
   "cell_type": "code",
   "execution_count": null,
   "metadata": {},
   "outputs": [],
   "source": [
    "# your code here"
   ]
  },
  {
   "cell_type": "markdown",
   "metadata": {},
   "source": [
    "### slicing\n",
    "a slice of a list is a sub list generated from accessing it at constant intervals. Slicing is performed using the indexing notation with colon separated numbers"
   ]
  },
  {
   "cell_type": "code",
   "execution_count": null,
   "metadata": {},
   "outputs": [],
   "source": [
    "l5 = list(range(10))\n",
    "print(l5)\n",
    "print(l5[2:5:1])"
   ]
  },
  {
   "cell_type": "markdown",
   "metadata": {},
   "source": [
    "The slicing notation for list `l` is `l[first element (included) : last element (omitted) : step size]`. \n",
    "\n",
    "try the following:\n",
    "1. get elements 6, 7, 8 of `l5`. \n",
    "  1. try omitting step size and the preceding colon, do the results change?\n",
    "2. get elements 8, 7, 6 of `l5` by using a step size of -1\n",
    "3. get elements 2, 4, 6 of `l5`\n",
    "4. try slicing while omitting the first element\n",
    "5. try slicing while omitting the last element"
   ]
  },
  {
   "cell_type": "code",
   "execution_count": null,
   "metadata": {},
   "outputs": [],
   "source": [
    "# your code here"
   ]
  },
  {
   "cell_type": "markdown",
   "metadata": {},
   "source": [
    "## tuples\n",
    "tuples are lists with a twist, they are immutable. Initialize them once and forever live with the consequences. This may be useful if you want to prevent someone using your code from breaking something. Run the following cells to understand what tuples can and can't do."
   ]
  },
  {
   "cell_type": "code",
   "execution_count": null,
   "metadata": {},
   "outputs": [],
   "source": [
    "# tuples can be defined using a comma separated lists surrounded with parantheses\n",
    "t1 = (2, 1, 3)\n",
    "print(t1)\n",
    "print(t1[2])"
   ]
  },
  {
   "cell_type": "code",
   "execution_count": null,
   "metadata": {},
   "outputs": [],
   "source": [
    "t1[2] = 5"
   ]
  },
  {
   "cell_type": "code",
   "execution_count": null,
   "metadata": {},
   "outputs": [],
   "source": [
    "# tuples can also be defined using the tuple function\n",
    "t2 = tuple(['a', 'b', 'c'])\n",
    "print(t2)"
   ]
  },
  {
   "cell_type": "code",
   "execution_count": null,
   "metadata": {},
   "outputs": [],
   "source": [
    "t2.append('d')"
   ]
  },
  {
   "cell_type": "code",
   "execution_count": null,
   "metadata": {},
   "outputs": [],
   "source": [
    "print(t2[0:4])"
   ]
  },
  {
   "cell_type": "markdown",
   "metadata": {},
   "source": [
    "### conversion\n",
    "conversion between lists and tuples (and vice versa) is simple and easy using the tuple (and list) function. You can try it for yourself."
   ]
  },
  {
   "cell_type": "code",
   "execution_count": null,
   "metadata": {},
   "outputs": [],
   "source": [
    "# (optional) your code here"
   ]
  },
  {
   "cell_type": "markdown",
   "metadata": {},
   "source": [
    "## dictionaries\n",
    "dictionaries (known in other languages as maps) are containers where each value is accessed with a key. Let's say we'd like to capture the following properties name, age, height, goal (in life) for a person. Instead of using separate varialbes to do it or just cram it in list we could use a dictionary."
   ]
  },
  {
   "cell_type": "code",
   "execution_count": null,
   "metadata": {},
   "outputs": [],
   "source": [
    "person = {'name': 'has no name', 'height': 1.3, 'goal': 'complete the list'}\n",
    "print(person)"
   ]
  },
  {
   "cell_type": "markdown",
   "metadata": {},
   "source": [
    "We could achieve the same using the dict function"
   ]
  },
  {
   "cell_type": "code",
   "execution_count": null,
   "metadata": {},
   "outputs": [],
   "source": [
    "person2 = dict(name='has no name', height=1.3, goal='complete the list')\n",
    "print(person2)"
   ]
  },
  {
   "cell_type": "markdown",
   "metadata": {},
   "source": [
    "### accessing elements\n",
    "accessing an element in a dictionary is similar to list indexing aside from using a key instead of an integer index. Get your hands dirty by printing the goal of `person`"
   ]
  },
  {
   "cell_type": "code",
   "execution_count": null,
   "metadata": {},
   "outputs": [],
   "source": [
    "# your code here"
   ]
  },
  {
   "cell_type": "markdown",
   "metadata": {},
   "source": [
    "I have been gently persuaded to update `person`s height to a more fitting 1.5, can you do that for me?"
   ]
  },
  {
   "cell_type": "code",
   "execution_count": null,
   "metadata": {},
   "outputs": [],
   "source": [
    "# your code here"
   ]
  },
  {
   "cell_type": "markdown",
   "metadata": {},
   "source": [
    "### deleteing elements\n",
    "come to think of it, I should probably avoid the topic altogether. Can you delete the height field from `person`? "
   ]
  },
  {
   "cell_type": "code",
   "execution_count": null,
   "metadata": {},
   "outputs": [],
   "source": [
    "# your code here"
   ]
  },
  {
   "cell_type": "markdown",
   "metadata": {},
   "source": [
    "### updating dictionaries\n",
    "adding a field to a dictionary is done exactly the same way you would update an existing one. Please add an appropriate last name to person."
   ]
  },
  {
   "cell_type": "code",
   "execution_count": null,
   "metadata": {},
   "outputs": [],
   "source": [
    "# your code here"
   ]
  },
  {
   "cell_type": "markdown",
   "metadata": {},
   "source": [
    "similary to list extension a dictionary can be updated by another using the update function. In the following cell update `python_desc` with `python_desc_update` make sure you understand the result"
   ]
  },
  {
   "cell_type": "code",
   "execution_count": null,
   "metadata": {},
   "outputs": [],
   "source": [
    "python_desc = dict(name='python', interpreted=True, latest_major_version=2.7)\n",
    "python_desc_update = {'name': 'python', 'latest_major_version':3.6, 'statically_typed': False}\n",
    "\n",
    "# your code here"
   ]
  },
  {
   "cell_type": "markdown",
   "metadata": {},
   "source": [
    "## going to great lengths\n",
    "you can find out how many items are in a container"
   ]
  },
  {
   "cell_type": "code",
   "execution_count": null,
   "metadata": {},
   "outputs": [],
   "source": [
    "l = [1, 2, 5]\n",
    "t = (1, 2)\n",
    "d = {'lesson': 'containers', 'finished': True, 'conainers in cell': 3, 'other': None}\n",
    "\n",
    "print(len(l), len(t), len(d))"
   ]
  }
 ],
 "metadata": {
  "kernelspec": {
   "display_name": "Python 2",
   "language": "python",
   "name": "python2"
  },
  "language_info": {
   "codemirror_mode": {
    "name": "ipython",
    "version": 2
   },
   "file_extension": ".py",
   "mimetype": "text/x-python",
   "name": "python",
   "nbconvert_exporter": "python",
   "pygments_lexer": "ipython2",
   "version": "2.7.15"
  }
 },
 "nbformat": 4,
 "nbformat_minor": 2
}
