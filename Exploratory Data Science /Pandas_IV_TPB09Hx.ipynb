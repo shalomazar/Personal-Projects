{
 "cells": [
  {
   "cell_type": "markdown",
   "metadata": {},
   "source": [
    "## Multi-Index\n",
    "recall the number of customers data from before"
   ]
  },
  {
   "cell_type": "code",
   "execution_count": 29,
   "metadata": {},
   "outputs": [
    {
     "name": "stdout",
     "output_type": "stream",
     "text": [
      "customer_num=\n",
      "humus_hakerem    100\n",
      "falafel_gina      80\n",
      "24_rupee          60\n",
      "pizza_munch      200\n",
      "dtype: int64\n",
      "\n",
      "hours_open=\n",
      "humus_hakerem    10\n",
      "falafel_gina     12\n",
      "al_harampa        9\n",
      "24_rupee         17\n",
      "dtype: int64\n",
      "\n",
      "average number of customers per hour\n",
      "24_rupee          3.529412\n",
      "al_harampa             NaN\n",
      "falafel_gina      6.666667\n",
      "humus_hakerem    10.000000\n",
      "pizza_munch            NaN\n",
      "dtype: float64\n",
      "\n"
     ]
    }
   ],
   "source": [
    "# run forest run\n",
    "import pandas as pd\n",
    "\n",
    "customer_num = pd.Series([100, 80, 60, 200],\n",
    "                       index=['humus_hakerem', 'falafel_gina', \n",
    "                              '24_rupee', 'pizza_munch']) # number of customers per day\n",
    "\n",
    "hours_open = pd.Series([10, 12, 9, 17],\n",
    "                      index=['humus_hakerem', 'falafel_gina', \n",
    "                             'al_harampa', '24_rupee'])\n",
    "\n",
    "print('customer_num=\\n{}\\n'.format(customer_num))\n",
    "print('hours_open=\\n{}\\n'.format(hours_open))\n",
    "\n",
    "print('average number of customers per hour\\n{}\\n'.format(customer_num/hours_open))"
   ]
  },
  {
   "cell_type": "markdown",
   "metadata": {},
   "source": [
    "it turns out this is data from 2017, while the new data reflecting the ITC fellows increasing hunger for data and food is"
   ]
  },
  {
   "cell_type": "code",
   "execution_count": 30,
   "metadata": {},
   "outputs": [
    {
     "data": {
      "text/plain": [
       "humus_hakerem    120\n",
       "falafel_gina      90\n",
       "24_rupee          62\n",
       "pizza_munch      180\n",
       "dtype: int64"
      ]
     },
     "execution_count": 30,
     "metadata": {},
     "output_type": "execute_result"
    }
   ],
   "source": [
    "# run forest run\n",
    "customer_num_2018 = pd.Series([120, 90, 62, 180], \n",
    "                             index=['humus_hakerem', 'falafel_gina',\n",
    "                                   '24_rupee', 'pizza_munch'])\n",
    "customer_num_2018"
   ]
  },
  {
   "cell_type": "markdown",
   "metadata": {},
   "source": [
    "It sure would be nice to show them side by side. I have an idea, let's use a data frame"
   ]
  },
  {
   "cell_type": "code",
   "execution_count": 31,
   "metadata": {},
   "outputs": [
    {
     "data": {
      "text/html": [
       "<div>\n",
       "<style scoped>\n",
       "    .dataframe tbody tr th:only-of-type {\n",
       "        vertical-align: middle;\n",
       "    }\n",
       "\n",
       "    .dataframe tbody tr th {\n",
       "        vertical-align: top;\n",
       "    }\n",
       "\n",
       "    .dataframe thead th {\n",
       "        text-align: right;\n",
       "    }\n",
       "</style>\n",
       "<table border=\"1\" class=\"dataframe\">\n",
       "  <thead>\n",
       "    <tr style=\"text-align: right;\">\n",
       "      <th></th>\n",
       "      <th>2017</th>\n",
       "      <th>2018</th>\n",
       "    </tr>\n",
       "  </thead>\n",
       "  <tbody>\n",
       "    <tr>\n",
       "      <th>humus_hakerem</th>\n",
       "      <td>100</td>\n",
       "      <td>120</td>\n",
       "    </tr>\n",
       "    <tr>\n",
       "      <th>falafel_gina</th>\n",
       "      <td>80</td>\n",
       "      <td>90</td>\n",
       "    </tr>\n",
       "    <tr>\n",
       "      <th>24_rupee</th>\n",
       "      <td>60</td>\n",
       "      <td>62</td>\n",
       "    </tr>\n",
       "    <tr>\n",
       "      <th>pizza_munch</th>\n",
       "      <td>200</td>\n",
       "      <td>180</td>\n",
       "    </tr>\n",
       "  </tbody>\n",
       "</table>\n",
       "</div>"
      ],
      "text/plain": [
       "               2017  2018\n",
       "humus_hakerem   100   120\n",
       "falafel_gina     80    90\n",
       "24_rupee         60    62\n",
       "pizza_munch     200   180"
      ]
     },
     "execution_count": 31,
     "metadata": {},
     "output_type": "execute_result"
    }
   ],
   "source": [
    "# run forest run\n",
    "customer_num_df = pd.DataFrame({'2017':customer_num, '2018':customer_num_2018})\n",
    "customer_num_df"
   ]
  },
  {
   "cell_type": "markdown",
   "metadata": {},
   "source": [
    "This is nice. Let's do the same for opening hours"
   ]
  },
  {
   "cell_type": "code",
   "execution_count": 32,
   "metadata": {},
   "outputs": [
    {
     "data": {
      "text/html": [
       "<div>\n",
       "<style scoped>\n",
       "    .dataframe tbody tr th:only-of-type {\n",
       "        vertical-align: middle;\n",
       "    }\n",
       "\n",
       "    .dataframe tbody tr th {\n",
       "        vertical-align: top;\n",
       "    }\n",
       "\n",
       "    .dataframe thead th {\n",
       "        text-align: right;\n",
       "    }\n",
       "</style>\n",
       "<table border=\"1\" class=\"dataframe\">\n",
       "  <thead>\n",
       "    <tr style=\"text-align: right;\">\n",
       "      <th></th>\n",
       "      <th>2017</th>\n",
       "      <th>2018</th>\n",
       "    </tr>\n",
       "  </thead>\n",
       "  <tbody>\n",
       "    <tr>\n",
       "      <th>humus_hakerem</th>\n",
       "      <td>10</td>\n",
       "      <td>11</td>\n",
       "    </tr>\n",
       "    <tr>\n",
       "      <th>falafel_gina</th>\n",
       "      <td>12</td>\n",
       "      <td>11</td>\n",
       "    </tr>\n",
       "    <tr>\n",
       "      <th>al_harampa</th>\n",
       "      <td>9</td>\n",
       "      <td>9</td>\n",
       "    </tr>\n",
       "    <tr>\n",
       "      <th>24_rupee</th>\n",
       "      <td>17</td>\n",
       "      <td>15</td>\n",
       "    </tr>\n",
       "  </tbody>\n",
       "</table>\n",
       "</div>"
      ],
      "text/plain": [
       "               2017  2018\n",
       "humus_hakerem    10    11\n",
       "falafel_gina     12    11\n",
       "al_harampa        9     9\n",
       "24_rupee         17    15"
      ]
     },
     "execution_count": 32,
     "metadata": {},
     "output_type": "execute_result"
    }
   ],
   "source": [
    "# run forest run\n",
    "hours_open_2018 = pd.Series([11, 11, 9, 15],\n",
    "                            index=['humus_hakerem', 'falafel_gina', \n",
    "                                   'al_harampa', '24_rupee'])\n",
    "hours_open_df = pd.DataFrame({'2017':hours_open, '2018':hours_open_2018})\n",
    "hours_open_df"
   ]
  },
  {
   "cell_type": "markdown",
   "metadata": {},
   "source": [
    "But how can we represent opening hours and number of customers on the same table. Here's a trick"
   ]
  },
  {
   "cell_type": "code",
   "execution_count": 33,
   "metadata": {},
   "outputs": [
    {
     "data": {
      "text/plain": [
       "humus_hakerem  2017    100\n",
       "               2018    120\n",
       "falafel_gina   2017     80\n",
       "               2018     90\n",
       "24_rupee       2017     60\n",
       "               2018     62\n",
       "pizza_munch    2017    200\n",
       "               2018    180\n",
       "dtype: int64"
      ]
     },
     "execution_count": 33,
     "metadata": {},
     "output_type": "execute_result"
    }
   ],
   "source": [
    "# run forest run\n",
    "customer_num_df.stack()"
   ]
  },
  {
   "cell_type": "markdown",
   "metadata": {},
   "source": [
    "What's this now? You've just created your first multi-index. See how well it turns out"
   ]
  },
  {
   "cell_type": "code",
   "execution_count": 34,
   "metadata": {},
   "outputs": [
    {
     "data": {
      "text/html": [
       "<div>\n",
       "<style scoped>\n",
       "    .dataframe tbody tr th:only-of-type {\n",
       "        vertical-align: middle;\n",
       "    }\n",
       "\n",
       "    .dataframe tbody tr th {\n",
       "        vertical-align: top;\n",
       "    }\n",
       "\n",
       "    .dataframe thead th {\n",
       "        text-align: right;\n",
       "    }\n",
       "</style>\n",
       "<table border=\"1\" class=\"dataframe\">\n",
       "  <thead>\n",
       "    <tr style=\"text-align: right;\">\n",
       "      <th></th>\n",
       "      <th></th>\n",
       "      <th>opening_hours</th>\n",
       "      <th>customer_num</th>\n",
       "    </tr>\n",
       "  </thead>\n",
       "  <tbody>\n",
       "    <tr>\n",
       "      <th rowspan=\"2\" valign=\"top\">24_rupee</th>\n",
       "      <th>2017</th>\n",
       "      <td>17.0</td>\n",
       "      <td>60.0</td>\n",
       "    </tr>\n",
       "    <tr>\n",
       "      <th>2018</th>\n",
       "      <td>15.0</td>\n",
       "      <td>62.0</td>\n",
       "    </tr>\n",
       "    <tr>\n",
       "      <th rowspan=\"2\" valign=\"top\">al_harampa</th>\n",
       "      <th>2017</th>\n",
       "      <td>9.0</td>\n",
       "      <td>NaN</td>\n",
       "    </tr>\n",
       "    <tr>\n",
       "      <th>2018</th>\n",
       "      <td>9.0</td>\n",
       "      <td>NaN</td>\n",
       "    </tr>\n",
       "    <tr>\n",
       "      <th rowspan=\"2\" valign=\"top\">falafel_gina</th>\n",
       "      <th>2017</th>\n",
       "      <td>12.0</td>\n",
       "      <td>80.0</td>\n",
       "    </tr>\n",
       "    <tr>\n",
       "      <th>2018</th>\n",
       "      <td>11.0</td>\n",
       "      <td>90.0</td>\n",
       "    </tr>\n",
       "    <tr>\n",
       "      <th rowspan=\"2\" valign=\"top\">humus_hakerem</th>\n",
       "      <th>2017</th>\n",
       "      <td>10.0</td>\n",
       "      <td>100.0</td>\n",
       "    </tr>\n",
       "    <tr>\n",
       "      <th>2018</th>\n",
       "      <td>11.0</td>\n",
       "      <td>120.0</td>\n",
       "    </tr>\n",
       "    <tr>\n",
       "      <th rowspan=\"2\" valign=\"top\">pizza_munch</th>\n",
       "      <th>2017</th>\n",
       "      <td>NaN</td>\n",
       "      <td>200.0</td>\n",
       "    </tr>\n",
       "    <tr>\n",
       "      <th>2018</th>\n",
       "      <td>NaN</td>\n",
       "      <td>180.0</td>\n",
       "    </tr>\n",
       "  </tbody>\n",
       "</table>\n",
       "</div>"
      ],
      "text/plain": [
       "                    opening_hours  customer_num\n",
       "24_rupee      2017           17.0          60.0\n",
       "              2018           15.0          62.0\n",
       "al_harampa    2017            9.0           NaN\n",
       "              2018            9.0           NaN\n",
       "falafel_gina  2017           12.0          80.0\n",
       "              2018           11.0          90.0\n",
       "humus_hakerem 2017           10.0         100.0\n",
       "              2018           11.0         120.0\n",
       "pizza_munch   2017            NaN         200.0\n",
       "              2018            NaN         180.0"
      ]
     },
     "execution_count": 34,
     "metadata": {},
     "output_type": "execute_result"
    }
   ],
   "source": [
    "# run forest run\n",
    "res_data = pd.DataFrame({'opening_hours': hours_open_df.stack(), 'customer_num':customer_num_df.stack()})\n",
    "res_data"
   ]
  },
  {
   "cell_type": "markdown",
   "metadata": {},
   "source": [
    "we can also reverse this process"
   ]
  },
  {
   "cell_type": "code",
   "execution_count": 35,
   "metadata": {},
   "outputs": [
    {
     "data": {
      "text/html": [
       "<div>\n",
       "<style scoped>\n",
       "    .dataframe tbody tr th:only-of-type {\n",
       "        vertical-align: middle;\n",
       "    }\n",
       "\n",
       "    .dataframe tbody tr th {\n",
       "        vertical-align: top;\n",
       "    }\n",
       "\n",
       "    .dataframe thead tr th {\n",
       "        text-align: left;\n",
       "    }\n",
       "</style>\n",
       "<table border=\"1\" class=\"dataframe\">\n",
       "  <thead>\n",
       "    <tr>\n",
       "      <th></th>\n",
       "      <th colspan=\"2\" halign=\"left\">opening_hours</th>\n",
       "      <th colspan=\"2\" halign=\"left\">customer_num</th>\n",
       "    </tr>\n",
       "    <tr>\n",
       "      <th></th>\n",
       "      <th>2017</th>\n",
       "      <th>2018</th>\n",
       "      <th>2017</th>\n",
       "      <th>2018</th>\n",
       "    </tr>\n",
       "  </thead>\n",
       "  <tbody>\n",
       "    <tr>\n",
       "      <th>24_rupee</th>\n",
       "      <td>17.0</td>\n",
       "      <td>15.0</td>\n",
       "      <td>60.0</td>\n",
       "      <td>62.0</td>\n",
       "    </tr>\n",
       "    <tr>\n",
       "      <th>al_harampa</th>\n",
       "      <td>9.0</td>\n",
       "      <td>9.0</td>\n",
       "      <td>NaN</td>\n",
       "      <td>NaN</td>\n",
       "    </tr>\n",
       "    <tr>\n",
       "      <th>falafel_gina</th>\n",
       "      <td>12.0</td>\n",
       "      <td>11.0</td>\n",
       "      <td>80.0</td>\n",
       "      <td>90.0</td>\n",
       "    </tr>\n",
       "    <tr>\n",
       "      <th>humus_hakerem</th>\n",
       "      <td>10.0</td>\n",
       "      <td>11.0</td>\n",
       "      <td>100.0</td>\n",
       "      <td>120.0</td>\n",
       "    </tr>\n",
       "    <tr>\n",
       "      <th>pizza_munch</th>\n",
       "      <td>NaN</td>\n",
       "      <td>NaN</td>\n",
       "      <td>200.0</td>\n",
       "      <td>180.0</td>\n",
       "    </tr>\n",
       "  </tbody>\n",
       "</table>\n",
       "</div>"
      ],
      "text/plain": [
       "              opening_hours       customer_num       \n",
       "                       2017  2018         2017   2018\n",
       "24_rupee               17.0  15.0         60.0   62.0\n",
       "al_harampa              9.0   9.0          NaN    NaN\n",
       "falafel_gina           12.0  11.0         80.0   90.0\n",
       "humus_hakerem          10.0  11.0        100.0  120.0\n",
       "pizza_munch             NaN   NaN        200.0  180.0"
      ]
     },
     "execution_count": 35,
     "metadata": {},
     "output_type": "execute_result"
    }
   ],
   "source": [
    "# run forest run\n",
    "res_data.unstack()  "
   ]
  },
  {
   "cell_type": "markdown",
   "metadata": {},
   "source": [
    "We can do a lot of clever stuff with indices. Let's give them names to make this easier."
   ]
  },
  {
   "cell_type": "code",
   "execution_count": 36,
   "metadata": {},
   "outputs": [
    {
     "data": {
      "text/html": [
       "<div>\n",
       "<style scoped>\n",
       "    .dataframe tbody tr th:only-of-type {\n",
       "        vertical-align: middle;\n",
       "    }\n",
       "\n",
       "    .dataframe tbody tr th {\n",
       "        vertical-align: top;\n",
       "    }\n",
       "\n",
       "    .dataframe thead th {\n",
       "        text-align: right;\n",
       "    }\n",
       "</style>\n",
       "<table border=\"1\" class=\"dataframe\">\n",
       "  <thead>\n",
       "    <tr style=\"text-align: right;\">\n",
       "      <th></th>\n",
       "      <th></th>\n",
       "      <th>opening_hours</th>\n",
       "      <th>customer_num</th>\n",
       "    </tr>\n",
       "    <tr>\n",
       "      <th>restaurant</th>\n",
       "      <th>year</th>\n",
       "      <th></th>\n",
       "      <th></th>\n",
       "    </tr>\n",
       "  </thead>\n",
       "  <tbody>\n",
       "    <tr>\n",
       "      <th rowspan=\"2\" valign=\"top\">24_rupee</th>\n",
       "      <th>2017</th>\n",
       "      <td>17.0</td>\n",
       "      <td>60.0</td>\n",
       "    </tr>\n",
       "    <tr>\n",
       "      <th>2018</th>\n",
       "      <td>15.0</td>\n",
       "      <td>62.0</td>\n",
       "    </tr>\n",
       "    <tr>\n",
       "      <th rowspan=\"2\" valign=\"top\">al_harampa</th>\n",
       "      <th>2017</th>\n",
       "      <td>9.0</td>\n",
       "      <td>NaN</td>\n",
       "    </tr>\n",
       "    <tr>\n",
       "      <th>2018</th>\n",
       "      <td>9.0</td>\n",
       "      <td>NaN</td>\n",
       "    </tr>\n",
       "    <tr>\n",
       "      <th rowspan=\"2\" valign=\"top\">falafel_gina</th>\n",
       "      <th>2017</th>\n",
       "      <td>12.0</td>\n",
       "      <td>80.0</td>\n",
       "    </tr>\n",
       "    <tr>\n",
       "      <th>2018</th>\n",
       "      <td>11.0</td>\n",
       "      <td>90.0</td>\n",
       "    </tr>\n",
       "    <tr>\n",
       "      <th rowspan=\"2\" valign=\"top\">humus_hakerem</th>\n",
       "      <th>2017</th>\n",
       "      <td>10.0</td>\n",
       "      <td>100.0</td>\n",
       "    </tr>\n",
       "    <tr>\n",
       "      <th>2018</th>\n",
       "      <td>11.0</td>\n",
       "      <td>120.0</td>\n",
       "    </tr>\n",
       "    <tr>\n",
       "      <th rowspan=\"2\" valign=\"top\">pizza_munch</th>\n",
       "      <th>2017</th>\n",
       "      <td>NaN</td>\n",
       "      <td>200.0</td>\n",
       "    </tr>\n",
       "    <tr>\n",
       "      <th>2018</th>\n",
       "      <td>NaN</td>\n",
       "      <td>180.0</td>\n",
       "    </tr>\n",
       "  </tbody>\n",
       "</table>\n",
       "</div>"
      ],
      "text/plain": [
       "                    opening_hours  customer_num\n",
       "restaurant    year                             \n",
       "24_rupee      2017           17.0          60.0\n",
       "              2018           15.0          62.0\n",
       "al_harampa    2017            9.0           NaN\n",
       "              2018            9.0           NaN\n",
       "falafel_gina  2017           12.0          80.0\n",
       "              2018           11.0          90.0\n",
       "humus_hakerem 2017           10.0         100.0\n",
       "              2018           11.0         120.0\n",
       "pizza_munch   2017            NaN         200.0\n",
       "              2018            NaN         180.0"
      ]
     },
     "execution_count": 36,
     "metadata": {},
     "output_type": "execute_result"
    }
   ],
   "source": [
    "# run forest_run\n",
    "res_data.index.names = ['restaurant', 'year']\n",
    "res_data"
   ]
  },
  {
   "cell_type": "markdown",
   "metadata": {},
   "source": [
    "We can convert an index to a column with `reset_index` and a column to index with `set index`. You try it\n",
    "1. turn restaurant and year to columns\n",
    "2. from the resulting data frame convert restaurant and opening hours back to indices"
   ]
  },
  {
   "cell_type": "code",
   "execution_count": 39,
   "metadata": {},
   "outputs": [
    {
     "name": "stdout",
     "output_type": "stream",
     "text": [
      "      restaurant  year  opening_hours  customer_num\n",
      "0       24_rupee  2017           17.0          60.0\n",
      "1       24_rupee  2018           15.0          62.0\n",
      "2     al_harampa  2017            9.0           NaN\n",
      "3     al_harampa  2018            9.0           NaN\n",
      "4   falafel_gina  2017           12.0          80.0\n",
      "5   falafel_gina  2018           11.0          90.0\n",
      "6  humus_hakerem  2017           10.0         100.0\n",
      "7  humus_hakerem  2018           11.0         120.0\n",
      "8    pizza_munch  2017            NaN         200.0\n",
      "9    pizza_munch  2018            NaN         180.0\n",
      "                             year  customer_num\n",
      "restaurant    opening_hours                    \n",
      "24_rupee      17.0           2017          60.0\n",
      "              15.0           2018          62.0\n",
      "al_harampa    9.0            2017           NaN\n",
      "              9.0            2018           NaN\n",
      "falafel_gina  12.0           2017          80.0\n",
      "              11.0           2018          90.0\n",
      "humus_hakerem 10.0           2017         100.0\n",
      "              11.0           2018         120.0\n",
      "pizza_munch   NaN            2017         200.0\n",
      "              NaN            2018         180.0\n"
     ]
    }
   ],
   "source": [
    "reset_data = res_data.reset_index()\n",
    "print(reset_data)\n",
    "new_data = reset_data.set_index(['restaurant','opening_hours'])\n",
    "print(new_data)"
   ]
  },
  {
   "cell_type": "markdown",
   "metadata": {},
   "source": [
    "Most methods of pandas objects can take level (index name) as a parameter. Use the `mean` method of `res_data` to derive\n",
    "1. average number of customers per restaurant\n",
    "2. average number of customers per year\n",
    "\n",
    "**Note** pandas object methods are mostly NaN safe by default"
   ]
  },
  {
   "cell_type": "code",
   "execution_count": 51,
   "metadata": {},
   "outputs": [
    {
     "name": "stdout",
     "output_type": "stream",
     "text": [
      "restaurant\n",
      "24_rupee          61.0\n",
      "al_harampa         NaN\n",
      "falafel_gina      85.0\n",
      "humus_hakerem    110.0\n",
      "pizza_munch      190.0\n",
      "Name: customer_num, dtype: float64\n",
      "year\n",
      "2017    110.0\n",
      "2018    113.0\n",
      "Name: customer_num, dtype: float64\n"
     ]
    }
   ],
   "source": [
    "print(res_data.groupby('restaurant').mean()['customer_num'])\n",
    "print(res_data.groupby('year').mean()['customer_num'])"
   ]
  },
  {
   "cell_type": "markdown",
   "metadata": {},
   "source": [
    "Multi-indexing is great and allows great flexibilty in handling and displaying complicated data. It's best to think as adding a multi-index as adding a new dimension (or subdimension) to your data. Slicing and indexing dataframes with multi-index is tricky and should be handled with care. The intricacies of indexing and the multiple ways of creating multi-indexes are out of the scope of this exercise"
   ]
  },
  {
   "cell_type": "code",
   "execution_count": null,
   "metadata": {},
   "outputs": [],
   "source": []
  }
 ],
 "metadata": {
  "kernelspec": {
   "display_name": "Python 3",
   "language": "python",
   "name": "python3"
  },
  "language_info": {
   "codemirror_mode": {
    "name": "ipython",
    "version": 3
   },
   "file_extension": ".py",
   "mimetype": "text/x-python",
   "name": "python",
   "nbconvert_exporter": "python",
   "pygments_lexer": "ipython3",
   "version": "3.7.0"
  }
 },
 "nbformat": 4,
 "nbformat_minor": 2
}
