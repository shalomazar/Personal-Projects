{
 "cells": [
  {
   "cell_type": "markdown",
   "metadata": {
    "colab_type": "text",
    "id": "zD4fRb3dGRaO"
   },
   "source": [
    "# Excerise 2\n",
    "In this exercise you will explore how hard it is to find the best balance between TPR and FPR. \n",
    "\n",
    "We will then turn to applying multi-class classifiers over the well known MNIST digits database, and analyse the results using a confusion matrix."
   ]
  },
  {
   "cell_type": "markdown",
   "metadata": {
    "colab_type": "text",
    "id": "i2p-7eGqNjrp"
   },
   "source": [
    "## Balancing TPR and FPR and interpretability of a classifier results given inbalance between classes\n",
    "After your yearly checkup, the doctor has bad news and good news. The bad news is that you tested positive for a serious disease, and that the test is 99% accurate (i.e. the probability of testing positive given that you have the disease is 0.99, as is the probability of testing negative given that you don’t have the disease). The good news is that this is a rare disease, striking only 1 in 10,000 people. \n",
    "\n",
    "1. What are the TPR and FPR of the chosen classifier in this case? Giving that there is a balance between the two --- is it a good point on the ROC curve? \n",
    "\n",
    "2. Why is it good news that the disease is rare? What are the chances that you actually have the disease?\n",
    "\n",
    "3. Taking into account the previous answers, would you say the designer of the classifier made a good choice in this case?\n"
   ]
  },
  {
   "cell_type": "markdown",
   "metadata": {
    "colab_type": "text",
    "id": "cluKn7Rb2LDB"
   },
   "source": [
    "#### Answer 1\n",
    "Answer here..."
   ]
  },
  {
   "cell_type": "code",
   "execution_count": 1,
   "metadata": {},
   "outputs": [
    {
     "name": "stdout",
     "output_type": "stream",
     "text": [
      "10000.0\n",
      "All positive classifications:  100.98\n",
      "All negative classifications:  9899.02\n",
      "fpr / 1-specificity: 0.000001\n",
      "tpr / recall: 0.990000\n"
     ]
    }
   ],
   "source": [
    "import numpy as np\n",
    "from sklearn import metrics\n",
    "from sklearn import datasets\n",
    "\n",
    "#  TPR = TP / TP + FN\n",
    "\n",
    "TP = 0.99 * 1\n",
    "FP = 0.01 * 9999\n",
    "TN = 0.99 * 9999\n",
    "FN = 0.01 * 1\n",
    "\n",
    "print(TP+FP+TN+FN)\n",
    "print('All positive classifications: ',TP+FP)\n",
    "print('All negative classifications: ',TN+FN)\n",
    "\n",
    "fpr = FN / (TN + FP)\n",
    "print('fpr / 1-specificity:','{0:.6f}'.format(fpr))\n",
    "\n",
    "tpr = TP / (TP + FN)\n",
    "print('tpr / recall:','{0:.6f}'.format(tpr))\n"
   ]
  },
  {
   "cell_type": "markdown",
   "metadata": {},
   "source": [
    "We want TPR to be high, and the FPR to be low.\n",
    "The ROC curve plots TP vs FP. Here, FPR is very low, and TPR is very high, so this will be a point in the top-left of the ROC curve, which is a good point.\n",
    "\n"
   ]
  },
  {
   "cell_type": "markdown",
   "metadata": {
    "colab_type": "text",
    "id": "lTLwPg6q3TEg"
   },
   "source": [
    "#### Answer 2\n",
    "\n",
    "As the disease is rare, the TP and FN values will be very low. This is good, as for us the most important thing is that no-one is missed - i.e. low miss rate (FN / FN + TP). False positives are not so bad (other than giving the patient a scare).\n",
    "\n",
    "\n"
   ]
  },
  {
   "cell_type": "code",
   "execution_count": 2,
   "metadata": {},
   "outputs": [
    {
     "name": "stdout",
     "output_type": "stream",
     "text": [
      "0.00980392156862745\n"
     ]
    }
   ],
   "source": [
    "prob_diseased = 1 / 10000\n",
    "prob_positive = (TP+FP) / 10000\n",
    "prob_positive_given_diseased = 0.99\n",
    "prob_diseased_given_positive = (prob_positive_given_diseased * prob_diseased) / prob_positive\n",
    "print(prob_diseased_given_positive)\n"
   ]
  },
  {
   "cell_type": "markdown",
   "metadata": {
    "colab_type": "text",
    "id": "mX39tM4K3UTB"
   },
   "source": [
    "#### Answer 3\n",
    "Yes, because catches 99% of all cases.  \n",
    "No, because if you are given a positive result, only 1% chance of actually having the disease.  \n",
    "This is a trade-off! Assuming the most important thing is catching all cases, this is good. But potential administration involved in trying to work out who of those with a positive result actually have disease, and undue stress caused."
   ]
  },
  {
   "cell_type": "markdown",
   "metadata": {
    "colab_type": "text",
    "id": "TQVMUZkQHlm2"
   },
   "source": [
    "## Classifying Digits\n",
    "In this part we will test digits classification on the MNIST dataset, using Bernoulli Naive Bayes (a generative model) and Multivariate Logistic Regression (a discriminative model). \n",
    "\n",
    "The MNIST dataset contains 28x28 grayscale images of handwritten digits between 0 and 9 (10 classes). For mathmatical analysis clarity, and for matching expected API, each image faltten to create a 1D array with 784 elements."
   ]
  },
  {
   "cell_type": "markdown",
   "metadata": {
    "colab_type": "text",
    "id": "Cjwjk6pzLE-y"
   },
   "source": [
    "### Loading the MNIST dataset\n",
    "Load the MNIST data set. The digits dataset is one of datasets scikit-learn comes with that do not require the downloading of any file from some external website. Use \n",
    ">```mnist = sklearn.datasets.fetch_mldata('MNIST original')```\n",
    "\n",
    "to fetch the original data. You may set the `data_home` to where you wish to download your data for caching. Each image is already transformed into a 1D integer array $x\\in [0,255]^{784}$, and the corresponding label is an integer $y\\in [0,9]$.\n",
    "\n",
    "Plot a single sample of each digit as the original image, so you get a feeling how the data looks like.\n",
    "\n",
    "Finally, divide your data into train and test sets, using 1/7 of the data for testing.\n",
    "\n",
    "---\n",
    "**Note:** Using `digits = sklearn.datasets.load_digits()` will only fetch a very small sample of the original set, with images resized to 8x8. This preprocessing of the data reduces dimensionality and gives invariance to small distortions - however, we will use the original data in this exercise. Feel free to test the proformance of the algorithms below on the preprocessed data as well.\n"
   ]
  },
  {
   "cell_type": "code",
   "execution_count": 67,
   "metadata": {
    "colab": {
     "autoexec": {
      "startup": false,
      "wait_interval": 0
     }
    },
    "colab_type": "code",
    "id": "05Om0QLxBvvT"
   },
   "outputs": [
    {
     "data": {
      "image/png": "[encoded data removed]",
      "text/plain": [
       "<Figure size 432x288 with 10 Axes>"
      ]
     },
     "metadata": {
      "needs_background": "light"
     },
     "output_type": "display_data"
    }
   ],
   "source": [
    "from matplotlib import pyplot as plt\n",
    "import random\n",
    "\n",
    "test_data = np.load('test_data.npy')\n",
    "train_data = np.load('train_data.npy')\n",
    "test_labels = np.load('test_labels.npy')\n",
    "train_labels = np.load('train_labels.npy')\n",
    "\n",
    "FIGS_TO_SHOW = 10\n",
    "\n",
    "fig, axes = plt.subplots(1, FIGS_TO_SHOW)\n",
    "\n",
    "for i in range(FIGS_TO_SHOW):\n",
    "    axes[i].imshow(train_data[random.choice(np.where(train_labels==i)[0])].reshape(28,28))\n",
    "    axes[i].set_axis_off()\n",
    "\n",
    "plt.show()"
   ]
  },
  {
   "cell_type": "markdown",
   "metadata": {
    "colab_type": "text",
    "id": "WTGjjSKaFfE6"
   },
   "source": [
    "### Bernoulli Naive Bayes\n",
    "If we know how the digits are generated, then we know how to classify them (simply choose the digit class which will maximize the posterior probability) --- but which model should we use for describing the digits generation?\n",
    "\n",
    "In this part we will try a very simplified model of digits creation (which is obviously not the same as the \"real\" model), using a Naive Bayes over an underlying Bernoulli distribution --- that is, we will assume that given a digit class, the pixels of the images are the result of independent coin flips, each with its own \"head\" probability.\n",
    "\n",
    "Note that since we assume each pixl is either 0 (black) or 1 (white), we will need to adjust (preprocess) our data accrodingly (see below).\n",
    "\n",
    "So, the model is stated as follows:\n",
    "$$\n",
    "\\begin{align}\n",
    "\\text{Domain} && x \\in \\{0,1\\}^{784} \\\\\n",
    "\\text{Prior} && \\pi_j = \\Pr(y=j) \\\\\n",
    "\\text{Likelihood} && P_j(x) = \\Pr(x | y=j) \\\\\n",
    "\\end{align}\n",
    "$$\n",
    "\n",
    "Where for each $i\\in 0\\ldots 784$ it holds that\n",
    "$$\n",
    "P_{ji}(x_i) = \\Pr(x_i | y=j) =\n",
    "\\begin{cases}\n",
    "p_{ji} & \\text{if } x_i=1 \\\\\n",
    "1-p_{ji} & \\text{if } x_i=0 \\\\\n",
    "\\end{cases}\n",
    "$$\n"
   ]
  },
  {
   "cell_type": "markdown",
   "metadata": {
    "colab_type": "text",
    "id": "WNjhD3IpL5bC"
   },
   "source": [
    "#### Question 1\n",
    "Write the classification rule based on this Naive Bayes model. \n",
    "How would you esitmate each of the parameters of the model based on the trainning data? \n",
    "\n",
    "\n",
    "**Bonus:** Think of edge cases which may effect your estimator in an undesired way."
   ]
  },
  {
   "cell_type": "markdown",
   "metadata": {
    "colab_type": "text",
    "id": "0pN1prGcMqwZ"
   },
   "source": [
    "#### Answer 1\n",
    "The probability of a particular pixel being 1 or 0. As this is Naive Bayes, we are assuming that the status of each pixel is unaffected by its neighbours. Essentially, we have 748 independant 'features'.\n",
    "\n",
    "The corresponding classifier, a Bayes classifier, is the function that assigns a class label ${\\displaystyle {\\hat {y}}=j}$ as follows:\n",
    "\n",
    "${\\displaystyle {\\hat {y}}={\\underset {j\\in \\{1,\\dots ,9\\}}{\\operatorname {argmax} }}\\ p(j)\\displaystyle \\prod _{i=1}^{n}p(x_{i}\\mid y=j).}$\n",
    "\n",
    "${\\displaystyle {\\hat {y}}={\\underset {j\\in \\{1,\\dots ,9\\}}{\\operatorname {argmax} }}\\ p(j)\\displaystyle \\prod\n",
    "_{i=1}^{n}p^{x_i}(1-p)^{(1-x_i).}}$\n",
    "\n",
    "\n",
    "\n"
   ]
  },
  {
   "cell_type": "markdown",
   "metadata": {},
   "source": [
    "The parameters we are estimating are the probabilities of a particular pixel being black/white depending on class (which digit).  The classifier estimates these probabilties for each class by seeing which probabilities result in the maximum likelihood of the sample data coming from the sample label."
   ]
  },
  {
   "cell_type": "markdown",
   "metadata": {
    "colab_type": "text",
    "id": "nOnkgDIXTMCQ"
   },
   "source": [
    "#### Question 2\n",
    "Run a Naive Bayes classifier on the training data and apply predictions on the test data. Use the [sklearn.naive_bayes.BernoulliNB](http://scikit-learn.org/stable/modules/generated/sklearn.naive_bayes.BernoulliNB.html) implementation (see the [source code for sklearn.naive_bayes](https://github.com/scikit-learn/scikit-learn/blob/master/sklearn/naive_bayes.py) for details).\n",
    "\n",
    "Remember we need to preprocess the data in this case such that each pixel would become either black (0) or white (1). For this, use the `binarize` parameter of the implementation. Set this value to $0$ (this is the default), which in this case would mean every pixel with non-zero value will be set to 1.\n",
    "\n",
    "1. Plot the mean image of each class (estimated $\\hat{p}_{ji}$) and generate one sample of each class (remeber, you can do this since this is a generative model). You will need to access the `feature_log_prob_` attibute of the trained model.\n",
    "\n",
    "2. Plot the confusion matrix of your classifier, as claculated on the test data (it is recommended to use [sklearn.metrics.confusion_matrix](http://scikit-learn.org/stable/modules/generated/sklearn.metrics.confusion_matrix.html)). Calculate the total accuracy (fraction of correctly classified images), and summarize the results in your own words.\n",
    "\n",
    "3. Think of a way you can find the optimal threshold of the binarization part. **There is no need to actually perform this task --- just describe what you would have done.**\n"
   ]
  },
  {
   "cell_type": "markdown",
   "metadata": {
    "colab_type": "text",
    "id": "ZKdsdegDWaO_"
   },
   "source": [
    "#### Answer 2\n",
    "Put you answer here..."
   ]
  },
  {
   "cell_type": "code",
   "execution_count": 5,
   "metadata": {
    "colab": {
     "autoexec": {
      "startup": false,
      "wait_interval": 0
     }
    },
    "colab_type": "code",
    "id": "XalqjRWXWS-Y"
   },
   "outputs": [
    {
     "data": {
      "text/plain": [
       "<function matplotlib.pyplot.show(*args, **kw)>"
      ]
     },
     "execution_count": 5,
     "metadata": {},
     "output_type": "execute_result"
    },
    {
     "data": {
      "image/png": "[encoded data removed]",
      "text/plain": [
       "<Figure size 864x864 with 10 Axes>"
      ]
     },
     "metadata": {
      "needs_background": "light"
     },
     "output_type": "display_data"
    }
   ],
   "source": [
    "from sklearn.naive_bayes import BernoulliNB \n",
    "\n",
    "clf = BernoulliNB(alpha=1.0, binarize=0.0, class_prior=None, fit_prior=True)\n",
    "clf.fit(train_data, train_labels)\n",
    "\n",
    "plt.subplots(1,10,figsize=(12,12))\n",
    "\n",
    "for i in range(10):\n",
    "    #For each value of i, get the average value of each pixel\n",
    "    avg_pixels = sum(train_data[np.where(train_labels == i)]) / len(train_data[np.where(train_labels == 5)])\n",
    "    \n",
    "    \n",
    "    plt.subplot(1,10,i+1)\n",
    "    plt.imshow(avg_pixels.reshape(28,28))\n",
    "    plt.axis('off')\n",
    "plt.show\n"
   ]
  },
  {
   "cell_type": "markdown",
   "metadata": {},
   "source": [
    "And now to generate a sample for each class:"
   ]
  },
  {
   "cell_type": "code",
   "execution_count": 6,
   "metadata": {},
   "outputs": [
    {
     "data": {
      "image/png": "[encoded data removed]",
      "text/plain": [
       "<Figure size 864x864 with 10 Axes>"
      ]
     },
     "metadata": {
      "needs_background": "light"
     },
     "output_type": "display_data"
    }
   ],
   "source": [
    "plt.subplots(1,10,figsize=(12,12))\n",
    "for i, number in enumerate(np.exp(clf.feature_log_prob_)):\n",
    "    plt.subplot(1,10,i+1)\n",
    "    plt.imshow(number.reshape(28,28))\n",
    "    plt.axis('off')\n",
    "plt.show()"
   ]
  },
  {
   "cell_type": "code",
   "execution_count": 68,
   "metadata": {},
   "outputs": [
    {
     "name": "stdout",
     "output_type": "stream",
     "text": [
      "confusion matrix: \n",
      "\n",
      "     0   1   2   3   4   5   6   7   8   9\n",
      "0  97   0   1   0   0   0   2   0   0   0\n",
      "1   0  93   1   2   0   0   0   0   4   0\n",
      "2   0   2  81   4   0   0   4   2   6   1\n",
      "3   1   0   0  84   0   2   1   0  11   1\n",
      "4   0   0   0   1  85   1   2   1   4   6\n",
      "5   1   1   1   7   2  77   2   0   7   2\n",
      "6   0   0   2   0   0   2  92   0   4   0\n",
      "7   0   2   2   3   1   1   0  83   1   7\n",
      "8   1   0   4   6   1   2   1   2  81   2\n",
      "9   0   1   1   3   1   2   1   3   2  86\n",
      "\n",
      "accuracy score:  0.859\n"
     ]
    }
   ],
   "source": [
    "# Predict the test set, and run some metrics:\n",
    "from sklearn.metrics import confusion_matrix\n",
    "from sklearn.metrics import accuracy_score\n",
    "import pandas as pd\n",
    "\n",
    "y_pred = clf.predict(test_data)\n",
    "\n",
    "df_cm = pd.DataFrame(confusion_matrix(test_labels, y_pred), index = [list(range(10))], columns = [list(range(10))])\n",
    "\n",
    "print('confusion matrix: \\n\\n',df_cm)\n",
    "\n",
    "print('\\naccuracy score: ',accuracy_score(test_labels, y_pred))\n"
   ]
  },
  {
   "cell_type": "markdown",
   "metadata": {
    "colab_type": "text",
    "id": "qrd3k2CXWdu3"
   },
   "source": [
    "### Multivariate Logistic Regression\n",
    "We will now look at a discriminative model for this problem, specifically, the Multivariate Logistic Regression model. Again, we will use a prepared implementation of the model, so you won't need to implement it.\n",
    "\n",
    "In this part we will keep the pixel values in grayscale, and assume the probability of each image being classified as one of the 10 digit classes, matches some multivariate logistic function."
   ]
  },
  {
   "cell_type": "markdown",
   "metadata": {
    "colab_type": "text",
    "id": "UA44mIVbbH9O"
   },
   "source": [
    "#### Question 3\n",
    "Run a Multivariate Logitic Regression classifier on the training data and apply predictions on the test data. Use the [sklearn.linear_model.LogisticRegression](http://scikit-learn.org/stable/modules/generated/sklearn.linear_model.LogisticRegression.html) implementation, and set the `solver` to be `'lbfgs'`.\n",
    "\n",
    "1. As we did for the Naive Bayes classifier above, plot the confusion matrix of your classifier, as claculated on the test data, and calculate the total accuracy. Summarize the results in your own words.\n",
    "\n",
    "2. Show some test images which were missclassified (classified incorrectly). Choose one such sample, and output the probability estimates for all classes (use the `predict_proba` function). Describe the results.\n",
    "\n",
    "Note that here we cannot \"generate\" examples from the model, nor plot the \"mean image\"."
   ]
  },
  {
   "cell_type": "markdown",
   "metadata": {
    "colab_type": "text",
    "id": "SEWJXu5BclVn"
   },
   "source": [
    "#### Answer 3\n",
    "Put you answer here..."
   ]
  },
  {
   "cell_type": "code",
   "execution_count": 70,
   "metadata": {
    "colab": {
     "autoexec": {
      "startup": false,
      "wait_interval": 0
     }
    },
    "colab_type": "code",
    "id": "bNRDBGgyofrT"
   },
   "outputs": [
    {
     "name": "stderr",
     "output_type": "stream",
     "text": [
      "C:\\ProgramData\\Anaconda3\\lib\\site-packages\\sklearn\\linear_model\\logistic.py:432: FutureWarning: Default solver will be changed to 'lbfgs' in 0.22. Specify a solver to silence this warning.\n",
      "  FutureWarning)\n",
      "C:\\ProgramData\\Anaconda3\\lib\\site-packages\\sklearn\\linear_model\\logistic.py:459: FutureWarning: Default multi_class will be changed to 'auto' in 0.22. Specify the multi_class option to silence this warning.\n",
      "  \"this warning.\", FutureWarning)\n"
     ]
    },
    {
     "name": "stdout",
     "output_type": "stream",
     "text": [
      "confusion matrix: \n",
      "\n",
      "     0   1   2   3   4   5   6   7   8   9\n",
      "0  97   0   1   0   0   0   2   0   0   0\n",
      "1   0  93   1   2   0   0   0   0   4   0\n",
      "2   0   2  81   4   0   0   4   2   6   1\n",
      "3   1   0   0  84   0   2   1   0  11   1\n",
      "4   0   0   0   1  85   1   2   1   4   6\n",
      "5   1   1   1   7   2  77   2   0   7   2\n",
      "6   0   0   2   0   0   2  92   0   4   0\n",
      "7   0   2   2   3   1   1   0  83   1   7\n",
      "8   1   0   4   6   1   2   1   2  81   2\n",
      "9   0   1   1   3   1   2   1   3   2  86\n",
      "\n",
      "accuracy score:  0.859\n"
     ]
    },
    {
     "name": "stderr",
     "output_type": "stream",
     "text": [
      "C:\\ProgramData\\Anaconda3\\lib\\site-packages\\sklearn\\svm\\base.py:922: ConvergenceWarning: Liblinear failed to converge, increase the number of iterations.\n",
      "  \"the number of iterations.\", ConvergenceWarning)\n"
     ]
    }
   ],
   "source": [
    "from sklearn.linear_model import LogisticRegression\n",
    "\n",
    "clf = LogisticRegression()\n",
    "# USING solver='lbfgs' results in convergence error. I tried increasing the iterations, but this did not help.\n",
    "clf.fit(train_data,train_labels)\n",
    "y_pred = clf.predict(test_data)\n",
    "\n",
    "df_cm = pd.DataFrame(confusion_matrix(test_labels, y_pred), index = [list(range(10))], columns = [list(range(10))])\n",
    "\n",
    "print('confusion matrix: \\n\\n',df_cm)\n",
    "\n",
    "print('\\naccuracy score: ',accuracy_score(test_labels, y_pred))"
   ]
  },
  {
   "cell_type": "markdown",
   "metadata": {},
   "source": [
    "Accuracy score is higher under the multi-variate logistic regression. This is presumably because we are no longer contrained by the requirement for independence between the pixels.  Similar letters have higher error rates, which is as expected (e.g. 3/8, 9/7)"
   ]
  },
  {
   "cell_type": "code",
   "execution_count": 71,
   "metadata": {},
   "outputs": [
    {
     "data": {
      "image/png": "[encoded data removed]",
      "text/plain": [
       "<Figure size 432x288 with 10 Axes>"
      ]
     },
     "metadata": {
      "needs_background": "light"
     },
     "output_type": "display_data"
    }
   ],
   "source": [
    "\n",
    "missed_samples = []\n",
    "prob_correct = []\n",
    "fig, axes = plt.subplots(1, 10)\n",
    "\n",
    "for i in range(10):\n",
    "    missed_samples.append(random.choice(test_data[(test_labels != y_pred) & (y_pred == i)]))\n",
    "    axes[i].imshow(missed_samples[i].reshape(28,28))\n",
    "    axes[i].set_axis_off()\n",
    "    prob_correct.append(clf.predict_proba(missed_samples)[i][i])\n",
    "    \n"
   ]
  },
  {
   "cell_type": "code",
   "execution_count": 72,
   "metadata": {},
   "outputs": [
    {
     "data": {
      "text/plain": [
       "<function matplotlib.pyplot.show(*args, **kw)>"
      ]
     },
     "execution_count": 72,
     "metadata": {},
     "output_type": "execute_result"
    },
    {
     "data": {
      "image/png": "[encoded data removed]",
      "text/plain": [
       "<Figure size 432x288 with 1 Axes>"
      ]
     },
     "metadata": {
      "needs_background": "light"
     },
     "output_type": "display_data"
    }
   ],
   "source": [
    "plt.bar(list(range(10)),prob_correct)\n",
    "plt.show"
   ]
  },
  {
   "cell_type": "markdown",
   "metadata": {},
   "source": [
    "This chart illustrates, for each image, the probability used to calssify the image into a particular class. We can see that for some images, the winning probability is quite low. This may indicate a higher threshold is needed.  Where the probability is high, the model is mistaken."
   ]
  },
  {
   "cell_type": "code",
   "execution_count": null,
   "metadata": {},
   "outputs": [],
   "source": []
  }
 ],
 "metadata": {
  "colab": {
   "collapsed_sections": [],
   "default_view": {},
   "name": "ex2.ipynb",
   "provenance": [],
   "version": "0.3.2",
   "views": {}
  },
  "kernelspec": {
   "display_name": "Python 3",
   "language": "python",
   "name": "python3"
  },
  "language_info": {
   "codemirror_mode": {
    "name": "ipython",
    "version": 3
   },
   "file_extension": ".py",
   "mimetype": "text/x-python",
   "name": "python",
   "nbconvert_exporter": "python",
   "pygments_lexer": "ipython3",
   "version": "3.7.0"
  }
 },
 "nbformat": 4,
 "nbformat_minor": 1
}
