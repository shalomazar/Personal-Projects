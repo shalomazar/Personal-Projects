{
 "cells": [
  {
   "cell_type": "markdown",
   "metadata": {
    "colab_type": "text",
    "id": "bsh_Efrtg0nO"
   },
   "source": [
    "## MNIST"
   ]
  },
  {
   "cell_type": "code",
   "execution_count": 71,
   "metadata": {
    "colab": {
     "autoexec": {
      "startup": false,
      "wait_interval": 0
     }
    },
    "colab_type": "code",
    "id": "upxBDV9DI-Cf"
   },
   "outputs": [],
   "source": [
    "from __future__ import division, print_function, unicode_literals\n",
    "import tensorflow as tf\n",
    "from time import time\n",
    "\n",
    "\n"
   ]
  },
  {
   "cell_type": "markdown",
   "metadata": {
    "colab_type": "text",
    "id": "stQzJU6-ex1o"
   },
   "source": [
    "In the next exercise, we will use a neural network comprised of only fully-connected layers to classify the MNIST dataset: Here we won't use the classic 10-class classification, but classify into two classes: even digits and odd digits.\n",
    "\n",
    "The next code snippet downloads the MNIST dataset for you and defines two functions - the weights and the bias variables. \n",
    "We will use those functions to construct our network.\n",
    "\n",
    "\n"
   ]
  },
  {
   "cell_type": "code",
   "execution_count": 72,
   "metadata": {
    "colab": {
     "autoexec": {
      "startup": false,
      "wait_interval": 0
     }
    },
    "colab_type": "code",
    "id": "b_7PB4yvhMUd"
   },
   "outputs": [
    {
     "name": "stdout",
     "output_type": "stream",
     "text": [
      "Extracting MNIST_data/train-images-idx3-ubyte.gz\n",
      "Extracting MNIST_data/train-labels-idx1-ubyte.gz\n",
      "Extracting MNIST_data/t10k-images-idx3-ubyte.gz\n",
      "Extracting MNIST_data/t10k-labels-idx1-ubyte.gz\n"
     ]
    }
   ],
   "source": [
    "# Download the dataset\n",
    "from tensorflow.examples.tutorials.mnist import input_data\n",
    "mnist = input_data.read_data_sets(\"MNIST_data/\", one_hot=True)\n",
    "\n",
    "\n",
    "def weight_variable(shape):\n",
    "    initial = tf.truncated_normal(shape, stddev=0.01)\n",
    "    return tf.Variable(initial)\n",
    "\n",
    "\n",
    "def bias_variable(shape):\n",
    "    initial = tf.constant(0.0, shape=shape)\n",
    "    return tf.Variable(initial)"
   ]
  },
  {
   "cell_type": "markdown",
   "metadata": {
    "colab_type": "text",
    "id": "HlUyxaoghObl"
   },
   "source": [
    "\n",
    "For this, start by defining two placeholders, one to hold the images, and the second to hold the two classes.\n",
    "Use tf.float32 for the placeholder type."
   ]
  },
  {
   "cell_type": "code",
   "execution_count": 73,
   "metadata": {
    "colab": {
     "autoexec": {
      "startup": false,
      "wait_interval": 0
     }
    },
    "colab_type": "code",
    "id": "g8kakhjcJIYm"
   },
   "outputs": [],
   "source": [
    "batch_size = 100\n",
    "\n",
    "# correct labels\n",
    "y_ = tf.placeholder(tf.float32,shape=(batch_size,10))\n",
    "\n",
    "# input data\n",
    "x = tf.placeholder(tf.float32,shape=(batch_size,784))\n",
    "\n"
   ]
  },
  {
   "cell_type": "markdown",
   "metadata": {
    "colab_type": "text",
    "id": "4Od4jqtgbX1T"
   },
   "source": [
    "Next, define the network itself. It is up to you how many layers to use, and the number of hidden units in each layer.\n",
    "\n",
    "You are allowed to use only the following functions:\n",
    "* weight_variable\n",
    "* bias_variable\n",
    "* tf.nn.relu\n",
    "* tf.nn.softmax\n",
    "* tf.matmul\n",
    "\n",
    "Please note that each layer includes not only tf.matmul, but also a bias variable.\n"
   ]
  },
  {
   "cell_type": "code",
   "execution_count": 74,
   "metadata": {
    "colab": {
     "autoexec": {
      "startup": false,
      "wait_interval": 0
     }
    },
    "colab_type": "code",
    "id": "L9qEz6CjJLd2"
   },
   "outputs": [
    {
     "name": "stdout",
     "output_type": "stream",
     "text": [
      "Tensor(\"sub_5:0\", shape=(100, 10), dtype=float32)\n"
     ]
    }
   ],
   "source": [
    "# build the net\n",
    "\n",
    "hidden_size = 50\n",
    "num_classes = 2\n",
    "W_fc1 = weight_variable([784,10])\n",
    "b_fc1 = bias_variable([10])\n",
    "h_fc1 = tf.nn.relu(tf.matmul(x, W_fc1) + b_fc1)\n",
    "ypred = tf.nn.softmax(h_fc1)\n",
    "diff = y_ - ypred\n",
    "print(diff)\n",
    "\n",
    "#YOUR CODE (how many layers to use, and the number of hidden units)\n",
    "\n",
    "y = tf.nn.softmax(h_fc1)\n"
   ]
  },
  {
   "cell_type": "markdown",
   "metadata": {
    "colab_type": "text",
    "id": "KF4v2BCwglVF"
   },
   "source": [
    "Complete the snippet below using your own code."
   ]
  },
  {
   "cell_type": "markdown",
   "metadata": {
    "colab_type": "text",
    "id": "VfVlJ7GQjvlD"
   },
   "source": [
    "define the loss function and Optimizer"
   ]
  },
  {
   "cell_type": "code",
   "execution_count": 75,
   "metadata": {
    "colab": {
     "autoexec": {
      "startup": false,
      "wait_interval": 0
     }
    },
    "colab_type": "code",
    "id": "vZ6wq8_cjjsl"
   },
   "outputs": [],
   "source": [
    "# define the loss function\n",
    "logits = tf.matmul(x, W_fc1) + b_fc1\n",
    "hyptothesis = tf.nn.softmax(logits)\n",
    "cross_entropy = tf.reduce_mean(-tf.reduce_sum(y*tf.log(hyptothesis),axis=1))\n",
    "\n",
    "# define Optimizer\n",
    "Optimizer = tf.train.AdamOptimizer(1e-5).minimize((cross_entropy)) #YOUR CODE (cross_entropy)\n",
    "\n",
    "\n",
    "correct_prediction = y_\n",
    "errors = tf.math.equal(tf.arg_max(y,1), tf.arg_max(y_,1))\n",
    "accuracy = tf.reduce_mean(tf.cast(errors, tf.float32))\n",
    "init = tf.global_variables_initializer()"
   ]
  },
  {
   "cell_type": "code",
   "execution_count": 91,
   "metadata": {
    "colab": {
     "autoexec": {
      "startup": false,
      "wait_interval": 0
     }
    },
    "colab_type": "code",
    "id": "kag7Hk-iJfbV"
   },
   "outputs": [],
   "source": [
    "import numpy as np\n"
   ]
  },
  {
   "cell_type": "markdown",
   "metadata": {
    "colab_type": "text",
    "id": "6SzjkHocfb7Z"
   },
   "source": [
    "The next code snippet trains and evaluates the network. It does this by opening a session to run the tensorflow graph that we have defined.\n",
    "Complete the code at the locations marked #YOUR CODE below, in order to train the network and to evaluate its accuracy every 50 steps."
   ]
  },
  {
   "cell_type": "code",
   "execution_count": 94,
   "metadata": {
    "colab": {
     "autoexec": {
      "startup": false,
      "wait_interval": 0
     }
    },
    "colab_type": "code",
    "id": "VDWNSW5bf3tI"
   },
   "outputs": [
    {
     "name": "stdout",
     "output_type": "stream",
     "text": [
      "<type 'dict'>\n"
     ]
    },
    {
     "ename": "TypeError",
     "evalue": "unhashable type: 'numpy.ndarray'",
     "output_type": "error",
     "traceback": [
      "\u001b[0;31m---------------------------------------------------------------------------\u001b[0m",
      "\u001b[0;31mTypeError\u001b[0m                                 Traceback (most recent call last)",
      "\u001b[0;32m<ipython-input-94-8b41f5445aac>\u001b[0m in \u001b[0;36m<module>\u001b[0;34m()\u001b[0m\n\u001b[1;32m     14\u001b[0m     \u001b[0;32mprint\u001b[0m\u001b[0;34m(\u001b[0m\u001b[0mtype\u001b[0m\u001b[0;34m(\u001b[0m\u001b[0mfeed_dict\u001b[0m\u001b[0;34m)\u001b[0m\u001b[0;34m)\u001b[0m\u001b[0;34m\u001b[0m\u001b[0m\n\u001b[1;32m     15\u001b[0m \u001b[0;34m\u001b[0m\u001b[0m\n\u001b[0;32m---> 16\u001b[0;31m     \u001b[0msess\u001b[0m\u001b[0;34m.\u001b[0m\u001b[0mrun\u001b[0m\u001b[0;34m(\u001b[0m\u001b[0mtrain_step\u001b[0m\u001b[0;34m,\u001b[0m \u001b[0mfeed_dict\u001b[0m\u001b[0;34m=\u001b[0m\u001b[0;34m{\u001b[0m\u001b[0mx\u001b[0m\u001b[0;34m:\u001b[0m \u001b[0minput_images\u001b[0m\u001b[0;34m,\u001b[0m \u001b[0my_\u001b[0m\u001b[0;34m:\u001b[0m \u001b[0mypred\u001b[0m\u001b[0;34m}\u001b[0m\u001b[0;34m)\u001b[0m \u001b[0;31m#YOUR CODE })\u001b[0m\u001b[0;34m\u001b[0m\u001b[0m\n\u001b[0m\u001b[1;32m     17\u001b[0m     \u001b[0;32mif\u001b[0m \u001b[0mi\u001b[0m \u001b[0;34m%\u001b[0m \u001b[0;36m50\u001b[0m \u001b[0;34m==\u001b[0m \u001b[0;36m0\u001b[0m\u001b[0;34m:\u001b[0m\u001b[0;34m\u001b[0m\u001b[0m\n\u001b[1;32m     18\u001b[0m         \u001b[0mtrain_accuracy\u001b[0m \u001b[0;34m=\u001b[0m \u001b[0msess\u001b[0m\u001b[0;34m.\u001b[0m\u001b[0mrun\u001b[0m\u001b[0;34m(\u001b[0m\u001b[0maccuracy\u001b[0m\u001b[0;34m,\u001b[0m \u001b[0mfeed_dict\u001b[0m\u001b[0;34m=\u001b[0m\u001b[0;34m{\u001b[0m\u001b[0;34m}\u001b[0m\u001b[0;34m)\u001b[0m \u001b[0;31m#YOUR CODE } )\u001b[0m\u001b[0;34m\u001b[0m\u001b[0m\n",
      "\u001b[0;31mTypeError\u001b[0m: unhashable type: 'numpy.ndarray'"
     ]
    }
   ],
   "source": [
    "with tf.Session() as sess:\n",
    "  sess.run(init)\n",
    "  for i in range(700):\n",
    "    \n",
    "    input_images, correct_predictions = mnist.train.next_batch(batch_size)\n",
    "    \n",
    "    correct_predictions = [(1,0) if np.argmax(x)%2==0 else (0,1) for x in correct_predictions]\n",
    "    train_step = .5\n",
    "    \n",
    "    sess.run(train_step, feed_dict={x: input_images, y_: ypred}) #YOUR CODE })\n",
    "    if i % 50 == 0:\n",
    "        train_accuracy = sess.run(accuracy, feed_dict={}) #YOUR CODE } )\n",
    "        print(\"step %d, training accuracy %g\" % (i, train_accuracy))\n",
    "        # validate\n",
    "        \n",
    "        #YOUR CODE\n",
    "        \n",
    "        test_accuracy = sess.run([accuracy], feed_dict={})#YOUR CODE})\n",
    "        #YOUR CODE\n",
    "          \n",
    "        print(\"Validation accuracy: %g.\" % test_accuracy)"
   ]
  },
  {
   "cell_type": "code",
   "execution_count": null,
   "metadata": {},
   "outputs": [],
   "source": []
  }
 ],
 "metadata": {
  "colab": {
   "collapsed_sections": [],
   "default_view": {},
   "name": "tensorflow_MNIST.ipynb",
   "provenance": [
    {
     "file_id": "1twhLFBOCaDjPixASn4-zvV5aIHmYnf0Y",
     "timestamp": 1528918576198
    },
    {
     "file_id": "19RvBcD_vd27zIC3XpTUfsOoPNnRQm81A",
     "timestamp": 1528895264710
    }
   ],
   "version": "0.3.2",
   "views": {}
  },
  "kernelspec": {
   "display_name": "Python 2",
   "language": "python",
   "name": "python2"
  },
  "language_info": {
   "codemirror_mode": {
    "name": "ipython",
    "version": 2
   },
   "file_extension": ".py",
   "mimetype": "text/x-python",
   "name": "python",
   "nbconvert_exporter": "python",
   "pygments_lexer": "ipython2",
   "version": "2.7.15"
  }
 },
 "nbformat": 4,
 "nbformat_minor": 1
}
