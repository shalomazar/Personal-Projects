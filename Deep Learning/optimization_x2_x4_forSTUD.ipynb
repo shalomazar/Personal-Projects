{
 "cells": [
  {
   "cell_type": "markdown",
   "metadata": {
    "colab_type": "text",
    "id": "F9he_xULm9EC"
   },
   "source": [
    "## Ex0 (a) find the minimums of x^2  using Gradient Descent\n",
    "\n",
    "\n",
    "\n"
   ]
  },
  {
   "cell_type": "code",
   "execution_count": 0,
   "metadata": {
    "colab": {
     "autoexec": {
      "startup": false,
      "wait_interval": 0
     }
    },
    "colab_type": "code",
    "id": "bcWFww5zD7zk"
   },
   "outputs": [],
   "source": [
    "\n",
    "# square of x\n",
    "def x2(x):\n",
    "    return (x*x)\n",
    "\n",
    "# derivative of x^2\n",
    "def x2_(x):\n",
    "    return 2*x\n",
    "\n",
    "# starting point \n",
    "X = 10\n",
    "\n",
    "#your code here:\n",
    "lr = .7\n",
    "num_of_steps = 300\n",
    "for i in range(num_of_steps):\n",
    "  #your code here:\n",
    "  pass\n",
    "  \n",
    "\n",
    "  \n"
   ]
  },
  {
   "cell_type": "markdown",
   "metadata": {
    "colab_type": "text",
    "id": "fpTSCTvYnBta"
   },
   "source": [
    "## Ex0 (b) find the minimums of x^4 using Gradient Descent"
   ]
  },
  {
   "cell_type": "code",
   "execution_count": 0,
   "metadata": {
    "colab": {
     "autoexec": {
      "startup": false,
      "wait_interval": 0
     }
    },
    "colab_type": "code",
    "id": "9ZEcNN_7maCK"
   },
   "outputs": [],
   "source": [
    "\n",
    "# x to the power of 4\n",
    "def x4(x):\n",
    "    return (x*x)\n",
    "\n",
    "# derivative of x4\n",
    "def x4_(x):\n",
    "    return 4*x\n",
    "\n",
    "# starting point \n",
    "X = 10\n",
    "\n",
    "#your code here:\n",
    "lr = None\n",
    "num_of_steps = None\n",
    "\n",
    "for i in range(num_of_steps):\n",
    "  #your code here:\n",
    "  pass"
   ]
  },
  {
   "cell_type": "markdown",
   "metadata": {
    "colab_type": "text",
    "id": "LcBoDZXOPCMO"
   },
   "source": [
    "## Ex1 - find the minimums of x^2 and x^4 using the Momentum methos and compare it to Gradient Descent"
   ]
  },
  {
   "cell_type": "code",
   "execution_count": 0,
   "metadata": {
    "colab": {
     "autoexec": {
      "startup": false,
      "wait_interval": 0
     }
    },
    "colab_type": "code",
    "id": "UA5KUeMmOlSV"
   },
   "outputs": [],
   "source": [
    "# starting point for the Gradient Descent\n",
    "X2 = 10\n",
    "X4 = 10\n",
    "\n",
    "# starting point for the Momentum methos\n",
    "X2m = 10\n",
    "X4m = 10\n",
    "\n",
    "#your code here:\n",
    "lr = None\n",
    "\n",
    "# your code here (Find the appropriate learning rate, one that works for both functions)\n",
    "lrm = None\n",
    "\n",
    "#your code here:\n",
    "num_of_steps = None\n",
    "for i in range(num_of_steps):\n",
    "  #your code here:\n",
    "  \n",
    "  print(\"X2:{} \\t X4:{} \\t X2m:{} \\t X4m:{}\".format(X2,X4,X2m,X4m))\n",
    "  pass"
   ]
  },
  {
   "cell_type": "markdown",
   "metadata": {
    "colab_type": "text",
    "id": "lmHjbWp0PFV1"
   },
   "source": [
    "## Ex2 - find the minimums of x^2 and x^4 using the 4 methods below \n",
    "\n",
    "1.   Gradient Descent (sgd)\n",
    "2.   Momentum\n",
    "3. Nesterov (nag)\n",
    "4. AdaGrad\n",
    "\n",
    "\n",
    "\n",
    "\n",
    "\n"
   ]
  },
  {
   "cell_type": "code",
   "execution_count": 0,
   "metadata": {
    "colab": {
     "autoexec": {
      "startup": false,
      "wait_interval": 0
     }
    },
    "colab_type": "code",
    "id": "SpUUYhXDQ0-N"
   },
   "outputs": [],
   "source": [
    "#  starting point\n",
    "X2 = 10\n",
    "X4 = 10\n",
    "\n",
    "X2n = 10\n",
    "X4n = 10\n",
    "\n",
    "X2g = 10\n",
    "X4g = 10\n",
    "\n",
    "X2m = 10\n",
    "X4m = 10\n",
    "\n",
    "#your code here:\n",
    "\n",
    "for i in range(num_of_steps):\n",
    "  #your code here:\n",
    "  \n",
    "  print(\"X2:{} \\t X4:{} \\t X2m:{} \\t X4m:{} \\t X2n:{} \\t X4n:{} \\t X2g:{} \\t X4g:{}\".format(X2,X4,X2m,X4m,X2n,X4n,X2g,X4g))\n",
    "  pass"
   ]
  },
  {
   "cell_type": "markdown",
   "metadata": {
    "colab_type": "text",
    "id": "dtwLJRBORWfU"
   },
   "source": []
  },
  {
   "cell_type": "code",
   "execution_count": 0,
   "metadata": {
    "colab": {
     "autoexec": {
      "startup": false,
      "wait_interval": 0
     }
    },
    "colab_type": "code",
    "id": "p7XDaIDmRT2z"
   },
   "outputs": [],
   "source": []
  },
  {
   "cell_type": "markdown",
   "metadata": {
    "colab_type": "text",
    "id": "dDG1cnemRUxd"
   },
   "source": []
  }
 ],
 "metadata": {
  "colab": {
   "collapsed_sections": [],
   "default_view": {},
   "name": "optimization_ITC.ipynb",
   "provenance": [],
   "version": "0.3.2",
   "views": {}
  },
  "kernelspec": {
   "display_name": "Python 3",
   "language": "python",
   "name": "python3"
  },
  "language_info": {
   "codemirror_mode": {
    "name": "ipython",
    "version": 3
   },
   "file_extension": ".py",
   "mimetype": "text/x-python",
   "name": "python",
   "nbconvert_exporter": "python",
   "pygments_lexer": "ipython3",
   "version": "3.7.0"
  }
 },
 "nbformat": 4,
 "nbformat_minor": 1
}
