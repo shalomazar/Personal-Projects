{
 "cells": [
  {
   "cell_type": "markdown",
   "metadata": {
    "colab_type": "text",
    "id": "bsh_Efrtg0nO"
   },
   "source": []
  },
  {
   "cell_type": "code",
   "execution_count": 1,
   "metadata": {
    "colab": {
     "autoexec": {
      "startup": false,
      "wait_interval": 0
     }
    },
    "colab_type": "code",
    "id": "upxBDV9DI-Cf"
   },
   "outputs": [],
   "source": [
    "from __future__ import division, print_function, unicode_literals\n",
    "import tensorflow as tf\n",
    "from time import time\n",
    "\n",
    "\n"
   ]
  },
  {
   "cell_type": "markdown",
   "metadata": {
    "colab_type": "text",
    "id": "2W-pOTl_ileD"
   },
   "source": [
    "Construct a tensorflow graph to calculate the area of a circle. Use tf.constant to define a constant named pi, which will be equal to 3.14. And tf.Variable to set the radius (use your favorite radius value).\n",
    "Don't forget to initialize your variables.\\"
   ]
  },
  {
   "cell_type": "code",
   "execution_count": 10,
   "metadata": {
    "colab": {
     "autoexec": {
      "startup": false,
      "wait_interval": 0
     }
    },
    "colab_type": "code",
    "id": "2sHe6jG0ilGH"
   },
   "outputs": [
    {
     "name": "stdout",
     "output_type": "stream",
     "text": [
      "78.5\n"
     ]
    }
   ],
   "source": [
    "tf.reset_default_graph()\n",
    "pi = tf.constant(3.14)\n",
    "r = 5\n",
    "my_var = tf.Variable(0.0)\n",
    "circ_area = my_var.assign(pi*r*r)\n",
    "#YOUR CODE\n",
    "\n",
    "with tf.Session() as sess:\n",
    "    res = sess.run(circ_area)\n",
    "    print(res)\n",
    "    "
   ]
  },
  {
   "cell_type": "markdown",
   "metadata": {
    "colab_type": "text",
    "id": "fiGVGIMqgNVe"
   },
   "source": [
    "Repeat the same exercise as above -- calculating the area of a circle using tensorflow, but this time use tf.placeholder to hold the radius value (instead of using a variable)."
   ]
  },
  {
   "cell_type": "code",
   "execution_count": 20,
   "metadata": {
    "colab": {
     "autoexec": {
      "startup": false,
      "wait_interval": 0
     }
    },
    "colab_type": "code",
    "id": "XAaH9DBsgMru"
   },
   "outputs": [
    {
     "name": "stdout",
     "output_type": "stream",
     "text": [
      "12.56\n"
     ]
    }
   ],
   "source": [
    "tf.reset_default_graph()\n",
    "pi = tf.constant(3.14)\n",
    "r = tf.placeholder('float')\n",
    "y = pi*r*r\n",
    "with tf.Session() as sess:\n",
    "    res = sess.run(y, {r:2.0})\n",
    "    print(res)\n"
   ]
  },
  {
   "cell_type": "code",
   "execution_count": null,
   "metadata": {},
   "outputs": [],
   "source": []
  }
 ],
 "metadata": {
  "colab": {
   "collapsed_sections": [],
   "default_view": {},
   "name": "tensorflow_EX0.ipynb",
   "provenance": [
    {
     "file_id": "1NMbaHF8aFbZ3BctJCwAjYzsv8TAWFxEH",
     "timestamp": 1528919052043
    },
    {
     "file_id": "1twhLFBOCaDjPixASn4-zvV5aIHmYnf0Y",
     "timestamp": 1528918576198
    },
    {
     "file_id": "19RvBcD_vd27zIC3XpTUfsOoPNnRQm81A",
     "timestamp": 1528895264710
    }
   ],
   "version": "0.3.2",
   "views": {}
  },
  "kernelspec": {
   "display_name": "Python 2",
   "language": "python",
   "name": "python2"
  },
  "language_info": {
   "codemirror_mode": {
    "name": "ipython",
    "version": 2
   },
   "file_extension": ".py",
   "mimetype": "text/x-python",
   "name": "python",
   "nbconvert_exporter": "python",
   "pygments_lexer": "ipython2",
   "version": "2.7.15"
  }
 },
 "nbformat": 4,
 "nbformat_minor": 1
}
