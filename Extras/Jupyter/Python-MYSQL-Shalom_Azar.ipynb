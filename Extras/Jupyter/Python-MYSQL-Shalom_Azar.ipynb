{
 "cells": [
  {
   "cell_type": "code",
   "execution_count": 1,
   "metadata": {},
   "outputs": [
    {
     "name": "stdout",
     "output_type": "stream",
     "text": [
      "[(1978, 1), (1992, 1), (2003, 1)]\n",
      "[(1995, 1), (1992, 1)]\n",
      "[(1996, 1), (2000, 1), (2003, 2), (1999, 1), (1998, 1), (1994, 1), (2001, 1), (1989, 1)]\n"
     ]
    },
    {
     "data": {
      "image/png": "[encoded data removed]",
      "text/plain": [
       "<Figure size 432x288 with 1 Axes>"
      ]
     },
     "metadata": {
      "needs_background": "light"
     },
     "output_type": "display_data"
    }
   ],
   "source": [
    "%matplotlib inline\n",
    "\n",
    "import matplotlib.pyplot as plt\n",
    "import mysql.connector\n",
    "\n",
    "# fill in your username\n",
    "username = 'root'\n",
    "passwrd ='azaritc123'\n",
    "DB ='imdb'\n",
    "\n",
    "cnx = mysql.connector.connect(user=username, password=passwrd,database= DB)\n",
    "cnxc = cnx.cursor()\n",
    "\n",
    "#Queries\n",
    "query1 = 'select year, count(year) from movies where genre = \\'Action\\' group by year'\n",
    "query2 = 'select year, count(year) from movies where genre = \\'Comedy\\' group by year'\n",
    "query3 = 'select year, count(year) from movies where genre = \\'Drama\\' group by year'\n",
    "\n",
    "try:\n",
    "    cnxc.execute(query1)\n",
    "    results1 = cnxc.fetchall()\n",
    "    cnxc.execute(query2)\n",
    "    results2 = cnxc.fetchall()\n",
    "    cnxc.execute(query3)\n",
    "    results3 = cnxc.fetchall()\n",
    "\n",
    "except:\n",
    "    print \"Error: unable to fecth data\"\n",
    "\n",
    "print(results1)\n",
    "print(results2)\n",
    "print(results3)\n",
    "\n",
    "plt.title('Movies according to their genre grouped by year')\n",
    "plt.xlabel('Year')\n",
    "plt.ylabel('Genre')\n",
    "plt.scatter(*zip(*results1), label=' Action Genre', c ='blue')\n",
    "plt.scatter(*zip(*results2), label=' Comedy Genre', c = 'red')\n",
    "plt.scatter(*zip(*results3), label=' Drama Genre', c = 'black')\n",
    "plt.legend()\n",
    "plt.show()\n",
    "\n",
    "cnx.close()\n"
   ]
  },
  {
   "cell_type": "code",
   "execution_count": null,
   "metadata": {},
   "outputs": [],
   "source": []
  },
  {
   "cell_type": "code",
   "execution_count": null,
   "metadata": {},
   "outputs": [],
   "source": []
  }
 ],
 "metadata": {
  "kernelspec": {
   "display_name": "Python 2",
   "language": "python",
   "name": "python2"
  },
  "language_info": {
   "codemirror_mode": {
    "name": "ipython",
    "version": 2
   },
   "file_extension": ".py",
   "mimetype": "text/x-python",
   "name": "python",
   "nbconvert_exporter": "python",
   "pygments_lexer": "ipython2",
   "version": "2.7.15"
  }
 },
 "nbformat": 4,
 "nbformat_minor": 2
}
