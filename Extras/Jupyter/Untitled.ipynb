{
 "cells": [
  {
   "cell_type": "code",
   "execution_count": 2,
   "metadata": {},
   "outputs": [
    {
     "name": "stdout",
     "output_type": "stream",
     "text": [
      "Error: unable to fecth data\n"
     ]
    },
    {
     "ename": "NameError",
     "evalue": "name 'one_degree' is not defined",
     "output_type": "error",
     "traceback": [
      "\u001b[0;31m---------------------------------------------------------------------------\u001b[0m",
      "\u001b[0;31mNameError\u001b[0m                                 Traceback (most recent call last)",
      "\u001b[0;32m<ipython-input-2-aa58dbf50929>\u001b[0m in \u001b[0;36m<module>\u001b[0;34m()\u001b[0m\n\u001b[1;32m     62\u001b[0m     \u001b[0;32mprint\u001b[0m \u001b[0;34m\"Error: unable to fecth data\"\u001b[0m\u001b[0;34m\u001b[0m\u001b[0m\n\u001b[1;32m     63\u001b[0m \u001b[0;34m\u001b[0m\u001b[0m\n\u001b[0;32m---> 64\u001b[0;31m \u001b[0;32mprint\u001b[0m\u001b[0;34m(\u001b[0m\u001b[0mone_degree\u001b[0m\u001b[0;34m)\u001b[0m\u001b[0;34m\u001b[0m\u001b[0m\n\u001b[0m\u001b[1;32m     65\u001b[0m \u001b[0;32mprint\u001b[0m\u001b[0;34m(\u001b[0m\u001b[0mtwo_degree\u001b[0m\u001b[0;34m)\u001b[0m\u001b[0;34m\u001b[0m\u001b[0m\n\u001b[1;32m     66\u001b[0m \u001b[0;32mprint\u001b[0m\u001b[0;34m(\u001b[0m\u001b[0mthired_degree\u001b[0m\u001b[0;34m)\u001b[0m\u001b[0;34m\u001b[0m\u001b[0m\n",
      "\u001b[0;31mNameError\u001b[0m: name 'one_degree' is not defined"
     ]
    }
   ],
   "source": [
    "%matplotlib inline\n",
    "\n",
    "import matplotlib.pyplot as plt\n",
    "import mysql.connector\n",
    "\n",
    "# fill in your username\n",
    "username = 'root'\n",
    "passwrd ='azaritc123'\n",
    "DB ='imdb'\n",
    "\n",
    "cnx = mysql.connector.connect(user=username, password=passwrd,database= DB)\n",
    "cnxc = cnx.cursor()\n",
    "\n",
    "#Queries\n",
    "movies1 = '(select movie_id from cast where actor_id in (select id from actors where full_name = \"kevin bacon\"))'\n",
    "query = 'select distinct count(actor_id) from cast where movie_id in '\n",
    "query1 = query + movies1 + '))))'\n",
    "movies2 = '(select movie_id from cast where actor_id in (select actor_id from cast where movie_id in ' + movies1 + ')'\n",
    "query2 = 'select distinct count(actor_id) from cast where movie_id in ' + movies2 + '))'\n",
    "movies3 = '(select movie_id from cast where actor_id in (select actor_id from cast where movie_id in ' + movies2 + ')'\n",
    "query3 = 'select distinct count(actor_id) from cast where movie_id in ' + movies3 + '))'\n",
    "movies4 = '(select movie_id from cast where actor_id in (select actor_id from cast where movie_id in ' + movies3 + ')'\n",
    "query4 = 'select distinct count(actor_id) from cast where movie_id in ' + movies4 + '))'\n",
    "movies4 = '(select movie_id from cast where actor_id in (select actor_id from cast where movie_id in ' + movies2 + ')'\n",
    "query5 = 'select distinct count(actor_id) from cast where movie_id in ' + movies3 + '))'\n",
    "\n",
    "zero_degrees = 1 # kevin bacon himself\n",
    "\n",
    "try:\n",
    "    cnxc.execute(query1)\n",
    "    one_degree = cnxc.fetchall()\n",
    "    cnxc.execute(query2)\n",
    "    two_degree = cnxc.fetchall()\n",
    "    cnxc.execute(query3)\n",
    "    thired_degree = cnxc.fetchall()\n",
    "    cnxc.execute(query4)\n",
    "    fourth_degree = cnxc.fetchall()\n",
    "    cnxc.execute(query5)\n",
    "    fifth_degree = cnxc.fetchall()\n",
    "    cnxc.execute(query6)\n",
    "    sixth_degree = cnxc.fetchall()\n",
    "\n",
    "except:\n",
    "    print \"Error: unable to fecth data\"\n",
    "\n",
    "print(one_degree)\n",
    "print(two_degree)\n",
    "print(thired_degree)\n",
    "print(fourth_degree)\n",
    "print(fifth_degree)\n",
    "print(sixth_degree)\n",
    "\n",
    "cnx.close()\n"
   ]
  },
  {
   "cell_type": "code",
   "execution_count": null,
   "metadata": {},
   "outputs": [],
   "source": []
  },
  {
   "cell_type": "code",
   "execution_count": null,
   "metadata": {},
   "outputs": [],
   "source": []
  }
 ],
 "metadata": {
  "kernelspec": {
   "display_name": "Python 2",
   "language": "python",
   "name": "python2"
  },
  "language_info": {
   "codemirror_mode": {
    "name": "ipython",
    "version": 2
   },
   "file_extension": ".py",
   "mimetype": "text/x-python",
   "name": "python",
   "nbconvert_exporter": "python",
   "pygments_lexer": "ipython2",
   "version": "2.7.15"
  }
 },
 "nbformat": 4,
 "nbformat_minor": 2
}
