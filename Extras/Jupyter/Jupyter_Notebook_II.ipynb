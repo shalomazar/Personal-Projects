{
 "cells": [
  {
   "cell_type": "markdown",
   "metadata": {},
   "source": [
    "# When things go wrong\n",
    "sometimes a cell runs forever or at least past our patience threshold. run the following cell stop it when you've had enough by pressing the stop button or selecting interrupt from the Kernel sub-menu or pressing i, i."
   ]
  },
  {
   "cell_type": "code",
   "execution_count": null,
   "metadata": {},
   "outputs": [],
   "source": [
    "l = []\n",
    "for i in range(int(1e9)):   # iterating to a billion\n",
    "    l.append(i**3)  # i to the power of 3"
   ]
  },
  {
   "cell_type": "markdown",
   "metadata": {},
   "source": [
    "\"there must be a better way to see if our code is going to run forever!\"\n",
    "\n",
    "While I can guarantee that no one can ever guarantee that yor code won't run forever, you may get a very good hunch by profiling it. Profiling is just one of IPython magic functions, they're magic!"
   ]
  },
  {
   "cell_type": "markdown",
   "metadata": {},
   "source": [
    "# Magic functions\n",
    "magic function are specific functions preceded by one or two % signs\n",
    "\n",
    "## %timit - timing a line of code\n",
    "let's say you want to time the following line of code"
   ]
  },
  {
   "cell_type": "code",
   "execution_count": null,
   "metadata": {},
   "outputs": [],
   "source": [
    "n = 1e50009999\n",
    "%timeit l = [i**3 for i in range(int(n))]"
   ]
  },
  {
   "cell_type": "markdown",
   "metadata": {},
   "source": [
    "You can simply precede line: `l = [...` with the `%timeit` magic function. Try it now.\n",
    "\n",
    "**note** a word to the wise - don't start with a `n` that is too large otherwise you may wait forever. Start with a small `n` and then increase it to understand the trend."
   ]
  },
  {
   "cell_type": "markdown",
   "metadata": {},
   "source": [
    "## %%timeit - timing a cell\n",
    "sometimes we would like to profile an entire cell. This is easy when using `%%timeit`. Try it for the next cell."
   ]
  },
  {
   "cell_type": "code",
   "execution_count": null,
   "metadata": {},
   "outputs": [],
   "source": [
    "%%timeit\n",
    "l = []\n",
    "n = 1e6\n",
    "for i in range(int(n)):   \n",
    "    l.append(i**3)  "
   ]
  },
  {
   "cell_type": "markdown",
   "metadata": {},
   "source": [
    "Both %timeit and %%timeit are indeed magical. Among other magical feats they run your code multiple times to get a reliable estimate, but take careful consideration not to over do it. Change `n` to be `1e3`, how does the number of loops change?"
   ]
  },
  {
   "cell_type": "markdown",
   "metadata": {},
   "source": [
    "If you're really interested in profiling you can also check `%time` and `%prun`."
   ]
  },
  {
   "cell_type": "markdown",
   "metadata": {},
   "source": [
    "## accessing the documentation\n",
    "you can access the documentation for any magic function by typing in a code cell succeeded by a question mark. Run the following cell and be amazed."
   ]
  },
  {
   "cell_type": "code",
   "execution_count": null,
   "metadata": {},
   "outputs": [],
   "source": [
    "%timeit?"
   ]
  },
  {
   "cell_type": "markdown",
   "metadata": {},
   "source": [
    "## All your documentation are belong to us\n",
    "you can get all of the documentation for magic function by using the magic function `%magic` in code cell (magic-ception!). Try it now."
   ]
  },
  {
   "cell_type": "code",
   "execution_count": null,
   "metadata": {},
   "outputs": [],
   "source": [
    "%magic\n"
   ]
  },
  {
   "cell_type": "markdown",
   "metadata": {},
   "source": [
    "To get a list of magic functions you can simply type the magic function `%lsmagic` in a code cell. Try it now."
   ]
  },
  {
   "cell_type": "code",
   "execution_count": null,
   "metadata": {},
   "outputs": [],
   "source": [
    "%lsmagic"
   ]
  },
  {
   "cell_type": "markdown",
   "metadata": {},
   "source": [
    "## Debugging in Jupyter notebooks \n",
    "a friend of mine wrote a function. It ain't great. Convince yourself by running the next cell."
   ]
  },
  {
   "cell_type": "code",
   "execution_count": null,
   "metadata": {},
   "outputs": [],
   "source": [
    "%pdb on\n",
    "def f(a, b):\n",
    "    return a/b\n",
    "\n",
    "print(f(1, 2))\n",
    "print(f(5, 0))"
   ]
  },
  {
   "cell_type": "markdown",
   "metadata": {},
   "source": [
    "Exceptions, like the beeping sounds your phone makes before it succumbs to batteryless slumber, you need it but you don't have to like it. \n",
    "\n",
    "While this case may seem simple enough to resolve, you may want to debug some code you write in a notebook. Let's try. Precede the code in the previous cell with this magic incantation `%pdb on`, and run the cell again. This will drop you to the pdb debugger at the line where the exception is raised. There you can print variable and run all sorts of simple python commands. To end this magical journey press `quit()` and enter.\n",
    "\n",
    "### opionated\n",
    "while this is cool, and one can master a considerable amount of pdb kong-fu, it does seem like an exercise in futility. Jupyter notebooks are rightly celebrated for ease of prototyping and elegance of presentation. A Jupyter notebook allows you to ignore almost all the boring parts and devote your self to experimenting with new ideas - Science Yo! \n",
    "\n",
    "This is exactly the point, a Jupyter notebook should contain elegant and easily understandable code. To unleash real power you may very well need some real python code behind the scenes doing some logical heavy lifting. This should keep you Jupyter Notebook sleek and easy to use and understand, and keep real debugging where your debugging power is unimaginably greater, in an IDE (Pycharm, Atom, Visual Code).\n",
    "\n",
    "Bottom line: in my humble opinion if you need pdb magic to understand what went wrong, this may be the exact moment to transfer this block code to a dedicated script and spin up an IDE to debug it."
   ]
  },
  {
   "cell_type": "markdown",
   "metadata": {},
   "source": [
    "# Jupyter you complete me\n",
    "to become a fully fledged python ninja, you should really use code completion. In Jupyter Notebook completion is presented in two main forms. \n",
    "1. tab for completion of previously defined functions and variables; python functions imported or built-in; and Jupyter magic functions\n",
    "2. shift-tab for accessing argument names and function documentation."
   ]
  },
  {
   "cell_type": "code",
   "execution_count": null,
   "metadata": {
    "collapsed": true
   },
   "outputs": [],
   "source": [
    "l = li   # put your cursor after the i and press tab"
   ]
  },
  {
   "cell_type": "code",
   "execution_count": null,
   "metadata": {},
   "outputs": [],
   "source": [
    "# run this cell\n",
    "def f(a, b):\n",
    "    \"\"\"\n",
    "    f a useless function that does nothing\n",
    "    a -- a is the first useless argument. you shouldn't care about it\n",
    "    b -- b is the second useless argument. do you see where this is going?\n",
    "\n",
    "    \"\"\"\n",
    "    return None"
   ]
  },
  {
   "cell_type": "code",
   "execution_count": null,
   "metadata": {},
   "outputs": [],
   "source": [
    "f() # put your cursor between the parantheses and press shift-tab twice"
   ]
  },
  {
   "cell_type": "code",
   "execution_count": null,
   "metadata": {},
   "outputs": [],
   "source": [
    "range() # put your cursor between the parantheses and press shift-tab twice"
   ]
  }
 ],
 "metadata": {
  "kernelspec": {
   "display_name": "Python 2",
   "language": "python",
   "name": "python2"
  },
  "language_info": {
   "codemirror_mode": {
    "name": "ipython",
    "version": 2
   },
   "file_extension": ".py",
   "mimetype": "text/x-python",
   "name": "python",
   "nbconvert_exporter": "python",
   "pygments_lexer": "ipython2",
   "version": "2.7.15"
  }
 },
 "nbformat": 4,
 "nbformat_minor": 2
}
