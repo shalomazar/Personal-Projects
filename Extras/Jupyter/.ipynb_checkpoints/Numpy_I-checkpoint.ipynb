{
 "cells": [
  {
   "cell_type": "markdown",
   "metadata": {},
   "source": [
    "# Intro\n",
    "numpy is the go to library for numerical computation in python*. \n",
    "1. Numpy makes dealing with vectors and matrices simple and easy\n",
    "2. It has all the math functions you can imagine*\n",
    "\n",
    "## Scipy\n",
    "this is the reason for all the asterisks. In theory:\n",
    "1. Numpy - interface for array (and matrix) creation and manipulation\n",
    "2. Scipy - all the math \n",
    "\n",
    "In practice:\n",
    "1. Numpy is self contained - contains on top of an interface to arrays and matrices most of the \"obvious\" math functions you may need.\n",
    "2. Scipy - more inclusive, supposedly more actively updated in terms of math functions"
   ]
  },
  {
   "cell_type": "markdown",
   "metadata": {},
   "source": [
    "# First you import\n",
    "import numpy is **always** done as following"
   ]
  },
  {
   "cell_type": "code",
   "execution_count": 2,
   "metadata": {},
   "outputs": [],
   "source": [
    "# run forest run \n",
    "import numpy as np"
   ]
  },
  {
   "cell_type": "markdown",
   "metadata": {},
   "source": [
    "# Arrays\n",
    "run the next cell to see how arrays behave"
   ]
  },
  {
   "cell_type": "code",
   "execution_count": 3,
   "metadata": {},
   "outputs": [
    {
     "name": "stdout",
     "output_type": "stream",
     "text": [
      "[1 2 3]\n",
      "[[1 2]\n",
      " [3 4]]\n"
     ]
    }
   ],
   "source": [
    "a = np.array([1, 2, 3])\n",
    "print(a)\n",
    "\n",
    "b = np.array([[1, 2],\n",
    "              [3, 4]])\n",
    "print(b)"
   ]
  },
  {
   "cell_type": "markdown",
   "metadata": {},
   "source": [
    "As you can see you can create arrays by using the array functions on nested lists. Each level of nesting creates another dimension. To see the shape of an array access its shape property `<array>.shape`. To see how many elements are in it access its size property `<array>.size`. Do that for arrays `a` and `b`."
   ]
  },
  {
   "cell_type": "code",
   "execution_count": 34,
   "metadata": {},
   "outputs": [
    {
     "name": "stdout",
     "output_type": "stream",
     "text": [
      "(3,)\n",
      "3\n",
      "(2, 2)\n",
      "4\n"
     ]
    }
   ],
   "source": [
    "print(a.shape)\n",
    "print(a.size)\n",
    "print(b.shape)\n",
    "print(b.size)"
   ]
  },
  {
   "cell_type": "markdown",
   "metadata": {},
   "source": [
    "## Array factory methods\n",
    "array factory methods are methods used for creating arrays. You've already witnessed the shock and awe of the `array` function. Now try your luck with:\n",
    "1. the `zeros` function for creating an array of zeros with 3 rows and 5 columns\n",
    "2. the `ones` function for creating an array of ones with 5 rows and 2 columns with data type uint8\n",
    "3. the `eye` function for creating a diagonal matrix of size 3\n",
    "4. the `tril` function for creating a lower triangular matrix from the ones array you previously created\n",
    "5. the `zeros_like` function for creating an array of zeros the same shape as array `b`\n",
    "\n",
    "use inline docummentation with shift-tab or your trusty search engine to understand the inner workings of these functions"
   ]
  },
  {
   "cell_type": "code",
   "execution_count": 49,
   "metadata": {},
   "outputs": [
    {
     "name": "stdout",
     "output_type": "stream",
     "text": [
      "Now Printing Array C:\n",
      "[[0. 0. 0. 0. 0.]\n",
      " [0. 0. 0. 0. 0.]\n",
      " [0. 0. 0. 0. 0.]]\n",
      "Now Printing Array D:\n",
      "[[1. 1.]\n",
      " [1. 1.]\n",
      " [1. 1.]\n",
      " [1. 1.]\n",
      " [1. 1.]]\n",
      "Now Printing Array E:\n",
      "[[1. 0. 0.]\n",
      " [0. 1. 0.]\n",
      " [0. 0. 1.]]\n",
      "Now Printing Array F:\n",
      "[[1. 0.]\n",
      " [1. 1.]\n",
      " [1. 1.]\n",
      " [1. 1.]\n",
      " [1. 1.]]\n",
      "Now Printing Array G:\n",
      "[[0 0]\n",
      " [0 0]]\n"
     ]
    }
   ],
   "source": [
    "c = np.zeros((3,5))\n",
    "print(\"Now Printing Array C:\")\n",
    "print(c)\n",
    "d = np.ones((5,2))\n",
    "print(\"Now Printing Array D:\")\n",
    "print(d)\n",
    "e = np.eye(3)\n",
    "print(\"Now Printing Array E:\")\n",
    "print(e)\n",
    "f = np.tril(d)\n",
    "print(\"Now Printing Array F:\")\n",
    "print(f)\n",
    "g = np.zeros_like(b)\n",
    "print(\"Now Printing Array G:\")\n",
    "print(g)"
   ]
  },
  {
   "cell_type": "markdown",
   "metadata": {},
   "source": [
    "### range\n",
    "to generate a range of integers we can use the numpy counter part of the built-in `range` function `arange`. run the next cell to behold its glory."
   ]
  },
  {
   "cell_type": "code",
   "execution_count": 52,
   "metadata": {},
   "outputs": [
    {
     "name": "stdout",
     "output_type": "stream",
     "text": [
      "[ 0  1  2  3  4  5  6  7  8  9 10 11 12 13 14 15 16 17 18 19 20 21 22 23\n",
      " 24 25 26 27 28 29 30 31 32 33 34 35]\n"
     ]
    }
   ],
   "source": [
    "v = np.arange(36)\n",
    "print(v)"
   ]
  },
  {
   "cell_type": "markdown",
   "metadata": {},
   "source": [
    "# Indexing\n",
    "indexing such complex beasts may look daunting at first but fear not.\n",
    "## simple indexing\n",
    "simple indexing and slicing is done the exact same way as you would for a list in good old stock python. Use your knowledge and wits to achieve the following:\n",
    "1. print the 5'th element of `v`\n",
    "2. print a slice of v containing elements 2, 5, 8, 11\n",
    "3. print a slice of v containing elements 5, 4, 3, ...\n",
    "4. print a slice of v containing elements 32, 33, 34, ..."
   ]
  },
  {
   "cell_type": "code",
   "execution_count": 71,
   "metadata": {},
   "outputs": [
    {
     "name": "stdout",
     "output_type": "stream",
     "text": [
      "4\n",
      "[ 2  5  8 11]\n",
      "[5 4 3 2 1 0]\n",
      "[32 33 34 35]\n"
     ]
    }
   ],
   "source": [
    "print(v[4])\n",
    "print(v[2:14:3])\n",
    "print(v[5::-1])\n",
    "print(v[32::1])"
   ]
  },
  {
   "cell_type": "markdown",
   "metadata": {},
   "source": [
    "To practice some more involved indexing we'll need an interesting array. Run the next cell to generate this."
   ]
  },
  {
   "cell_type": "code",
   "execution_count": 64,
   "metadata": {},
   "outputs": [
    {
     "name": "stdout",
     "output_type": "stream",
     "text": [
      "[[ 0  1  2  3]\n",
      " [ 4  5  6  7]\n",
      " [ 8  9 10 11]\n",
      " [12 13 14 15]\n",
      " [16 17 18 19]\n",
      " [20 21 22 23]\n",
      " [24 25 26 27]\n",
      " [28 29 30 31]\n",
      " [32 33 34 35]]\n"
     ]
    }
   ],
   "source": [
    "vr = v.reshape((9, -1))  # reshaping to 9 rows and 4 columns. \n",
    "                         # using -1 tells numpy to do the math for you. you can only do this for one dimension\n",
    "print(vr)"
   ]
  },
  {
   "cell_type": "markdown",
   "metadata": {},
   "source": [
    "## 2D indexing\n",
    "it may be usful, just for a second, to think of a 2D numpy array as a list of lists. One list for each row."
   ]
  },
  {
   "cell_type": "code",
   "execution_count": 65,
   "metadata": {},
   "outputs": [],
   "source": [
    "l_2d = [[1, 2],\n",
    "        [3, 4]]"
   ]
  },
  {
   "cell_type": "markdown",
   "metadata": {},
   "source": [
    "to access the first element in second row we can try"
   ]
  },
  {
   "cell_type": "code",
   "execution_count": 66,
   "metadata": {},
   "outputs": [
    {
     "data": {
      "text/plain": [
       "3"
      ]
     },
     "execution_count": 66,
     "metadata": {},
     "output_type": "execute_result"
    }
   ],
   "source": [
    "l_2d[1][0]  # fetch the second row (list) and then fetch the first element"
   ]
  },
  {
   "cell_type": "markdown",
   "metadata": {},
   "source": [
    "This would also work for array `b`. Try it"
   ]
  },
  {
   "cell_type": "code",
   "execution_count": 67,
   "metadata": {},
   "outputs": [
    {
     "data": {
      "text/plain": [
       "3"
      ]
     },
     "execution_count": 67,
     "metadata": {},
     "output_type": "execute_result"
    }
   ],
   "source": [
    "b[1][0]"
   ]
  },
  {
   "cell_type": "markdown",
   "metadata": {},
   "source": [
    "Numpy syntax is much nicer. To acces the first element of the second row we can simply use"
   ]
  },
  {
   "cell_type": "code",
   "execution_count": 68,
   "metadata": {},
   "outputs": [
    {
     "data": {
      "text/plain": [
       "3"
      ]
     },
     "execution_count": 68,
     "metadata": {},
     "output_type": "execute_result"
    }
   ],
   "source": [
    "b[1, 0]   # the element at coordinates (1, 0)"
   ]
  },
  {
   "cell_type": "markdown",
   "metadata": {},
   "source": [
    "Now forget all this list nonsense and print the 3rd element of the 5th row of `vr`"
   ]
  },
  {
   "cell_type": "code",
   "execution_count": 70,
   "metadata": {},
   "outputs": [
    {
     "name": "stdout",
     "output_type": "stream",
     "text": [
      "18\n"
     ]
    }
   ],
   "source": [
    "print(vr[4,2])"
   ]
  },
  {
   "cell_type": "markdown",
   "metadata": {},
   "source": [
    "Now achieve some 2D magic\n",
    "1. print the second column of `vr`\n",
    "2. print the third row of `vr`\n",
    "3. print the subarray containing rows 3, 4, 5 and columns 2, 3 or `vr`"
   ]
  },
  {
   "cell_type": "code",
   "execution_count": 109,
   "metadata": {},
   "outputs": [
    {
     "name": "stdout",
     "output_type": "stream",
     "text": [
      "[ 1  5  9 13 17 21 25 29 33]\n",
      "[ 8  9 10 11]\n",
      "[[ 9 10]\n",
      " [13 14]\n",
      " [17 18]]\n"
     ]
    }
   ],
   "source": [
    "print(vr[:,1])\n",
    "print(vr[2,:])\n",
    "print(vr[2:5,1:3])"
   ]
  },
  {
   "cell_type": "markdown",
   "metadata": {},
   "source": [
    "It's important to note that unlike list slices or numpy arrays are *views* not *copies*. This means that changing elements of a slice effect the original array. \n",
    "1. Generate a subarray containing rows 3, 4, 5 and columns 2, 3 or `vr`\n",
    "2. change the element at coordinates (0, 0) to 99 and print `vr`"
   ]
  },
  {
   "cell_type": "code",
   "execution_count": 111,
   "metadata": {},
   "outputs": [
    {
     "name": "stdout",
     "output_type": "stream",
     "text": [
      "[[ 0  1  2  3]\n",
      " [ 4  5  6  7]\n",
      " [ 8 99 10 11]\n",
      " [12 13 14 15]\n",
      " [16 17 18 19]\n",
      " [20 21 22 23]\n",
      " [24 25 26 27]\n",
      " [28 29 30 31]\n",
      " [32 33 34 35]]\n"
     ]
    }
   ],
   "source": [
    "new = vr[2:5,1:3]\n",
    "new[0,0] = 99\n",
    "print(vr)"
   ]
  },
  {
   "cell_type": "markdown",
   "metadata": {},
   "source": [
    "To create a copy, we will use the copy method of the generated slice object. Try the previous routine with a copy (choose a number other than 99)."
   ]
  },
  {
   "cell_type": "code",
   "execution_count": 116,
   "metadata": {},
   "outputs": [
    {
     "name": "stdout",
     "output_type": "stream",
     "text": [
      "[[ 0  1  2  3]\n",
      " [ 4  5  6  7]\n",
      " [ 8 99 10 11]\n",
      " [12 13 14 15]\n",
      " [16 17 18 19]\n",
      " [20 21 22 23]\n",
      " [24 25 26 27]\n",
      " [28 29 30 31]\n",
      " [32 33 34 35]]\n"
     ]
    }
   ],
   "source": [
    "newcopy = np.copy(vr[2:5,1:3])\n",
    "newcopy[0,0] = 65\n",
    "print(vr)"
   ]
  },
  {
   "cell_type": "markdown",
   "metadata": {},
   "source": [
    "## Get elements at - fancy indexing\n",
    "Let's say we'd like the elements at (coordinates) (0, 0), (5, 1), (8, 2) of `vr`. We can achieve this with integer arrays or lists. Behold"
   ]
  },
  {
   "cell_type": "code",
   "execution_count": 128,
   "metadata": {},
   "outputs": [
    {
     "name": "stdout",
     "output_type": "stream",
     "text": [
      "[ 0 21 34]\n"
     ]
    }
   ],
   "source": [
    "print(vr[[0, 5, 8], [0, 1, 2]])"
   ]
  },
  {
   "cell_type": "markdown",
   "metadata": {},
   "source": [
    "### Smarty pants\n",
    "But why can't we just pass a list of coordinates (0, 0), (5, 1), (8, 2)? We can, but it will require some python voodoo. Introducing `zip`, the trusty python zipper. As it name would imply it zips stuff together. Run the following cell to get a taste"
   ]
  },
  {
   "cell_type": "code",
   "execution_count": 118,
   "metadata": {},
   "outputs": [
    {
     "name": "stdout",
     "output_type": "stream",
     "text": [
      "Please welcome John Snow\n",
      "Please welcome Darth Vader\n",
      "Please welcome Prince \n"
     ]
    }
   ],
   "source": [
    "given_names = ['John', 'Darth', 'Prince']\n",
    "surnames = ['Snow', 'Vader', '']\n",
    "\n",
    "for (name, surname) in zip(given_names, surnames):\n",
    "    print('Please welcome {}'.format(' '.join([name, surname])))"
   ]
  },
  {
   "cell_type": "markdown",
   "metadata": {},
   "source": [
    "`zip` is great and it can zip together any number of sequences you throw at it. "
   ]
  },
  {
   "cell_type": "code",
   "execution_count": 122,
   "metadata": {},
   "outputs": [
    {
     "name": "stdout",
     "output_type": "stream",
     "text": [
      "Please welcome John Snow a fantastic *spoiler*\n",
      "Please welcome Darth Vader a fantastic Sith lord\n",
      "Please welcome Prince  a fantastic Singer\n"
     ]
    }
   ],
   "source": [
    "given_names = ['John', 'Darth', 'Prince']\n",
    "surnames = ['Snow', 'Vader', '']\n",
    "occupations = ['*spoiler*', 'Sith lord', 'Singer']\n",
    "\n",
    "for (name, surname, occupation) in zip(given_names, surnames, occupations):\n",
    "    print('Please welcome {} a fantastic {}'.format(' '.join([name, surname]), occupation))"
   ]
  },
  {
   "cell_type": "markdown",
   "metadata": {},
   "source": [
    "** side note ** - there are many useful iteration tools in python. Many of them in the itertools library. Try it for yourself: import `product` from the `itertools` library and run the previous cell with `product` instead of `zip`."
   ]
  },
  {
   "cell_type": "markdown",
   "metadata": {},
   "source": [
    "Back to our quest - Use the `zip` function, the splat operator and some magic to get the coordinates we want. Define a function to make the following cell do as you want."
   ]
  },
  {
   "cell_type": "code",
   "execution_count": 148,
   "metadata": {},
   "outputs": [
    {
     "name": "stdout",
     "output_type": "stream",
     "text": [
      "coordinates (0,0) in array vr is 0\n",
      "coordinates (5,1) in array vr is 21\n",
      "coordinates (8,2) in array vr is 34\n"
     ]
    }
   ],
   "source": [
    "elements = vr[[0, 5, 8], [0, 1, 2]]\n",
    "elements = vr[[0, 5, 8], [0, 1, 2]]\n",
    "list_of_coords = [[0, 5, 8], [0, 1, 2]]\n",
    "\n",
    "for (row, column, elem) in zip(list_of_coords[1][:3], list_of_coords[:3][0], elements):\n",
    "    print('coordinates ({},{}) in array vr is {}'.format(column, row , elem))\n",
    "\n",
    "# ---\n",
    "\n",
    "#list_of_coords = [[0, 5, 8], [0, 1, 2]]\n",
    "#print(vr[coords_to_inds(list_of_coords)])"
   ]
  },
  {
   "cell_type": "markdown",
   "metadata": {},
   "source": [
    "### combining index types\n",
    "you can also combine index types: simple, slicing, fancy, by using different index type for each dimension. Try it for yourself and once you understand the trick. Perform the following magical acts on `vr`:\n",
    "1. print rows 5, 6, ... but with the columns in reverse order\n",
    "2. print columns 3, 1 with rows 0, 1, .., 4\n",
    "3. print row 7 with columns 0, 1, 2"
   ]
  },
  {
   "cell_type": "code",
   "execution_count": 180,
   "metadata": {},
   "outputs": [
    {
     "name": "stdout",
     "output_type": "stream",
     "text": [
      "[[23 22 21 20]\n",
      " [27 26 25 24]]\n",
      "[[ 1  3]\n",
      " [ 5  7]\n",
      " [99 11]\n",
      " [13 15]\n",
      " [17 19]]\n",
      "[[28 29 30]]\n"
     ]
    }
   ],
   "source": [
    "print(np.flip(vr,-1)[5:7,:])\n",
    "print(vr[0:5,1:4:2])\n",
    "print(vr[7:8,0:3])"
   ]
  },
  {
   "cell_type": "markdown",
   "metadata": {},
   "source": [
    "# Functions using arrays\n",
    "the real power of numpy is that it allows us treat arrays as we would any other number. Run the following cell"
   ]
  },
  {
   "cell_type": "code",
   "execution_count": 181,
   "metadata": {},
   "outputs": [
    {
     "name": "stdout",
     "output_type": "stream",
     "text": [
      "[[1.00000000e+00 2.71828183e+00 7.38905610e+00 2.00855369e+01]\n",
      " [5.45981500e+01 1.48413159e+02 4.03428793e+02 1.09663316e+03]\n",
      " [2.98095799e+03 9.88903032e+42 2.20264658e+04 5.98741417e+04]\n",
      " [1.62754791e+05 4.42413392e+05 1.20260428e+06 3.26901737e+06]\n",
      " [8.88611052e+06 2.41549528e+07 6.56599691e+07 1.78482301e+08]\n",
      " [4.85165195e+08 1.31881573e+09 3.58491285e+09 9.74480345e+09]\n",
      " [2.64891221e+10 7.20048993e+10 1.95729609e+11 5.32048241e+11]\n",
      " [1.44625706e+12 3.93133430e+12 1.06864746e+13 2.90488497e+13]\n",
      " [7.89629602e+13 2.14643580e+14 5.83461743e+14 1.58601345e+15]]\n",
      "[[     0      1      8     27]\n",
      " [    64    125    216    343]\n",
      " [   512 970299   1000   1331]\n",
      " [  1728   2197   2744   3375]\n",
      " [  4096   4913   5832   6859]\n",
      " [  8000   9261  10648  12167]\n",
      " [ 13824  15625  17576  19683]\n",
      " [ 21952  24389  27000  29791]\n",
      " [ 32768  35937  39304  42875]]\n"
     ]
    }
   ],
   "source": [
    "print(np.exp(vr))  # exponenting each element in vr\n",
    "print(vr ** 3)  # raising each element in vr to the third power"
   ]
  },
  {
   "cell_type": "markdown",
   "metadata": {},
   "source": [
    "Numpy also enables treating arrays as numbers with arithmetic operators (+, *, ...) \n",
    "1. generate a range 0,..,8 and reshape it as a 3 by 3 matrix\n",
    "2. generate a matrix of ones with a similar size\n",
    "3. print the addition of the two matrices\n",
    "4. print the multiplication of the two\n",
    "5. increment the range matrix by 2\n",
    "5. print the division of the one matrix by the range matrix incremented by 1"
   ]
  },
  {
   "cell_type": "code",
   "execution_count": 188,
   "metadata": {},
   "outputs": [
    {
     "name": "stdout",
     "output_type": "stream",
     "text": [
      "[[0 1 2]\n",
      " [3 4 5]\n",
      " [6 7 8]]\n",
      "[[1 1 1]\n",
      " [1 1 1]\n",
      " [1 1 1]]\n",
      "[[1 2 3]\n",
      " [4 5 6]\n",
      " [7 8 9]]\n",
      "[[0 1 2]\n",
      " [3 4 5]\n",
      " [6 7 8]]\n",
      "[[ 2  3  4]\n",
      " [ 5  6  7]\n",
      " [ 8  9 10]]\n",
      "[[0 0 0]\n",
      " [0 0 0]\n",
      " [0 0 0]]\n"
     ]
    }
   ],
   "source": [
    "h = np.arange(9).reshape(3,3)\n",
    "print(h)\n",
    "i = np.ones_like(h)\n",
    "print(i)\n",
    "j = h+i\n",
    "print(j)\n",
    "k = h*i\n",
    "print(k)\n",
    "h += 2\n",
    "print(h)\n",
    "l = i / (h+1)\n",
    "print(l)"
   ]
  },
  {
   "cell_type": "markdown",
   "metadata": {},
   "source": [
    "Please note that array multiplication is element-wise thie is very different from matrix multiplication. Use the `dot` function to perform matrix multiplication for the one matrix and the range matrix."
   ]
  },
  {
   "cell_type": "code",
   "execution_count": 190,
   "metadata": {},
   "outputs": [
    {
     "name": "stdout",
     "output_type": "stream",
     "text": [
      "[[15 18 21]\n",
      " [15 18 21]\n",
      " [15 18 21]]\n"
     ]
    }
   ],
   "source": [
    "print(np.dot(i,h))"
   ]
  },
  {
   "cell_type": "markdown",
   "metadata": {},
   "source": [
    "## Numpy is optimized\n",
    "numpy array functions are not only easy on the eyes and hands, they are also highly optimized. This means that a numpy function or vectorized function will run much faster than the same computation using loops. \n",
    "1. Time the run of the following cell containing vectorized code\n",
    "2. Generate an element wise version of this code using for loops (you can still use np.exp for each element)\n",
    "3. Time your code. Do you see any difference?"
   ]
  },
  {
   "cell_type": "code",
   "execution_count": 194,
   "metadata": {},
   "outputs": [
    {
     "name": "stdout",
     "output_type": "stream",
     "text": [
      "The slowest run took 18.17 times longer than the fastest. This could mean that an intermediate result is being cached.\n",
      "100000 loops, best of 3: 1.86 µs per loop\n"
     ]
    }
   ],
   "source": [
    "# run forest run\n",
    "%timeit np.exp(vr)"
   ]
  },
  {
   "cell_type": "code",
   "execution_count": 196,
   "metadata": {},
   "outputs": [
    {
     "name": "stdout",
     "output_type": "stream",
     "text": [
      "The slowest run took 51.62 times longer than the fastest. This could mean that an intermediate result is being cached.\n",
      "100000 loops, best of 3: 11.6 µs per loop\n"
     ]
    }
   ],
   "source": [
    "%%timeit\n",
    "for e in vr:\n",
    "    np.exp(e)"
   ]
  },
  {
   "cell_type": "markdown",
   "metadata": {},
   "source": [
    "## Numpy arrays are objects\n",
    "this means that we can call their methods. To reshape `v` we simply called `v.reshape(<new-shape>)` and not `np.reshape(v, <new-shape>)`. "
   ]
  },
  {
   "cell_type": "code",
   "execution_count": 197,
   "metadata": {},
   "outputs": [
    {
     "name": "stdout",
     "output_type": "stream",
     "text": [
      "[ 0  1  2  3  4  5  6  7  8 99 10 11 12 13 14 15 16 17 18 19 20 21 22 23\n",
      " 24 25 26 27 28 29 30 31 32 33 34 35]\n",
      "720\n",
      "720\n"
     ]
    }
   ],
   "source": [
    "# run forest run\n",
    "print(v)\n",
    "print(np.sum(v))\n",
    "print(v.sum())"
   ]
  },
  {
   "cell_type": "markdown",
   "metadata": {},
   "source": [
    "## Functions are objects\n",
    "this is crazy but functions are also objects and also have methods. In particular numpy binary functions have two interesting methods `reduce` and `accumulate`. Run the following cell"
   ]
  },
  {
   "cell_type": "code",
   "execution_count": 198,
   "metadata": {},
   "outputs": [
    {
     "name": "stdout",
     "output_type": "stream",
     "text": [
      "[0 1 2 3 4 5]\n",
      "[ 2  4  6  8 10 12]\n",
      "15\n",
      "[ 0  1  3  6 10 15]\n"
     ]
    }
   ],
   "source": [
    "# run forest run\n",
    "u = np.arange(6)\n",
    "print(u)\n",
    "\n",
    "print(np.add(u, u+2))\n",
    "print(np.add.reduce(u))\n",
    "print(np.add.accumulate(u))"
   ]
  },
  {
   "cell_type": "code",
   "execution_count": null,
   "metadata": {},
   "outputs": [],
   "source": []
  }
 ],
 "metadata": {
  "kernelspec": {
   "display_name": "Python 2",
   "language": "python",
   "name": "python2"
  },
  "language_info": {
   "codemirror_mode": {
    "name": "ipython",
    "version": 2
   },
   "file_extension": ".py",
   "mimetype": "text/x-python",
   "name": "python",
   "nbconvert_exporter": "python",
   "pygments_lexer": "ipython2",
   "version": "2.7.15"
  }
 },
 "nbformat": 4,
 "nbformat_minor": 2
}
