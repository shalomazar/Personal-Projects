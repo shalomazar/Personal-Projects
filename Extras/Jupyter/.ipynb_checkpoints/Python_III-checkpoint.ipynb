{
 "cells": [
  {
   "cell_type": "markdown",
   "metadata": {},
   "source": [
    "# Functions\n",
    "until now you've played with various python features, but this is where things start getting interesting. In any programming language, functions are the basic elements of automation and reuse. Python is no different. The next cell shows some basic function kong-fu"
   ]
  },
  {
   "cell_type": "code",
   "execution_count": 1,
   "metadata": {},
   "outputs": [
    {
     "name": "stdout",
     "output_type": "stream",
     "text": [
      "i'm a function\n",
      "i'm a function\n",
      "('arg1 is', 1, 'arg2 is', 2)\n",
      "(2, 1)\n"
     ]
    }
   ],
   "source": [
    "# a simple function\n",
    "def f():\n",
    "    print('i\\'m a function')\n",
    "    \n",
    "f()\n",
    "f()\n",
    "\n",
    "# a function can receive arguments\n",
    "def g(arg1, arg2):\n",
    "    print('arg1 is', arg1, 'arg2 is', arg2)\n",
    "g(1, 2)\n",
    "\n",
    "# a function may return one or more values as a comma separated list\n",
    "def reverse_two_arguments(arg1, arg2):\n",
    "    return arg2, arg1\n",
    "\n",
    "print(reverse_two_arguments(1, 2))\n"
   ]
  },
  {
   "cell_type": "markdown",
   "metadata": {},
   "source": [
    "### a word about return values\n",
    "as shown a function can return one or more values. It could for instance return `None` - the python equivalent of null, nada, nil, zip, gurnisht...\n",
    "\n",
    "The function in the next cell shows an example"
   ]
  },
  {
   "cell_type": "code",
   "execution_count": 2,
   "metadata": {},
   "outputs": [
    {
     "name": "stdout",
     "output_type": "stream",
     "text": [
      "None\n"
     ]
    }
   ],
   "source": [
    "def pointless(arg):\n",
    "    arg = arg * 57\n",
    "    return None\n",
    "\n",
    "ret = pointless(33)\n",
    "print(ret)"
   ]
  },
  {
   "cell_type": "markdown",
   "metadata": {},
   "source": [
    "but what about a function that returns nothing? remove the return statement in the previous cell and run again, did something change?"
   ]
  },
  {
   "cell_type": "markdown",
   "metadata": {},
   "source": [
    "### a word about indentation\n",
    "scope in python is defined by indentation. anything indented below a `def` statement is considered the function body. The same goes for loops and if statements. \n",
    "1. Run the following cell \n",
    "2. unindent the last line in the for loop and run again"
   ]
  },
  {
   "cell_type": "code",
   "execution_count": 3,
   "metadata": {},
   "outputs": [
    {
     "name": "stdout",
     "output_type": "stream",
     "text": [
      "45\n"
     ]
    }
   ],
   "source": [
    "sum_ = 0\n",
    "counter = 0\n",
    "for i in range(10):\n",
    "    counter += 1\n",
    "    sum_ += i\n",
    "    \n",
    "print(sum_)"
   ]
  },
  {
   "cell_type": "markdown",
   "metadata": {},
   "source": [
    "This indentation policy is common source of grief for python newcomers. Take extra care when copying code from other locations or when using automated indentation and formatting features."
   ]
  },
  {
   "cell_type": "markdown",
   "metadata": {},
   "source": [
    "## Argumentative \n",
    "### naming values\n",
    "you can call a function while explicitly naming the arguments"
   ]
  },
  {
   "cell_type": "code",
   "execution_count": 4,
   "metadata": {},
   "outputs": [
    {
     "name": "stdout",
     "output_type": "stream",
     "text": [
      "4\n",
      "-4\n"
     ]
    }
   ],
   "source": [
    "def f(a, b):\n",
    "    return a-b\n",
    "\n",
    "print(f(7, 3))\n",
    "print(f(b=7, a=3))"
   ]
  },
  {
   "cell_type": "markdown",
   "metadata": {},
   "source": [
    "one thing to note is you can not use a unnamed parameter after a named one"
   ]
  },
  {
   "cell_type": "code",
   "execution_count": 5,
   "metadata": {},
   "outputs": [
    {
     "name": "stdout",
     "output_type": "stream",
     "text": [
      "9\n"
     ]
    }
   ],
   "source": [
    "def g(a, b, c):\n",
    "    return (a+b)*c\n",
    "\n",
    "print(g(1, 2, 3))"
   ]
  },
  {
   "cell_type": "code",
   "execution_count": 6,
   "metadata": {},
   "outputs": [
    {
     "name": "stdout",
     "output_type": "stream",
     "text": [
      "9\n"
     ]
    }
   ],
   "source": [
    "print(g(1, b=2, c=3))"
   ]
  },
  {
   "cell_type": "code",
   "execution_count": 7,
   "metadata": {},
   "outputs": [
    {
     "ename": "SyntaxError",
     "evalue": "non-keyword arg after keyword arg (<ipython-input-7-4c1ce314d0d6>, line 1)",
     "output_type": "error",
     "traceback": [
      "\u001b[0;36m  File \u001b[0;32m\"<ipython-input-7-4c1ce314d0d6>\"\u001b[0;36m, line \u001b[0;32m1\u001b[0m\n\u001b[0;31m    print(g(1, b=2, 3))\u001b[0m\n\u001b[0;31mSyntaxError\u001b[0m\u001b[0;31m:\u001b[0m non-keyword arg after keyword arg\n"
     ]
    }
   ],
   "source": [
    "print(g(1, b=2, 3))"
   ]
  },
  {
   "cell_type": "markdown",
   "metadata": {},
   "source": [
    "### default values\n",
    "you can set default values for arguments"
   ]
  },
  {
   "cell_type": "code",
   "execution_count": 8,
   "metadata": {},
   "outputs": [
    {
     "name": "stdout",
     "output_type": "stream",
     "text": [
      "21\n",
      "14\n"
     ]
    }
   ],
   "source": [
    "def f(a, b=2):\n",
    "    return a*b\n",
    "\n",
    "print(f(7, 3))\n",
    "print(f(7))"
   ]
  },
  {
   "cell_type": "markdown",
   "metadata": {},
   "source": [
    "### *args\n",
    "in python you can define a function which is flexible in the number of arguments it uses"
   ]
  },
  {
   "cell_type": "code",
   "execution_count": 9,
   "metadata": {},
   "outputs": [
    {
     "name": "stdout",
     "output_type": "stream",
     "text": [
      "('first', 1, 'last', 3)\n",
      "('first', 1, 'last', 2)\n"
     ]
    }
   ],
   "source": [
    "def f(*args):\n",
    "    print('first', args[0], 'last', args[-1])\n",
    "\n",
    "f(1, 2, 3)\n",
    "f(1, 2)"
   ]
  },
  {
   "cell_type": "markdown",
   "metadata": {},
   "source": [
    "*args is a tuple"
   ]
  },
  {
   "cell_type": "code",
   "execution_count": 10,
   "metadata": {},
   "outputs": [
    {
     "name": "stdout",
     "output_type": "stream",
     "text": [
      "<type 'tuple'>\n"
     ]
    }
   ],
   "source": [
    "def g(*args):\n",
    "    print(type(args))\n",
    "    \n",
    "g(1, 2, 3)"
   ]
  },
  {
   "cell_type": "markdown",
   "metadata": {},
   "source": [
    "write `reverse_args` a function that gets an variable number of arguments and returns them in reversed order. bonus: write the function a one-liner body."
   ]
  },
  {
   "cell_type": "code",
   "execution_count": 11,
   "metadata": {},
   "outputs": [
    {
     "data": {
      "text/plain": [
       "(3, 2, 1)"
      ]
     },
     "execution_count": 11,
     "metadata": {},
     "output_type": "execute_result"
    }
   ],
   "source": [
    "def reverse_args(*args):\n",
    "    return args[::-1]\n",
    "    \n",
    "reverse_args(1, 2, 3)"
   ]
  },
  {
   "cell_type": "markdown",
   "metadata": {},
   "source": [
    "### **kwargs\n",
    "you can also define a function that gets an variable number of keyword arguments"
   ]
  },
  {
   "cell_type": "code",
   "execution_count": 12,
   "metadata": {},
   "outputs": [
    {
     "name": "stdout",
     "output_type": "stream",
     "text": [
      "{'a': 5, 'b': 6}\n",
      "<type 'dict'>\n"
     ]
    }
   ],
   "source": [
    "def h(**kwargs):\n",
    "    print(kwargs)\n",
    "    \n",
    "# kwargs is a dictionary\n",
    "def r(**kwargs):\n",
    "    print(type(kwargs))\n",
    "    \n",
    "h(a=5, b=6)\n",
    "r(c=7, d=9)"
   ]
  },
  {
   "cell_type": "markdown",
   "metadata": {},
   "source": [
    "write `arbitrary` a function which receives a variable number of keyword arguments and returns True if one of the arguments is 'a' or if the number of arguemnts is 3. bonus: write the function with a one-liner body."
   ]
  },
  {
   "cell_type": "code",
   "execution_count": 13,
   "metadata": {},
   "outputs": [
    {
     "data": {
      "text/plain": [
       "False"
      ]
     },
     "execution_count": 13,
     "metadata": {},
     "output_type": "execute_result"
    }
   ],
   "source": [
    "def arbitrary(**kwargs):\n",
    "    for x in kwargs.items():\n",
    "        if x == 'a':\n",
    "            return True\n",
    "    return len(kwargs) == 3\n",
    "\n",
    "arbitrary(x=1,b=2,l=3,y=4)"
   ]
  },
  {
   "cell_type": "markdown",
   "metadata": {},
   "source": [
    "### splat or unpacking\n",
    "Let's say you have a list and you want to define the function `reverse_args` to reverse it, how can you do that? You can can call it with your list preceded by `*`. Similarly if you want to call `arbitrary` with a dictionary you can do so by calling it with a dictionary preceded by `**`. Try it now."
   ]
  },
  {
   "cell_type": "code",
   "execution_count": 14,
   "metadata": {},
   "outputs": [
    {
     "name": "stdout",
     "output_type": "stream",
     "text": [
      "(7, 4, 1, 34)\n",
      "False\n"
     ]
    }
   ],
   "source": [
    "args = [34,1,4,7]\n",
    "print(reverse_args(*args))\n",
    "\n",
    "country = {'location':'Israel','language': 'hebrew'}\n",
    "print(arbitrary(**country))"
   ]
  },
  {
   "cell_type": "markdown",
   "metadata": {},
   "source": [
    "## First-class citizens\n",
    "functions in python are first-class citizens, which means that they can be treated as any other variable in terms of assignment."
   ]
  },
  {
   "cell_type": "code",
   "execution_count": 15,
   "metadata": {},
   "outputs": [
    {
     "name": "stdout",
     "output_type": "stream",
     "text": [
      "10\n",
      "<function add5 at 0x10de5d050>\n",
      "10\n"
     ]
    }
   ],
   "source": [
    "def add5(arg):\n",
    "    return arg+5\n",
    "\n",
    "a = add5(5)\n",
    "b = add5\n",
    "\n",
    "print(a)\n",
    "print(b)\n",
    "print(b(5))"
   ]
  },
  {
   "cell_type": "code",
   "execution_count": 16,
   "metadata": {},
   "outputs": [],
   "source": [
    "mind = 'blown'"
   ]
  },
  {
   "cell_type": "markdown",
   "metadata": {},
   "source": [
    "and more importantly the can be passed as arguments to functions"
   ]
  },
  {
   "cell_type": "code",
   "execution_count": 17,
   "metadata": {},
   "outputs": [
    {
     "name": "stdout",
     "output_type": "stream",
     "text": [
      "[0, -1, -2, -3, -4]\n",
      "[0, 2, 4]\n"
     ]
    }
   ],
   "source": [
    "def manipulate_range(n, manip):\n",
    "    return [manip(e) for e in range(n)]\n",
    "\n",
    "def negate(v):\n",
    "    return -v\n",
    "\n",
    "def mul2(v):\n",
    "    return 2*v\n",
    "\n",
    "print(manipulate_range(5, negate))\n",
    "print(manipulate_range(3, mul2))"
   ]
  },
  {
   "cell_type": "markdown",
   "metadata": {},
   "source": [
    "## looking for closure\n",
    "since functions are first-class citizens they can also be returned as return values. Add to that the fact that functions 'remember' the scope in which they were defined and you can some nifty stuff. Let's say you're in the business of generating adders. "
   ]
  },
  {
   "cell_type": "code",
   "execution_count": 18,
   "metadata": {},
   "outputs": [],
   "source": [
    "def add1(v):\n",
    "    return v+1\n",
    "\n",
    "def add2(v):\n",
    "    return v+2\n",
    "\n",
    "def add3(v):\n",
    "    return v+3"
   ]
  },
  {
   "cell_type": "markdown",
   "metadata": {},
   "source": [
    "A closure is a function + scope (variables). We can use a closure to generate an adder factory."
   ]
  },
  {
   "cell_type": "code",
   "execution_count": 19,
   "metadata": {},
   "outputs": [
    {
     "name": "stdout",
     "output_type": "stream",
     "text": [
      "(3, 101)\n",
      "(4, 102)\n"
     ]
    }
   ],
   "source": [
    "def adder_factory(n):\n",
    "    def addN(v):\n",
    "        return v+n\n",
    "    \n",
    "    return addN\n",
    "\n",
    "add1 = adder_factory(1)\n",
    "add2 = adder_factory(2)\n",
    "\n",
    "print(add1(2), add1(100))\n",
    "print(add2(2), add2(100))"
   ]
  },
  {
   "cell_type": "markdown",
   "metadata": {},
   "source": [
    "This is of course a toy example, you may wish to generate functions that are extremely complex and reference some value given once in initialization. "
   ]
  },
  {
   "cell_type": "markdown",
   "metadata": {},
   "source": [
    "Use what you've learned so far to define the function `range_n_mul_n`. This function receives a positive integer n and returns a list as following $[0, 1\\cdot n, 2\\cdot n, \\ldots, (n-1)\\cdot n]$. The function body should be one line calling `manipulate_range`. Try your function on $n=3, 5, 10$"
   ]
  },
  {
   "cell_type": "code",
   "execution_count": 20,
   "metadata": {},
   "outputs": [
    {
     "name": "stdout",
     "output_type": "stream",
     "text": [
      "[0, 3, 6]\n",
      "[0, 5, 10, 15, 20]\n",
      "[0, 10, 20, 30, 40, 50, 60, 70, 80, 90]\n"
     ]
    }
   ],
   "source": [
    "def range_n_mul_n(n):\n",
    "    return range(0,(n*n),n)\n",
    "\n",
    "print(range_n_mul_n(3))\n",
    "print(range_n_mul_n(5))\n",
    "print(range_n_mul_n(10))"
   ]
  },
  {
   "cell_type": "markdown",
   "metadata": {},
   "source": [
    "## Lambdas\n",
    "you can also define using a one-liner expression using lambdas"
   ]
  },
  {
   "cell_type": "code",
   "execution_count": 21,
   "metadata": {},
   "outputs": [
    {
     "name": "stdout",
     "output_type": "stream",
     "text": [
      "4\n",
      "6\n"
     ]
    }
   ],
   "source": [
    "sub5 = lambda x: x - 5\n",
    "print(sub5(9))\n",
    "\n",
    "mul_a_b = lambda x, y: x * y\n",
    "print(mul_a_b(2, 3))"
   ]
  },
  {
   "cell_type": "markdown",
   "metadata": {},
   "source": [
    "Lambdas are convenient in some situations but have major shortcomings\n",
    "1. they are one-liners\n",
    "2. you use assignment in a lambda function\n",
    "3. lambdas may suffer performance issues in some situations"
   ]
  },
  {
   "cell_type": "markdown",
   "metadata": {},
   "source": [
    "## Generators\n",
    "a generator is a specific type of function used specifically for iteration. Let's say you've defined a generator function called `my_gen` using it in a for loop is as easy as:\n",
    "\n",
    "`for e in my_gen(...):\n",
    "    <loop-body>`\n",
    "    \n",
    "in fact we've already encounterd one generator - the range function."
   ]
  },
  {
   "cell_type": "code",
   "execution_count": 22,
   "metadata": {},
   "outputs": [
    {
     "name": "stdout",
     "output_type": "stream",
     "text": [
      "0\n",
      "1\n",
      "2\n",
      "3\n",
      "4\n",
      "5\n",
      "6\n",
      "7\n",
      "8\n",
      "9\n"
     ]
    }
   ],
   "source": [
    "for i in range(10):\n",
    "    print(i)"
   ]
  },
  {
   "cell_type": "markdown",
   "metadata": {},
   "source": [
    "Let's create are own version of range"
   ]
  },
  {
   "cell_type": "code",
   "execution_count": 23,
   "metadata": {},
   "outputs": [],
   "source": [
    "def our_range(n):\n",
    "    _n = 0\n",
    "    while _n < n:\n",
    "        yield _n\n",
    "        _n += 1\n",
    "        "
   ]
  },
  {
   "cell_type": "markdown",
   "metadata": {},
   "source": [
    "That's not a very good function but it does work. The thing which makes it a generator is the `yield` expression. Use our generator in a for loop to convince yourself it works"
   ]
  },
  {
   "cell_type": "code",
   "execution_count": 24,
   "metadata": {},
   "outputs": [
    {
     "name": "stdout",
     "output_type": "stream",
     "text": [
      "0\n",
      "1\n",
      "2\n",
      "3\n",
      "4\n",
      "5\n",
      "6\n",
      "7\n",
      "8\n",
      "9\n"
     ]
    }
   ],
   "source": [
    "for i in our_range(10):\n",
    "    print(i)"
   ]
  },
  {
   "cell_type": "markdown",
   "metadata": {},
   "source": [
    "Our generator does not meet all the requirements to stand in for the built-in `range` function. Use what you've learned so far to make sure that you can call\n",
    "1. `our_range(n)` a range from zero to n\n",
    "2. `our_range(n0, n)` a range from n0 to n\n",
    "3. `our_range(n0, n, step_size)`\n",
    "\n",
    "hint: feel free to return nothing when called with the wrong number of arguments"
   ]
  },
  {
   "cell_type": "code",
   "execution_count": 25,
   "metadata": {},
   "outputs": [],
   "source": [
    "def new_range(*args):\n",
    "    step_size = 1\n",
    "    if(len(args)) > 1:\n",
    "        if(len(args)) > 2:\n",
    "            step_size = args[2]\n",
    "        _n = args[0]\n",
    "        n = args[1]\n",
    "    else:\n",
    "        n = args[0]\n",
    "        _n = 0\n",
    "    while _n < n:\n",
    "        yield _n\n",
    "        _n += step_size"
   ]
  },
  {
   "cell_type": "markdown",
   "metadata": {},
   "source": [
    "Convince yourself our implementation of range is inferior to the built-in `range` in terms of performance by using the profiling magic functions"
   ]
  },
  {
   "cell_type": "code",
   "execution_count": 26,
   "metadata": {},
   "outputs": [
    {
     "name": "stdout",
     "output_type": "stream",
     "text": [
      "The slowest run took 8.83 times longer than the fastest. This could mean that an intermediate result is being cached.\n",
      "1000000 loops, best of 3: 675 ns per loop\n",
      "1000000 loops, best of 3: 524 ns per loop\n"
     ]
    }
   ],
   "source": [
    "%timeit new_range(10,20,2)\n",
    "%timeit range(10,20,2)"
   ]
  },
  {
   "cell_type": "markdown",
   "metadata": {},
   "source": [
    "Generators may help you create code that is more elegant, readable, maintainable and extensible, but using them or not is a matter of personal taste."
   ]
  },
  {
   "cell_type": "markdown",
   "metadata": {},
   "source": [
    "# Classes\n",
    "As previosly mentioned, python is first and foremost an object oriented language. At the heart of this trait lie classes. Simply put, clases are data structures (or structs) with methods attached. This roughly translates to classes telling you how to use them. "
   ]
  },
  {
   "cell_type": "code",
   "execution_count": 27,
   "metadata": {},
   "outputs": [],
   "source": [
    "# a simple example\n",
    "class C:\n",
    "    def __init__(self, a, b=5):\n",
    "        self.a = a\n",
    "        self.b = b\n",
    "        \n",
    "    def add(self, other):\n",
    "        if not isinstance(other, C):\n",
    "            return None\n",
    "        \n",
    "        return C(self.a + other.a, self.b + other.b)"
   ]
  },
  {
   "cell_type": "markdown",
   "metadata": {},
   "source": [
    "## definition\n",
    "a class is defined using\n",
    "\n",
    "`class <class-name>:\n",
    "    <class-body>`\n",
    "    \n",
    "everything indented after the class header belongs to the class.\n",
    "\n",
    "## class Vs. instance\n",
    "a class is a mold or a compound type, an instance is an object of that type\n",
    "\n",
    "## __init__\n",
    "the init function defines what happens when generate a new instance of our class\n",
    "\n",
    "## accessing class methods and fields\n",
    "class methods and fields are accessed using the dot notation `<instance>.<field/method>`"
   ]
  },
  {
   "cell_type": "code",
   "execution_count": 28,
   "metadata": {},
   "outputs": [
    {
     "name": "stdout",
     "output_type": "stream",
     "text": [
      "3\n",
      "(4, 8)\n"
     ]
    }
   ],
   "source": [
    "c1 = C(3)\n",
    "c2 = C(1, 3)\n",
    "print(c1.a)\n",
    "c3 = c1.add(c2)\n",
    "print(c3.a, c3.b)"
   ]
  },
  {
   "cell_type": "markdown",
   "metadata": {},
   "source": [
    "## self\n",
    "all class methods take self as the first argument. One reason is that it allows accessing other instance methods and functions. The other reason is that calling an instance method with the dot notation is simply a convnience wrapper. Or in other words: \n",
    "\n",
    "`<instance>.<method>(arguments) == <class>.<method>(instance, arguments)`"
   ]
  },
  {
   "cell_type": "code",
   "execution_count": 29,
   "metadata": {},
   "outputs": [
    {
     "name": "stdout",
     "output_type": "stream",
     "text": [
      "(4, 8)\n"
     ]
    }
   ],
   "source": [
    "c4 = C.add(c1, c2)\n",
    "print(c4.a, c4.b)"
   ]
  },
  {
   "cell_type": "markdown",
   "metadata": {},
   "source": [
    "## python is so classy\n",
    "almost everything in python is a class. "
   ]
  },
  {
   "cell_type": "code",
   "execution_count": 38,
   "metadata": {},
   "outputs": [
    {
     "name": "stdout",
     "output_type": "stream",
     "text": [
      "(5, 2)\n",
      "['hello', 'future', 'jedi', 'masters']\n",
      "hello future jedi masters\n",
      "_hello future jedi masters_\n",
      "Hello Future Jedi Masters\n"
     ]
    }
   ],
   "source": [
    "a = 2.5\n",
    "print(a.as_integer_ratio())\n",
    "s = 'hello future jedi masters'\n",
    "list_of_words = s.split(' ')\n",
    "print(list_of_words)\n",
    "print(' '.join(list_of_words))\n",
    "print(s.join(['_']*2))\n",
    "print(s.title())"
   ]
  },
  {
   "cell_type": "markdown",
   "metadata": {},
   "source": [
    "### class exercise\n",
    "an imaginary class holds an election for class monarch. Each class member at his turn goes behind the ballot and:\n",
    "1. casts a vote for another class member\n",
    "2. decides whether or not he wants to be a candidate (the default is: not a candidate)\n",
    "\n",
    "The winner of these elections is the class member which:\n",
    "1. marked himself as candidate\n",
    "2. is the candidate with the highest number of votes\n",
    "3. is a class member i.e. also voted\n",
    "\n",
    "votes cast for names not in the class, or not candidates are irrelevant. Your mission is to write a class `Elections` with:\n",
    "1. a method `cast_vote` handling the votes\n",
    "2. a method `declare_winner` declaring (returning) the winner's name. \n",
    "\n",
    "Below are cells for you to write your class and a cell containing an example election process. Assume a draw is impossible."
   ]
  },
  {
   "cell_type": "code",
   "execution_count": 39,
   "metadata": {},
   "outputs": [],
   "source": [
    "from operator import itemgetter\n",
    "\n",
    "class Elections:\n",
    "    def __init__(self):\n",
    "        self.votes = []\n",
    "        self.candidates = {}\n",
    "        return\n",
    "                    \n",
    "    def cast_vote(self, vote):\n",
    "        self.votes.append(vote['vote'])\n",
    "        if(vote.__contains__('candidate')):\n",
    "            if(vote['candidate']):\n",
    "                if self.candidates.__contains__(vote['name']):\n",
    "                    self.candidates[vote['name']] += 1\n",
    "                else:\n",
    "                    self.candidates[vote['name']] = 1\n",
    "    \n",
    "    def declare_winner(self):\n",
    "        dictlist = [(k, v) for k, v in self.candidates.items()]\n",
    "        dictlist.sort(key=itemgetter(1), reverse=True)\n",
    "        return dictlist[0][0]\n",
    "#         list.sort(self.votes)\n",
    "#         counter = 0\n",
    "#         maxcount = 0\n",
    "#         p = 0\n",
    "#         for i in range(self.votes) + 1:\n",
    "#             if self.votes[i] in self.candidates:\n",
    "#                 if self.votes[i] == self.votes[i+1]:\n",
    "#                     counter += 1\n",
    "#                 else:\n",
    "#                     counter = 1\n",
    "#             if counter > maxcount:\n",
    "#                 maxcount = counter\n",
    "#                 p = i\n",
    "#         return self.votes[[p]]\n",
    "    \n",
    "#I have no clue where to go from here\n",
    "    \n",
    "    "
   ]
  },
  {
   "cell_type": "code",
   "execution_count": 40,
   "metadata": {},
   "outputs": [
    {
     "name": "stdout",
     "output_type": "stream",
     "text": [
      "Elvis\n"
     ]
    }
   ],
   "source": [
    "elec = Elections()\n",
    "\n",
    "votes = [\n",
    "    {'name':'Zehava', 'vote':'Moshe'},\n",
    "    {'name':'Ludmila', 'vote':'Rex', 'candidate':False},\n",
    "    {'name':'Jim', 'vote':'Jim', 'candidate':True},\n",
    "    {'name':'Elvis', 'vote':'Rex', 'candidate':True},\n",
    "    {'name':'Juan', 'vote':'Moshe', 'candidate':True},\n",
    "    {'name':'Amelie', 'vote':'Moshe', 'candidate':False},\n",
    "    {'name':'Orit', 'vote':'Jim'},\n",
    "    {'name':'Patricia', 'vote':'Rex'},\n",
    "    {'name':'Moshe', 'vote':'Juan'}\n",
    "]\n",
    "\n",
    "for v in votes:\n",
    "    elec.cast_vote(v)\n",
    "    \n",
    "print(elec.declare_winner())"
   ]
  },
  {
   "cell_type": "markdown",
   "metadata": {},
   "source": [
    "## inheritance\n",
    "one of the nicest features of classes is that they can be extended via inheritance. An inherited class inherits all fields and methods of the parent class besides those it overrides. See example below"
   ]
  },
  {
   "cell_type": "code",
   "execution_count": 41,
   "metadata": {},
   "outputs": [
    {
     "name": "stdout",
     "output_type": "stream",
     "text": [
      "Hello, I'm a shape with size 5\n",
      "Hello, I'm a blob with size 3\n"
     ]
    },
    {
     "ename": "TypeError",
     "evalue": "super() takes at least 1 argument (0 given)",
     "output_type": "error",
     "traceback": [
      "\u001b[0;31m---------------------------------------------------------------------------\u001b[0m",
      "\u001b[0;31mTypeError\u001b[0m                                 Traceback (most recent call last)",
      "\u001b[0;32m<ipython-input-41-4476b3d26aa3>\u001b[0m in \u001b[0;36m<module>\u001b[0;34m()\u001b[0m\n\u001b[1;32m     32\u001b[0m \u001b[0mb\u001b[0m \u001b[0;34m=\u001b[0m \u001b[0mBlob\u001b[0m\u001b[0;34m(\u001b[0m\u001b[0;36m3\u001b[0m\u001b[0;34m)\u001b[0m\u001b[0;34m\u001b[0m\u001b[0m\n\u001b[1;32m     33\u001b[0m \u001b[0mb\u001b[0m\u001b[0;34m.\u001b[0m\u001b[0mprint_shape\u001b[0m\u001b[0;34m(\u001b[0m\u001b[0;34m)\u001b[0m\u001b[0;34m\u001b[0m\u001b[0m\n\u001b[0;32m---> 34\u001b[0;31m \u001b[0mr\u001b[0m \u001b[0;34m=\u001b[0m \u001b[0mRectangle\u001b[0m\u001b[0;34m(\u001b[0m\u001b[0;36m3\u001b[0m\u001b[0;34m,\u001b[0m \u001b[0;36m4\u001b[0m\u001b[0;34m)\u001b[0m\u001b[0;34m\u001b[0m\u001b[0m\n\u001b[0m\u001b[1;32m     35\u001b[0m \u001b[0mr\u001b[0m\u001b[0;34m.\u001b[0m\u001b[0mprint_shape\u001b[0m\u001b[0;34m(\u001b[0m\u001b[0;34m)\u001b[0m\u001b[0;34m\u001b[0m\u001b[0m\n\u001b[1;32m     36\u001b[0m \u001b[0msq\u001b[0m \u001b[0;34m=\u001b[0m \u001b[0mSquare\u001b[0m\u001b[0;34m(\u001b[0m\u001b[0;36m5\u001b[0m\u001b[0;34m)\u001b[0m\u001b[0;34m\u001b[0m\u001b[0m\n",
      "\u001b[0;32m<ipython-input-41-4476b3d26aa3>\u001b[0m in \u001b[0;36m__init__\u001b[0;34m(self, a, b)\u001b[0m\n\u001b[1;32m     15\u001b[0m         \u001b[0mself\u001b[0m\u001b[0;34m.\u001b[0m\u001b[0ma\u001b[0m \u001b[0;34m=\u001b[0m \u001b[0ma\u001b[0m\u001b[0;34m\u001b[0m\u001b[0m\n\u001b[1;32m     16\u001b[0m         \u001b[0mself\u001b[0m\u001b[0;34m.\u001b[0m\u001b[0mb\u001b[0m \u001b[0;34m=\u001b[0m \u001b[0mb\u001b[0m\u001b[0;34m\u001b[0m\u001b[0m\n\u001b[0;32m---> 17\u001b[0;31m         \u001b[0msuper\u001b[0m\u001b[0;34m(\u001b[0m\u001b[0;34m)\u001b[0m\u001b[0;34m.\u001b[0m\u001b[0m__init__\u001b[0m\u001b[0;34m(\u001b[0m\u001b[0ma\u001b[0m\u001b[0;34m*\u001b[0m\u001b[0mb\u001b[0m\u001b[0;34m)\u001b[0m  \u001b[0;31m# we always call the __init__ function of the super class (the class we inherit from)\u001b[0m\u001b[0;34m\u001b[0m\u001b[0m\n\u001b[0m\u001b[1;32m     18\u001b[0m \u001b[0;34m\u001b[0m\u001b[0m\n\u001b[1;32m     19\u001b[0m     \u001b[0;32mdef\u001b[0m \u001b[0mprint_shape\u001b[0m\u001b[0;34m(\u001b[0m\u001b[0mself\u001b[0m\u001b[0;34m)\u001b[0m\u001b[0;34m:\u001b[0m\u001b[0;34m\u001b[0m\u001b[0m\n",
      "\u001b[0;31mTypeError\u001b[0m: super() takes at least 1 argument (0 given)"
     ]
    }
   ],
   "source": [
    "class Shape():\n",
    "    def __init__(self, size_=0):\n",
    "        self.size = size_\n",
    "        \n",
    "    def print_shape(self):\n",
    "        print('Hello, I\\'m a shape with size {}'.format(self.size))\n",
    "        \n",
    "class Blob(Shape):   # blob inherits from shape\n",
    "    # we don't need to change __init__ to achieve the desired functionality so we just ignore it and iherit it by default\n",
    "    def print_shape(self):\n",
    "        print('Hello, I\\'m a blob with size {}'.format(self.size))\n",
    "        \n",
    "class Rectangle(Shape):   # rectangle inherits from shape\n",
    "    def __init__(self, a, b):\n",
    "        self.a = a\n",
    "        self.b = b\n",
    "        super().__init__(a*b)  # we always call the __init__ function of the super class (the class we inherit from)\n",
    "        \n",
    "    def print_shape(self):\n",
    "        print('Hello, I\\'m a rectangle with size {} and shape ({}, {})'.format(self.size, self.a, self.b))\n",
    "        \n",
    "class Square(Rectangle):  # square inherits from rectangle\n",
    "    def __init__(self, a):\n",
    "        super().__init__(a, a)  # not the best practice in this case but we're using the __init__ function of rectangle\n",
    "        \n",
    "    def print_shape(self):\n",
    "        print('Hello, I\\'m a square with size {}. Each of my sides is equal to {}. '.format(self.size, self.a) +\n",
    "              'I\\'m so square.')\n",
    "        \n",
    "s = Shape(5)\n",
    "s.print_shape()\n",
    "b = Blob(3)\n",
    "b.print_shape()\n",
    "r = Rectangle(3, 4)\n",
    "r.print_shape()\n",
    "sq = Square(5)\n",
    "sq.print_shape()\n",
    "\n",
    "# we can see inheritance in action \n",
    "print(isinstance(sq, Square))\n",
    "print(isinstance(sq, Rectangle))\n",
    "print(isinstance(sq, Shape))"
   ]
  },
  {
   "cell_type": "markdown",
   "metadata": {},
   "source": [
    "Now use this new found magic to implement a new class `OpenElections` inheriting from `Elections`. In `OpenElections` the `declare_winner` reports the results for all valid candidates."
   ]
  },
  {
   "cell_type": "code",
   "execution_count": 82,
   "metadata": {},
   "outputs": [],
   "source": [
    "class OpenElections(Elections):\n",
    "    def declare_winner(self):\n",
    "        for vote in self.candidates:\n",
    "            print(vote)"
   ]
  },
  {
   "cell_type": "code",
   "execution_count": 83,
   "metadata": {},
   "outputs": [
    {
     "name": "stdout",
     "output_type": "stream",
     "text": [
      "Elvis\n",
      "Jim\n",
      "Juan\n"
     ]
    }
   ],
   "source": [
    "elec = OpenElections()\n",
    "\n",
    "votes = [\n",
    "    {'name':'Zehava', 'vote' :'Moshe'},\n",
    "    {'name': 'Ludmila', 'vote' : 'Rex', 'candidate' : False},\n",
    "    {'name': 'Jim', 'vote':'Jim', 'candidate':True},\n",
    "    {'name':'Elvis', 'vote':'Rex', 'candidate':True},\n",
    "    {'name':'Juan', 'vote':'Moshe', 'candidate':True},\n",
    "    {'name':'Amelie', 'vote':'Moshe', 'candidate':False},\n",
    "    {'name':'Orit', 'vote':'Jim'},\n",
    "    {'name':'Patricia', 'vote':'Rex'},\n",
    "    {'name':'Moshe', 'vote':'Juan'}\n",
    "]\n",
    "\n",
    "for v in votes:\n",
    "    elec.cast_vote(v)\n",
    "    \n",
    "elec.declare_winner()"
   ]
  }
 ],
 "metadata": {
  "kernelspec": {
   "display_name": "Python 2",
   "language": "python",
   "name": "python2"
  },
  "language_info": {
   "codemirror_mode": {
    "name": "ipython",
    "version": 2
   },
   "file_extension": ".py",
   "mimetype": "text/x-python",
   "name": "python",
   "nbconvert_exporter": "python",
   "pygments_lexer": "ipython2",
   "version": "2.7.15"
  }
 },
 "nbformat": 4,
 "nbformat_minor": 2
}
