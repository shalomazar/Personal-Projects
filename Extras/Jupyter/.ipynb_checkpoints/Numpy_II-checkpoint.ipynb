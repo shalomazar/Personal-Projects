{
 "cells": [
  {
   "cell_type": "markdown",
   "metadata": {},
   "source": [
    "# Broadcasting\n",
    "as previously discussed numpy allows you to perform matrix arithmetic as you would for numbers. This is simple enough when each term has the same shape, but does it all break down when we want to combine arrays of different shapes? arrays with scalars? No it still works magically."
   ]
  },
  {
   "cell_type": "code",
   "execution_count": 50,
   "metadata": {},
   "outputs": [
    {
     "name": "stdout",
     "output_type": "stream",
     "text": [
      "a=[[ 0  1  2]\n",
      " [ 3  4  5]\n",
      " [ 6  7  8]\n",
      " [ 9 10 11]]\n",
      "b=[1. 1. 1.]\n",
      "d=[3. 3. 3.]\n",
      "e=[2.5 2.5 2.5]\n",
      "a*c=[[ 0.  1.  2.]\n",
      " [ 3.  4.  5.]\n",
      " [ 6.  7.  8.]\n",
      " [ 9. 10. 11.]]\n",
      "a*e=[[ 0.   2.5  5. ]\n",
      " [ 7.5 10.  12.5]\n",
      " [15.  17.5 20. ]\n",
      " [22.5 25.  27.5]]\n"
     ]
    }
   ],
   "source": [
    "# run forest run\n",
    "import numpy as np\n",
    "\n",
    "a = np.arange(12).reshape((4, -1))\n",
    "b = np.ones(3)\n",
    "c = np.ones((4, 1))\n",
    "\n",
    "print('a={}'.format(a))\n",
    "print('b={}'.format(b))\n",
    "\n",
    "d = b*3\n",
    "print('d={}'.format(d))\n",
    "\n",
    "e = b*2.5\n",
    "print('e={}'.format(e))\n",
    "\n",
    "print('a*c={}'.format(a*c))\n",
    "print('a*e={}'.format(a*e))"
   ]
  },
  {
   "cell_type": "markdown",
   "metadata": {},
   "source": [
    "This fantastic quality is known as broadcasting. Broadcasting follows a simple set of rules to allow operations performed on objects of different shapes.\n",
    "1. object dimensions are matched right to left - dimension for a term with less dimensions are padded with ones\n",
    "2. if dimensions do not match - the term with shape 1 is stretched to the shape of the other\n",
    "3. if dimensions do not match and none of them is 1 - an error is returned\n",
    "\n",
    "Seeing is better than believeing in that case. First let's prepare our teaching aids"
   ]
  },
  {
   "cell_type": "code",
   "execution_count": 51,
   "metadata": {},
   "outputs": [
    {
     "name": "stdout",
     "output_type": "stream",
     "text": [
      "m=[[[1. 1.]\n",
      "  [1. 1.]\n",
      "  [1. 1.]]\n",
      "\n",
      " [[1. 1.]\n",
      "  [1. 1.]\n",
      "  [1. 1.]]\n",
      "\n",
      " [[1. 1.]\n",
      "  [1. 1.]\n",
      "  [1. 1.]]\n",
      "\n",
      " [[1. 1.]\n",
      "  [1. 1.]\n",
      "  [1. 1.]]]\n"
     ]
    }
   ],
   "source": [
    "# run forest run\n",
    "v = np.arange(20)\n",
    "vr = v.reshape((5, 4))\n",
    "\n",
    "m = np.ones((4, 3, 2))\n",
    "\n",
    "print('m={}'.format(m))"
   ]
  },
  {
   "cell_type": "markdown",
   "metadata": {},
   "source": [
    "To better grasp the topic of broadcasting please perform the following multilications, printing result and shape of result for each\n",
    "1. a 4X3 matrix taken from `m` multiplied by a row vector taken from `v` (how many elements are in the vector)\n",
    "2. a 4x3 matrix taken from `m` multiplied by a column vector taken from `v` (how many elements are in the vector)\n",
    "3. a 3x2 matrix taken from `vr` multiplied by `m`\n",
    "4. a 4x3 matrix taken from `vr` multiplied by `m`\n",
    "\n",
    "*hints* - you may find numpy.newaxis and transposing arrays useful for this exercise"
   ]
  },
  {
   "cell_type": "code",
   "execution_count": 52,
   "metadata": {},
   "outputs": [
    {
     "name": "stdout",
     "output_type": "stream",
     "text": [
      "[[[[0.]\n",
      "   [0.]]\n",
      "\n",
      "  [[0.]\n",
      "   [0.]]\n",
      "\n",
      "  [[0.]\n",
      "   [0.]]]\n",
      "\n",
      "\n",
      " [[[0.]\n",
      "   [0.]]\n",
      "\n",
      "  [[0.]\n",
      "   [0.]]\n",
      "\n",
      "  [[0.]\n",
      "   [0.]]]\n",
      "\n",
      "\n",
      " [[[0.]\n",
      "   [0.]]\n",
      "\n",
      "  [[0.]\n",
      "   [0.]]\n",
      "\n",
      "  [[0.]\n",
      "   [0.]]]\n",
      "\n",
      "\n",
      " [[[0.]\n",
      "   [0.]]\n",
      "\n",
      "  [[0.]\n",
      "   [0.]]\n",
      "\n",
      "  [[0.]\n",
      "   [0.]]]]\n"
     ]
    },
    {
     "ename": "ValueError",
     "evalue": "cannot reshape array of size 20 into shape (1,16)",
     "output_type": "error",
     "traceback": [
      "\u001b[0;31m---------------------------------------------------------------------------\u001b[0m",
      "\u001b[0;31mValueError\u001b[0m                                Traceback (most recent call last)",
      "\u001b[0;32m<ipython-input-52-c1a66853d1b2>\u001b[0m in \u001b[0;36m<module>\u001b[0;34m()\u001b[0m\n\u001b[1;32m      6\u001b[0m \u001b[0;34m\u001b[0m\u001b[0m\n\u001b[1;32m      7\u001b[0m \u001b[0;32mprint\u001b[0m\u001b[0;34m(\u001b[0m\u001b[0;34m(\u001b[0m\u001b[0mm\u001b[0m\u001b[0;34m.\u001b[0m\u001b[0mreshape\u001b[0m\u001b[0;34m(\u001b[0m\u001b[0;36m4\u001b[0m\u001b[0;34m,\u001b[0m\u001b[0;36m3\u001b[0m\u001b[0;34m,\u001b[0m\u001b[0;36m2\u001b[0m\u001b[0;34m,\u001b[0m\u001b[0;36m1\u001b[0m\u001b[0;34m)\u001b[0m\u001b[0;34m*\u001b[0m\u001b[0mv\u001b[0m\u001b[0;34m[\u001b[0m\u001b[0;36m0\u001b[0m\u001b[0;34m]\u001b[0m\u001b[0;34m)\u001b[0m\u001b[0;34m)\u001b[0m\u001b[0;34m\u001b[0m\u001b[0m\n\u001b[0;32m----> 8\u001b[0;31m \u001b[0;32mprint\u001b[0m\u001b[0;34m(\u001b[0m\u001b[0;34m(\u001b[0m\u001b[0mm\u001b[0m\u001b[0;34m.\u001b[0m\u001b[0mreshape\u001b[0m\u001b[0;34m(\u001b[0m\u001b[0;36m4\u001b[0m\u001b[0;34m,\u001b[0m\u001b[0;36m3\u001b[0m\u001b[0;34m,\u001b[0m\u001b[0;36m2\u001b[0m\u001b[0;34m,\u001b[0m\u001b[0;36m1\u001b[0m\u001b[0;34m)\u001b[0m\u001b[0;34m*\u001b[0m\u001b[0mv\u001b[0m\u001b[0;34m.\u001b[0m\u001b[0mreshape\u001b[0m\u001b[0;34m(\u001b[0m\u001b[0;36m1\u001b[0m\u001b[0;34m,\u001b[0m\u001b[0;36m16\u001b[0m\u001b[0;34m)\u001b[0m\u001b[0;34m)\u001b[0m\u001b[0;34m)\u001b[0m\u001b[0;34m\u001b[0m\u001b[0m\n\u001b[0m\u001b[1;32m      9\u001b[0m \u001b[0;32mprint\u001b[0m\u001b[0;34m(\u001b[0m\u001b[0;34m(\u001b[0m\u001b[0mvr\u001b[0m\u001b[0;34m[\u001b[0m\u001b[0;36m0\u001b[0m\u001b[0;34m:\u001b[0m\u001b[0;36m3\u001b[0m\u001b[0;34m,\u001b[0m\u001b[0;34m:\u001b[0m\u001b[0;36m2\u001b[0m\u001b[0;34m]\u001b[0m\u001b[0;34m*\u001b[0m\u001b[0mm\u001b[0m\u001b[0;34m)\u001b[0m\u001b[0;34m)\u001b[0m\u001b[0;34m\u001b[0m\u001b[0m\n\u001b[1;32m     10\u001b[0m \u001b[0;32mprint\u001b[0m\u001b[0;34m(\u001b[0m\u001b[0;34m(\u001b[0m\u001b[0mvr\u001b[0m\u001b[0;34m[\u001b[0m\u001b[0;36m0\u001b[0m\u001b[0;34m:\u001b[0m\u001b[0;36m4\u001b[0m\u001b[0;34m,\u001b[0m\u001b[0;34m:\u001b[0m\u001b[0;36m3\u001b[0m\u001b[0;34m,\u001b[0m\u001b[0mnp\u001b[0m\u001b[0;34m.\u001b[0m\u001b[0mnewaxis\u001b[0m\u001b[0;34m]\u001b[0m\u001b[0;34m*\u001b[0m\u001b[0mm\u001b[0m\u001b[0;34m)\u001b[0m\u001b[0;34m)\u001b[0m\u001b[0;34m\u001b[0m\u001b[0m\n",
      "\u001b[0;31mValueError\u001b[0m: cannot reshape array of size 20 into shape (1,16)"
     ]
    }
   ],
   "source": [
    "# print(v)\n",
    "# print(vr)\n",
    "# vr = vr.reshape(5,4)\n",
    "# print(vr[0])\n",
    "# print(vr[:,0])\n",
    "\n",
    "print((m.reshape(4,3,2,1)*v[0]))\n",
    "print((m.reshape(4,3,2,1)*v.reshape(1,16)))\n",
    "print((vr[0:3,:2]*m))\n",
    "print((vr[0:4,:3,np.newaxis]*m))\n",
    "print((m.reshape(4,3,2,1)*v[0]).shape)\n",
    "print((m.reshape(4,3,2,1)*v.reshape(1,16)).shape)\n",
    "print((vr[0:3,:2]*m).shape)\n",
    "print((vr[0:4,:3,np.newaxis]*m).shape)"
   ]
  },
  {
   "cell_type": "markdown",
   "metadata": {},
   "source": [
    "# NaN\n",
    "NaN is an abbreviation for not a number. It's the surrogate value numpy uses when a infinity is multiplied by zero and in some other similar cases. You can check NaNs in an array by using the `isnan` function. NaN are useful to indicate something went wrong but they can be pretty annoying in some cases"
   ]
  },
  {
   "cell_type": "code",
   "execution_count": 53,
   "metadata": {},
   "outputs": [
    {
     "name": "stdout",
     "output_type": "stream",
     "text": [
      "The best average is nan\n"
     ]
    }
   ],
   "source": [
    "# progress reports for students as lists of grades\n",
    "student1 = [90, 80, 89]\n",
    "student2 = [95]\n",
    "student3 = []\n",
    "student4 = [70, 70, 60, 70]\n",
    "\n",
    "# grade averages\n",
    "averages = [np.mean(s) for s in (student1, student2, student3, student4)]\n",
    "\n",
    "# max average\n",
    "print('The best average is {}'.format(np.max(averages)))"
   ]
  },
  {
   "cell_type": "markdown",
   "metadata": {},
   "source": [
    "![NaN!](https://i.imgflip.com/28v1ei.jpg)"
   ]
  },
  {
   "cell_type": "markdown",
   "metadata": {},
   "source": [
    "That sure is annoying, but it's there for a reason. Numpy is trying to warn us that we're doing something iffy. In this case taking the average over a list of size zero. Sometimes we want to ignore these warnings and ignore NaNs altogether. Many of the numpy functions have a nan safe version, which simply ignores the NaN values. Try calling `nanmax` for the list `averages`."
   ]
  },
  {
   "cell_type": "code",
   "execution_count": 54,
   "metadata": {},
   "outputs": [
    {
     "name": "stdout",
     "output_type": "stream",
     "text": [
      "95.0\n"
     ]
    }
   ],
   "source": [
    "print(np.nanmax(averages))"
   ]
  },
  {
   "cell_type": "markdown",
   "metadata": {},
   "source": [
    "# Logic with arrays\n",
    "## ambiguity\n",
    "let's say we'd like to run the following code"
   ]
  },
  {
   "cell_type": "code",
   "execution_count": 55,
   "metadata": {},
   "outputs": [
    {
     "name": "stdout",
     "output_type": "stream",
     "text": [
      "[[ 1 20 30]\n",
      " [ 2  1 20]\n",
      " [ 3  2  1]]\n"
     ]
    },
    {
     "ename": "ValueError",
     "evalue": "The truth value of an array with more than one element is ambiguous. Use a.any() or a.all()",
     "output_type": "error",
     "traceback": [
      "\u001b[0;31m---------------------------------------------------------------------------\u001b[0m",
      "\u001b[0;31mValueError\u001b[0m                                Traceback (most recent call last)",
      "\u001b[0;32m<ipython-input-55-03e816d42ee0>\u001b[0m in \u001b[0;36m<module>\u001b[0;34m()\u001b[0m\n\u001b[1;32m      5\u001b[0m \u001b[0;32mprint\u001b[0m\u001b[0;34m(\u001b[0m\u001b[0mt\u001b[0m\u001b[0;34m)\u001b[0m\u001b[0;34m\u001b[0m\u001b[0m\n\u001b[1;32m      6\u001b[0m \u001b[0;34m\u001b[0m\u001b[0m\n\u001b[0;32m----> 7\u001b[0;31m \u001b[0;32mif\u001b[0m \u001b[0mt\u001b[0m \u001b[0;34m==\u001b[0m \u001b[0;36m30\u001b[0m\u001b[0;34m:\u001b[0m\u001b[0;34m\u001b[0m\u001b[0m\n\u001b[0m\u001b[1;32m      8\u001b[0m     \u001b[0;32mprint\u001b[0m\u001b[0;34m(\u001b[0m\u001b[0;34m'eureka!'\u001b[0m\u001b[0;34m)\u001b[0m\u001b[0;34m\u001b[0m\u001b[0m\n\u001b[1;32m      9\u001b[0m \u001b[0;32melse\u001b[0m\u001b[0;34m:\u001b[0m\u001b[0;34m\u001b[0m\u001b[0m\n",
      "\u001b[0;31mValueError\u001b[0m: The truth value of an array with more than one element is ambiguous. Use a.any() or a.all()"
     ]
    }
   ],
   "source": [
    "### run forest run\n",
    "import scipy.linalg as sp_lin   # you didn't expect that did you?\n",
    "\n",
    "t = sp_lin.toeplitz([1, 2, 3], [1, 20, 30])\n",
    "print(t)\n",
    "\n",
    "if t == 30:\n",
    "    print('eureka!')\n",
    "else:\n",
    "    print('unlucky')"
   ]
  },
  {
   "cell_type": "markdown",
   "metadata": {},
   "source": [
    "Python doesn't like that, and its got a point. Our condition was quite ambiguous. Instead we can ask\n",
    "1. is any of the elements equal to 30 using `np.any`\n",
    "2. are all the elements equal to 30 using `np.all`\n",
    "\n",
    "try it"
   ]
  },
  {
   "cell_type": "code",
   "execution_count": 56,
   "metadata": {},
   "outputs": [
    {
     "name": "stdout",
     "output_type": "stream",
     "text": [
      "eureka!\n"
     ]
    }
   ],
   "source": [
    "if (np.all(t==30)):\n",
    "    print('Extra lucky!')\n",
    "elif (np.any(t==30)):\n",
    "    print('eureka!')\n",
    "else:\n",
    "    print('unlucky!')"
   ]
  },
  {
   "cell_type": "markdown",
   "metadata": {},
   "source": [
    "### A note regarding importing from scipy\n",
    "if you've notice we've already used scipy in this notebook. The import line was different than what we are used to in numpy. \n",
    "\n",
    "`import scipy.linalg as sp_lin`\n",
    "\n",
    "In scipy we never import scipy directly only the specific sub package we are interested in. Or use an import that is even more specific\n",
    "\n",
    "`from scipy.linalg import toeplitz`"
   ]
  },
  {
   "cell_type": "markdown",
   "metadata": {},
   "source": [
    "## Boolean operators\n",
    "let's say we have a matrix"
   ]
  },
  {
   "cell_type": "code",
   "execution_count": 57,
   "metadata": {},
   "outputs": [],
   "source": [
    "v = np.arange(12).reshape((4, 3))"
   ]
  },
  {
   "cell_type": "markdown",
   "metadata": {},
   "source": [
    "and we'd like to count all even numbers that are greater than 5. How can we do that? We can use the element wise boolean operators. Try it"
   ]
  },
  {
   "cell_type": "code",
   "execution_count": 58,
   "metadata": {},
   "outputs": [
    {
     "name": "stdout",
     "output_type": "stream",
     "text": [
      "[[ 0  1  2]\n",
      " [ 3  4  5]\n",
      " [ 6  7  8]\n",
      " [ 9 10 11]]\n",
      "3\n"
     ]
    }
   ],
   "source": [
    "# run forest run\n",
    "print(v)\n",
    "print(np.sum((v>5) & (v%2==0)))"
   ]
  },
  {
   "cell_type": "markdown",
   "metadata": {},
   "source": [
    "If we want to replace these numbers with zeros, how can we do that? It's simple"
   ]
  },
  {
   "cell_type": "code",
   "execution_count": 59,
   "metadata": {},
   "outputs": [
    {
     "name": "stdout",
     "output_type": "stream",
     "text": [
      "[[ 0  1  2]\n",
      " [ 3  4  5]\n",
      " [ 0  7  0]\n",
      " [ 9  0 11]]\n",
      "[[ 0  1  2]\n",
      " [ 3  4  5]\n",
      " [ 0  7  0]\n",
      " [ 9  0 11]]\n"
     ]
    }
   ],
   "source": [
    "# run forest run\n",
    "u=v.copy()\n",
    "u[(v>5) & (v%2==0)] = 0\n",
    "print(u)\n",
    "\n",
    "# we can achieve the same with multiplication - mind the logical inversion with ~\n",
    "w = v * ~((v>5) & (v%2==0))\n",
    "print(w)"
   ]
  },
  {
   "cell_type": "markdown",
   "metadata": {},
   "source": [
    "An array containing such conditions and used for these purposes is known as a *boolean mask*"
   ]
  },
  {
   "cell_type": "markdown",
   "metadata": {},
   "source": [
    "### keywords\n",
    "this doesn't work too well with python keywords such as `and`. Try it"
   ]
  },
  {
   "cell_type": "code",
   "execution_count": 60,
   "metadata": {},
   "outputs": [
    {
     "name": "stdout",
     "output_type": "stream",
     "text": [
      "did not work\n",
      "The truth value of an array with more than one element is ambiguous. Use a.any() or a.all()\n"
     ]
    }
   ],
   "source": [
    "# run forest run\n",
    "try:   # exception handling in python\n",
    "    mask = (v>5) and (v%2==0)\n",
    "except ValueError as e:\n",
    "    print('did not work')\n",
    "    print(e)"
   ]
  },
  {
   "cell_type": "markdown",
   "metadata": {},
   "source": [
    "# Important functions\n",
    "to say that numpy and scipy are feature rich would be an gross understatement. There is absolutely no point to know all of them. The best practice is learn what is required for your domain and learn to search when you need something extra. For our domain there are a few must have's\n",
    "1. min and max for finding minimal and maximal values\n",
    "2. argmin and argmax for finding the location of minimal and maximal values\n",
    "3. mean, median, std, var - basic statistical entities\n",
    "4. generating random values\n",
    "\n",
    "## exercises\n",
    "1. generate a random permutation of the range between 12 and 48 (non inclusive) and reshape it as a 9x4 matrix\n",
    "2. find the minimal value for each row and its location\n",
    "3. find the maximal value for each column and its location\n",
    "4. compute the median of the entire array\n",
    "5. compute the maximum value of the entire array\n",
    "6. sample 1000 numbers from a normal distribution with mean 9 and std 1\n",
    "7. compute the mean and variance of your sample\n",
    "8. repeat 6 and 7 with a sample size of 10"
   ]
  },
  {
   "cell_type": "code",
   "execution_count": 61,
   "metadata": {},
   "outputs": [
    {
     "name": "stdout",
     "output_type": "stream",
     "text": [
      "The random generated array\n",
      "[[27 39 30 31]\n",
      " [21 14 46 19]\n",
      " [42 36 37 45]\n",
      " [22 24 16 44]\n",
      " [34 18 47 17]\n",
      " [33 13 41 28]\n",
      " [20 29 40 15]\n",
      " [12 38 25 23]\n",
      " [26 35 43 32]]\n",
      "min rows\n",
      "27\n",
      "14\n",
      "36\n",
      "16\n",
      "17\n",
      "13\n",
      "15\n",
      "12\n",
      "26\n",
      "max columns\n",
      "42\n",
      "39\n",
      "47\n",
      "45\n",
      "median\n",
      "29.5\n",
      "max\n",
      "47\n",
      "sample mean 100 samples\n",
      "9.018924812836984\n",
      "sample variance 100 samples\n",
      "1.0321454171181363\n",
      "sample mean with 10 samples\n",
      "9.111600787339832\n",
      "sample variance 10 samples\n",
      "0.5112052270657199\n"
     ]
    }
   ],
   "source": [
    "import random as rnd\n",
    "\n",
    "a = np.array(rnd.sample(range(12,48),36)).reshape(9,4)\n",
    "print('The random generated array')\n",
    "print(a)\n",
    "print('min rows')\n",
    "for i in range(9):\n",
    "    print(a[i].min())\n",
    "\n",
    "print('max columns')\n",
    "for i in range(4):\n",
    "    print(a[:,i].max())\n",
    "\n",
    "print('median')\n",
    "print(np.median(a))\n",
    "print('max')\n",
    "print(np.max(a))\n",
    "b = np.random.normal(9,1,1000)\n",
    "print('sample mean 100 samples')\n",
    "print(np.mean(b))\n",
    "print('sample variance 100 samples')\n",
    "print(np.var(b))\n",
    "c = np.random.normal(9,1,10)\n",
    "print('sample mean with 10 samples')\n",
    "print(np.mean(c))\n",
    "print('sample variance 10 samples')\n",
    "print(np.var(c))"
   ]
  },
  {
   "cell_type": "markdown",
   "metadata": {},
   "source": [
    "## local average\n",
    "in some cases you'd like the average (or mean) taken for each area/neighborhood. Before you an example"
   ]
  },
  {
   "cell_type": "code",
   "execution_count": 71,
   "metadata": {},
   "outputs": [
    {
     "name": "stdout",
     "output_type": "stream",
     "text": [
      "[[ 0  1  2  3]\n",
      " [ 4  5  6  7]\n",
      " [ 8  9 10 11]\n",
      " [12 13 14 15]]\n",
      "[[ 0  1  2]\n",
      " [ 4  5  6]\n",
      " [ 8  9 10]]\n",
      "5.0\n",
      "[[ 5  6  7]\n",
      " [ 9 10 11]\n",
      " [13 14 15]]\n",
      "10.0\n"
     ]
    }
   ],
   "source": [
    "# run forest run\n",
    "v = np.arange(16).reshape((4, -1))\n",
    "print(v)\n",
    "\n",
    "# the local average with distance 1 at coordinate (1, 1) is the mean over the following array\n",
    "print(v[:3, :3])\n",
    "print(np.average(v[:3, :3]))\n",
    "\n",
    "# the local average with distance 1 at coodinate (2, 2) is the mean over the following array\n",
    "print(v[1:, 1:])\n",
    "print(np.average(v[1:, 1:]))"
   ]
  },
  {
   "cell_type": "markdown",
   "metadata": {},
   "source": [
    "In the general case the local averge with distance $ n $ at coordinate $(x, y)$ is the average over all elements with coordinates $(x', y')$ such that \n",
    "$$\n",
    "\\begin{align}\n",
    "|x-x'| &\\le n\\\\[0.2cm]\n",
    "&\\textbf{or}\\\\[0.2cm]\n",
    "|y-y'| &\\le n\n",
    "\\end{align}\n",
    "$$\n",
    "\n",
    "### exercise\n",
    "Your mission is to compute the local average with distance 1 for array `v` under these guidelines:\n",
    "1. do not use the `mean` function or loops\n",
    "2. the resulting array must the same shape of `v`\n",
    "3. for some elements part of the neighborhood lies outside `v` - ignore that\n",
    "4. use a solution that is \"not allowed\" (loops and such) to check your correctness\n",
    "\n",
    "#### hints\n",
    "1. remind yourself how can an average be computer using simple arithmetic\n",
    "2. read about convolution\n",
    "3. if you're stumped - give it 5 minutes and then raise your hand"
   ]
  },
  {
   "cell_type": "code",
   "execution_count": 90,
   "metadata": {},
   "outputs": [
    {
     "name": "stdout",
     "output_type": "stream",
     "text": [
      "sep\n",
      "[[ 1.11111111  2.          2.66666667  2.        ]\n",
      " [ 3.          5.          6.          4.33333333]\n",
      " [ 5.66666667  9.         10.          7.        ]\n",
      " [ 4.66666667  7.33333333  8.          5.55555556]]\n",
      "Now doing a test\n",
      "('Doing Average: ', 0, 0)\n",
      "(0, 2, 0, 2)\n",
      "10\n",
      "2.5\n",
      "('Doing Average: ', 0, 1)\n",
      "(0, 2, 0, 3)\n",
      "18\n",
      "3.0\n",
      "('Doing Average: ', 0, 2)\n",
      "(0, 2, 1, 4)\n",
      "24\n",
      "4.0\n",
      "('Doing Average: ', 0, 3)\n",
      "(0, 2, 2, 4)\n",
      "18\n",
      "4.5\n",
      "('Doing Average: ', 1, 0)\n",
      "(0, 3, 0, 2)\n",
      "27\n",
      "4.5\n",
      "('Doing Average: ', 1, 1)\n",
      "(0, 3, 0, 3)\n",
      "45\n",
      "5.0\n",
      "('Doing Average: ', 1, 2)\n",
      "(0, 3, 1, 4)\n",
      "54\n",
      "6.0\n",
      "('Doing Average: ', 1, 3)\n",
      "(0, 3, 2, 4)\n",
      "39\n",
      "6.5\n",
      "('Doing Average: ', 2, 0)\n",
      "(1, 4, 0, 2)\n",
      "51\n",
      "8.5\n",
      "('Doing Average: ', 2, 1)\n",
      "(1, 4, 0, 3)\n",
      "81\n",
      "9.0\n",
      "('Doing Average: ', 2, 2)\n",
      "(1, 4, 1, 4)\n",
      "90\n",
      "10.0\n",
      "('Doing Average: ', 2, 3)\n",
      "(1, 4, 2, 4)\n",
      "63\n",
      "10.5\n",
      "('Doing Average: ', 3, 0)\n",
      "(2, 4, 0, 2)\n",
      "42\n",
      "10.5\n",
      "('Doing Average: ', 3, 1)\n",
      "(2, 4, 0, 3)\n",
      "66\n",
      "11.0\n",
      "('Doing Average: ', 3, 2)\n",
      "(2, 4, 1, 4)\n",
      "72\n",
      "12.0\n",
      "('Doing Average: ', 3, 3)\n",
      "(2, 4, 2, 4)\n",
      "50\n",
      "12.5\n"
     ]
    }
   ],
   "source": [
    "# the local average with distance 1 at coordinate (1, 1) is the mean over the following array\n",
    "import scipy.signal as sc\n",
    "\n",
    "s = np.ones((3,3))\n",
    "sum_array = sc.convolve2d(v, s)\n",
    "\n",
    "print(\"sep\")\n",
    "# Nadav, the proctor told me not to care about the edges of the matrix in the last problem\n",
    "final_sum_array = sum_array[1:5,1:5]/9\n",
    "print(final_sum_array)\n",
    "\n",
    "print(\"Now doing a test\")\n",
    "\n",
    "def local_average_test(i,x):\n",
    "    j = i\n",
    "    if i == 0:\n",
    "        i = 1\n",
    "    elif i == 3:\n",
    "        j = i - 1\n",
    "    y = x\n",
    "    if x == 0:\n",
    "        x = 1\n",
    "    elif x == 3:\n",
    "        y = x - 1\n",
    "    i = i-1\n",
    "    j = j+2\n",
    "    x = x-1\n",
    "    y = y+2\n",
    "    print(i,j,x,y)\n",
    "    print(np.sum(v[i:j, x:y]))\n",
    "    print(np.average(v[i:j, x:y]))\n",
    "\n",
    "\n",
    "    \n",
    "i = 0;\n",
    "x = 0;\n",
    "while i < 4:\n",
    "    while x < 4:\n",
    "        print(\"Doing Average: \", i, x)\n",
    "        local_average_test(i,x)\n",
    "        x += 1\n",
    "    x = 0;\n",
    "    i += 1\n",
    "\n"
   ]
  },
  {
   "cell_type": "code",
   "execution_count": null,
   "metadata": {},
   "outputs": [],
   "source": []
  }
 ],
 "metadata": {
  "kernelspec": {
   "display_name": "Python 2",
   "language": "python",
   "name": "python2"
  },
  "language_info": {
   "codemirror_mode": {
    "name": "ipython",
    "version": 2
   },
   "file_extension": ".py",
   "mimetype": "text/x-python",
   "name": "python",
   "nbconvert_exporter": "python",
   "pygments_lexer": "ipython2",
   "version": "2.7.15"
  }
 },
 "nbformat": 4,
 "nbformat_minor": 2
}
