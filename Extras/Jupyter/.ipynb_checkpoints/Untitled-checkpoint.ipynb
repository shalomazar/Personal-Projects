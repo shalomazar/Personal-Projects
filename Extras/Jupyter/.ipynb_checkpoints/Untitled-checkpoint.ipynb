{
 "cells": [
  {
   "cell_type": "code",
   "execution_count": 58,
   "metadata": {},
   "outputs": [
    {
     "name": "stdout",
     "output_type": "stream",
     "text": [
      "Error: unable to fecth data\n",
      "[(613,)]\n",
      "select distinct count(actor_id) from cast where movie_id in (select movie_id from cast where actor_id in (select actor_id from cast where movie_id in (select movie_id from cast where actor_id in (select id from actors where full_name = \"kevin bacon\")))\n"
     ]
    }
   ],
   "source": [
    "%matplotlib inline\n",
    "\n",
    "import matplotlib.pyplot as plt\n",
    "import mysql.connector\n",
    "\n",
    "# fill in your username\n",
    "username = 'root'\n",
    "passwrd ='azaritc123'\n",
    "DB ='imdb'\n",
    "\n",
    "cnx = mysql.connector.connect(user=username, password=passwrd,database= DB)\n",
    "cnxc = cnx.cursor()\n",
    "\n",
    "#Queries\n",
    "movies1 = '(select movie_id from cast where actor_id in (select id from actors where full_name = \"kevin bacon\"))'\n",
    "query = 'select distinct count(actor_id) from cast where movie_id in '\n",
    "query1 = query + movies1 + ')))))'\n",
    "movies2 = '(select movie_id from cast where actor_id in (select actor_id from cast where movie_id in ' + movies1 + ')'\n",
    "query2 = 'select distinct count(actor_id) from cast where movie_id in ' + movies2\n",
    "\n",
    "zero_degrees = 1 # kevin bacon himself\n",
    "\n",
    "try:\n",
    "    cnxc.execute(query1)\n",
    "    one_degree = cnxc.fetchall()\n",
    "    cnxc.execute(query2)\n",
    "    two_degree = cnxc.fetchall()\n",
    "    #movies_ids1 = cnxc.execute(movies2,movies1)\n",
    "    #sub2 = cnxc.fetchall()\n",
    "    #cnxc.execute(query, sub2)\n",
    "    #second_degree = cnxc.fetchall()\n",
    "    #until_one_degree = cnxc.fetchall()[0][0]\n",
    "    #one_degree = until_one_degree - zero_degrees\n",
    "    #cnxc.execute(query2, sub1)\n",
    "    #until_two_degrees = cnxc.fetchall()[0][0]\n",
    "    #two_degrees = until_two_degrees - until_one_degree\n",
    "    #cnxc.execute(query3)\n",
    "    #until_three_degrees = cnxc.fetchall()[0]\n",
    "    #three_degrees = until_three_degrees - until_two_degrees\n",
    "    #cnxc.execute(query3)\n",
    "    #four_degrees = cnxc.fetchall()\n",
    "    #cnxc.execute(query3)\n",
    "    #five_degrees = cnxc.fetchall()\n",
    "    #cnxc.execute(query3)\n",
    "    #six_degrees = cnxc.fetchall()\n",
    "\n",
    "except:\n",
    "    print \"Error: unable to fecth data\"\n",
    "\n",
    "print(one_degree)\n",
    "print(query2)\n",
    "#print(until_three_degrees)\n",
    "\n",
    "cnx.close()\n"
   ]
  },
  {
   "cell_type": "code",
   "execution_count": null,
   "metadata": {},
   "outputs": [],
   "source": []
  },
  {
   "cell_type": "code",
   "execution_count": null,
   "metadata": {},
   "outputs": [],
   "source": []
  }
 ],
 "metadata": {
  "kernelspec": {
   "display_name": "Python 2",
   "language": "python",
   "name": "python2"
  },
  "language_info": {
   "codemirror_mode": {
    "name": "ipython",
    "version": 2
   },
   "file_extension": ".py",
   "mimetype": "text/x-python",
   "name": "python",
   "nbconvert_exporter": "python",
   "pygments_lexer": "ipython2",
   "version": "2.7.15"
  }
 },
 "nbformat": 4,
 "nbformat_minor": 2
}
