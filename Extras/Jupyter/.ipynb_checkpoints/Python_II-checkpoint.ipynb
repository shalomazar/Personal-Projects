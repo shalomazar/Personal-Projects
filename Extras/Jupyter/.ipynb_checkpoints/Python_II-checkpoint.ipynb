{
 "cells": [
  {
   "cell_type": "markdown",
   "metadata": {},
   "source": [
    "# Control structures\n",
    "code is like a cake recipe, it describes a sequence of steps, it can give a pretty sweet output and if it's any good it should adapt to changing circumstances: \n",
    "1. \"if the cake is still soft, return to step 5 (put it back in the oven)\"\n",
    "2. \"take 3 vanilla sticks break each in half and put in the mix\" and not \n",
    "  1. \"take vanilla stick break in half and put in the mix\"\n",
    "  2. \"take vanilla stick break in half and put in the mix\"\n",
    "  3. \"take vanilla stick break in half and put in the mix\"\n",
    "3. \"if you like cinnamon you can add some now\" and not \n",
    "  1. \"add cinnamon\"\n",
    "  2. \"possibly, suffer\""
   ]
  },
  {
   "cell_type": "markdown",
   "metadata": {},
   "source": [
    "## Conditioning - the if statement\n",
    "the if statement in python is useful and elegant.\n",
    "\n",
    "`if <condition>:\n",
    "    <do-something>`\n",
    "    \n",
    "and it does exactly what you would think. An example is presented in the next cell"
   ]
  },
  {
   "cell_type": "code",
   "execution_count": 1,
   "metadata": {},
   "outputs": [],
   "source": [
    "a = 3\n",
    "\n",
    "if a>5:\n",
    "    print('go big or go home')"
   ]
  },
  {
   "cell_type": "markdown",
   "metadata": {},
   "source": [
    "The block indented after the if condition is run if the condition is met, otherwise nothing happens. You may also decide you would like something performed if the condition isn't met:"
   ]
  },
  {
   "cell_type": "code",
   "execution_count": 2,
   "metadata": {},
   "outputs": [
    {
     "name": "stdout",
     "output_type": "stream",
     "text": [
      "going home\n"
     ]
    }
   ],
   "source": [
    "a = 3\n",
    "\n",
    "if a>5:\n",
    "    print('go big or go home')\n",
    "else:\n",
    "    print('going home')"
   ]
  },
  {
   "cell_type": "markdown",
   "metadata": {},
   "source": [
    "To increase your control you may introduce one or more conditional else clauses (elif). It is important to note that code is run for the first clause for which the condition is met and only for that clause. See an example in the next cell"
   ]
  },
  {
   "cell_type": "code",
   "execution_count": 3,
   "metadata": {},
   "outputs": [
    {
     "name": "stdout",
     "output_type": "stream",
     "text": [
      "kind of small\n"
     ]
    }
   ],
   "source": [
    "a = 3\n",
    "\n",
    "if a>10:\n",
    "    print('go big or go home')\n",
    "elif a>7:\n",
    "    print('little-big')\n",
    "elif a<5:\n",
    "    print('kind of small')\n",
    "elif a==3:\n",
    "    print('the number is 3')\n",
    "else:\n",
    "    print('i give up')"
   ]
  },
  {
   "cell_type": "markdown",
   "metadata": {},
   "source": [
    "Note that in python the equality operator is `==` while `=` is the assignment operator"
   ]
  },
  {
   "cell_type": "markdown",
   "metadata": {},
   "source": [
    "Sometimes you may want a if one-liner to keep things short and sweet\n",
    "\n",
    "`v = <something> if <condition> else <something else>`\n",
    "\n",
    "the variable b is assigned using a classic if. Use an if one-liner to reproduce the same result with variable c"
   ]
  },
  {
   "cell_type": "code",
   "execution_count": 5,
   "metadata": {},
   "outputs": [
    {
     "name": "stdout",
     "output_type": "stream",
     "text": [
      "too small\n",
      "too small\n"
     ]
    }
   ],
   "source": [
    "a = 3\n",
    "\n",
    "if a>5:\n",
    "    b = 'ok'\n",
    "else:\n",
    "    b = 'too small'\n",
    "    \n",
    "print(b)\n",
    "\n",
    "c = 'too small'\n",
    "if a > 5:\n",
    "    c = 'too small'\n",
    "\n",
    "print(c)\n"
   ]
  },
  {
   "cell_type": "markdown",
   "metadata": {},
   "source": [
    "## Straight forward iteration - the for loop\n",
    "the trusty for loop, available in almost every programming language is also present in python"
   ]
  },
  {
   "cell_type": "code",
   "execution_count": 6,
   "metadata": {},
   "outputs": [
    {
     "name": "stdout",
     "output_type": "stream",
     "text": [
      "(1, 'hip hip, hooray!')\n",
      "(2, 'hip hip, hooray!')\n",
      "(3, 'hip hip, hooray!')\n",
      "hooray! hooray! hooray!\n"
     ]
    }
   ],
   "source": [
    "# for loop example\n",
    "for i in (1, 2, 3):\n",
    "    print(i, 'hip hip, hooray!')\n",
    "\n",
    "print('hooray! hooray! hooray!')"
   ]
  },
  {
   "cell_type": "markdown",
   "metadata": {},
   "source": [
    "in other languages, such a loop may be known as a foreach loop, but don't let that trouble you. The for loop syntax is simple\n",
    "\n",
    "`for element in container-of-sorts:\n",
    "    <loop body>`\n",
    "\n",
    "now you - define a list from the numbers between 0 and 4 and iterate through it and print each number."
   ]
  },
  {
   "cell_type": "code",
   "execution_count": 8,
   "metadata": {},
   "outputs": [
    {
     "name": "stdout",
     "output_type": "stream",
     "text": [
      "0\n",
      "1\n",
      "2\n",
      "3\n",
      "4\n"
     ]
    }
   ],
   "source": [
    "# for loop example\n",
    "for i in (0,1, 2, 3, 4):\n",
    "    print(i)"
   ]
  },
  {
   "cell_type": "markdown",
   "metadata": {},
   "source": [
    "this business of defining lists with ranges just to iterate through them gets old very fast. The lovely folks developing python seem to think so as well and have therefore defined the appropriately named `range` function to assist. The syntax of the range function is almost identical to that of slicing (aside from commas instead of colons). \n",
    "1. Try to repeat the previous endeavour using the range function\n",
    "2. Do the same but iterate only over even numbers in that range"
   ]
  },
  {
   "cell_type": "code",
   "execution_count": 10,
   "metadata": {},
   "outputs": [
    {
     "name": "stdout",
     "output_type": "stream",
     "text": [
      "0\n",
      "2\n",
      "4\n"
     ]
    }
   ],
   "source": [
    "for i in range(0,5,2):\n",
    "    print(i)"
   ]
  },
  {
   "cell_type": "markdown",
   "metadata": {},
   "source": [
    "### iterating over dictionaries\n",
    "define a dictionary and iterate over it printing the iterator."
   ]
  },
  {
   "cell_type": "code",
   "execution_count": 13,
   "metadata": {},
   "outputs": [
    {
     "name": "stdout",
     "output_type": "stream",
     "text": [
      "<type 'dict'>\n",
      "('Langauge_translated_from', 'English')\n",
      "('Langauge_translated_to', ['Hebrew', 'French'])\n"
     ]
    }
   ],
   "source": [
    "dictionary = {'Langauge_translated_from':'English','Langauge_translated_to': ['Hebrew','French']}\n",
    "print(type(dictionary))\n",
    "for key, value in dictionary.items():\n",
    "    print(key, value)"
   ]
  },
  {
   "cell_type": "markdown",
   "metadata": {},
   "source": [
    "### enumeration\n",
    "sometimes you may want to get the element and it's index at each iteration. This can be accomplished using the enumerate function. Iterate over the list in the following cell printing element and index at each iteration"
   ]
  },
  {
   "cell_type": "code",
   "execution_count": 14,
   "metadata": {},
   "outputs": [
    {
     "name": "stdout",
     "output_type": "stream",
     "text": [
      "(0, 8)\n",
      "(1, 10)\n",
      "(2, -22)\n"
     ]
    }
   ],
   "source": [
    "l = [8, 10, -22]\n",
    "\n",
    "\n",
    "for i, value in enumerate(l):\n",
    "    print(i, value)\n"
   ]
  },
  {
   "cell_type": "markdown",
   "metadata": {},
   "source": [
    "## Repeat until - the while loop\n",
    "sometimes you may want to repat something until a condition is met. run the following cell"
   ]
  },
  {
   "cell_type": "code",
   "execution_count": 15,
   "metadata": {},
   "outputs": [
    {
     "name": "stdout",
     "output_type": "stream",
     "text": [
      "('sum is', 21)\n"
     ]
    }
   ],
   "source": [
    "# sum natural numbers as long as the result is less than 20\n",
    "l = [1, 2, 3, 4, 5, 6, 7, 8, 9, 10]\n",
    "counter = 0\n",
    "sum_ = 0\n",
    "while sum_ < 20:\n",
    "    sum_ += l[counter]\n",
    "    counter +=1\n",
    "print('sum is', sum_)"
   ]
  },
  {
   "cell_type": "markdown",
   "metadata": {},
   "source": [
    "the syntax is\n",
    "\n",
    "`while <condition>:\n",
    "    <loop body>`\n",
    "    \n",
    "some of you may notice that the code in the previous cell does not exactly do what is intended, can you fix it?"
   ]
  },
  {
   "cell_type": "code",
   "execution_count": 16,
   "metadata": {},
   "outputs": [
    {
     "name": "stdout",
     "output_type": "stream",
     "text": [
      "('sum is', 15)\n"
     ]
    }
   ],
   "source": [
    "l = [1, 2, 3, 4, 5, 6, 7, 8, 9, 10]\n",
    "counter = 0\n",
    "sum_ = 0\n",
    "while sum_ + l[counter] < 20:\n",
    "    sum_ += l[counter]\n",
    "    counter +=1\n",
    "print('sum is', sum_)"
   ]
  },
  {
   "cell_type": "markdown",
   "metadata": {},
   "source": [
    "use a while loop and your jedi coding skills to compute $\\log_2(128)$ or in other words $ x $ such that $ 2^x = 128 $"
   ]
  },
  {
   "cell_type": "code",
   "execution_count": 25,
   "metadata": {},
   "outputs": [
    {
     "name": "stdout",
     "output_type": "stream",
     "text": [
      "7\n"
     ]
    }
   ],
   "source": [
    "counter = 0\n",
    "x = 1\n",
    "while x < 128:\n",
    "    x *= 2\n",
    "    counter +=1\n",
    "print(counter)"
   ]
  },
  {
   "cell_type": "markdown",
   "metadata": {},
   "source": [
    "## Comprehensions\n",
    "Let's say you have a list of numbers and you'd like a list where all of these numbers are multiplied by 3.5\n",
    "\n",
    "the following cell shows one such example. run it."
   ]
  },
  {
   "cell_type": "code",
   "execution_count": null,
   "metadata": {
    "collapsed": true
   },
   "outputs": [],
   "source": [
    "l = [1, 10, 25, 0.5]\n",
    "\n",
    "# we can create a new list\n",
    "new_l = []\n",
    "for e in l:\n",
    "    new_l.append(e*3.5)\n",
    "    \n",
    "print(l)\n",
    "print(new_l)\n",
    "\n",
    "# we can also modify the existing list in place\n",
    "for i in [0, 1, 2, 3]:\n",
    "    l[i] *= 3.5\n",
    "    \n",
    "print(l)"
   ]
  },
  {
   "cell_type": "markdown",
   "metadata": {},
   "source": [
    "To generate such lists we can also use one of python's more endearing qualities: list comprehension.\n",
    "\n",
    "The format of list comprehension is:\n",
    "\n",
    "`new_l = [function(element) for element in container]`\n",
    "\n",
    "where the function can be anything from a mathematical statement (x+2) to a complex mega function. Use this sorcery and the list `l` in following cell to create list `neg_l` such that `neg_l[i]==-l[i]`. Use no more than one line of code to achieve this."
   ]
  },
  {
   "cell_type": "code",
   "execution_count": 28,
   "metadata": {},
   "outputs": [
    {
     "name": "stdout",
     "output_type": "stream",
     "text": [
      "[-1, 5, -22, 0]\n"
     ]
    }
   ],
   "source": [
    "l = [1, -5, 22, 0]\n",
    "\n",
    "neg_l = [-1*(element) for element in l]\n",
    "\n",
    "print(neg_l)"
   ]
  },
  {
   "cell_type": "markdown",
   "metadata": {},
   "source": [
    "The format of list comprehension we just saw is a **mapping** from elements in a container to elements in a new list. But, what if we also want to **filter** some of the elements? Again python has got our back, the syntax is:\n",
    "\n",
    "`new_l = [function(element) for element in container if condition_as_function(element)]`\n",
    "\n",
    "use this new found knowledge to repeat the previous task with the only difference being that `neg_l` should only contain odd numbers."
   ]
  },
  {
   "cell_type": "code",
   "execution_count": 31,
   "metadata": {},
   "outputs": [
    {
     "name": "stdout",
     "output_type": "stream",
     "text": [
      "[-1, 5, -21]\n"
     ]
    }
   ],
   "source": [
    "l = [1, -5, 22, 0, 21]\n",
    "\n",
    "neg_l = [-1*(element) for element in l if element % 2 == 1]\n",
    "print(neg_l)\n"
   ]
  },
  {
   "cell_type": "markdown",
   "metadata": {},
   "source": [
    "### dictionary comprehensions\n",
    "dictionaries are not left out of the comprehension craze. The following cell shows an example"
   ]
  },
  {
   "cell_type": "code",
   "execution_count": null,
   "metadata": {
    "collapsed": true
   },
   "outputs": [],
   "source": [
    "l1 = ['a', 1]\n",
    "l2 = ['b', 2]\n",
    "d = {e[0]: e[1] for e in [l1, l2]}\n",
    "print(d)"
   ]
  },
  {
   "cell_type": "markdown",
   "metadata": {},
   "source": [
    "In the following cell you will find a list of words. Use your newly acquired skills to generate `len_dict` a dictionary where keys are words from the list and values are their lengths."
   ]
  },
  {
   "cell_type": "code",
   "execution_count": 33,
   "metadata": {},
   "outputs": [
    {
     "name": "stdout",
     "output_type": "stream",
     "text": [
      "['this', 'lesson', 'is', 'long']\n",
      "{'this': 4, 'lesson': 6, 'is': 2, 'long': 4}\n"
     ]
    }
   ],
   "source": [
    "list_of_words = 'this lesson is long'.split(' ')\n",
    "print(list_of_words)\n",
    "\n",
    "len_dict = {keys:len(keys) for keys in list_of_words}\n",
    "print(len_dict)\n"
   ]
  },
  {
   "cell_type": "markdown",
   "metadata": {},
   "source": [
    "You may be tempted to ask, if tuple comprehension is a thing - it is not. The syntax you may think would generate a tuple comprehension generates something... completely different, of which you will find out more very soon."
   ]
  }
 ],
 "metadata": {
  "kernelspec": {
   "display_name": "Python 2",
   "language": "python",
   "name": "python2"
  },
  "language_info": {
   "codemirror_mode": {
    "name": "ipython",
    "version": 2
   },
   "file_extension": ".py",
   "mimetype": "text/x-python",
   "name": "python",
   "nbconvert_exporter": "python",
   "pygments_lexer": "ipython2",
   "version": "2.7.15"
  }
 },
 "nbformat": 4,
 "nbformat_minor": 2
}
