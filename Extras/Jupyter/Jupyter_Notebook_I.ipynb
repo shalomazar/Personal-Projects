{
 "cells": [
  {
   "cell_type": "markdown",
   "metadata": {},
   "source": [
    "# Intro\n",
    "jupyter notebooks enable you to mix code, text and results. "
   ]
  },
  {
   "cell_type": "markdown",
   "metadata": {},
   "source": [
    "# Cells\n",
    "a notebook is composed of cells which are independently runnable"
   ]
  },
  {
   "cell_type": "code",
   "execution_count": 10,
   "metadata": {},
   "outputs": [],
   "source": [
    "a = 5"
   ]
  },
  {
   "cell_type": "code",
   "execution_count": 8,
   "metadata": {},
   "outputs": [],
   "source": [
    "a = 6"
   ]
  },
  {
   "cell_type": "code",
   "execution_count": 11,
   "metadata": {},
   "outputs": [
    {
     "name": "stdout",
     "output_type": "stream",
     "text": [
      "5\n"
     ]
    }
   ],
   "source": [
    "print(a)"
   ]
  },
  {
   "cell_type": "markdown",
   "metadata": {},
   "source": [
    "1. run the cell containing 'a=5' by clicking it and pressing ctrl+enter or pressing the run button in the toolbar\n",
    "2. run the cell containing 'a=6' and then the cell containing print(a). What is the result? 6\n",
    "3. run the cell containing 'a=5' and theh the cell containing print(a). What is the result now? 5"
   ]
  },
  {
   "cell_type": "markdown",
   "metadata": {},
   "source": [
    "# Markdown\n",
    "text cells are formatted in markdown, a lightweight markup language which allow for easy formatting. A markdown cell may contain:\n",
    "1. numbered lists\n",
    "  1. with indentation\n",
    "  2. another subitem\n",
    "2. bullet lists\n",
    "  - bullet item \n",
    "  - another bullet item\n",
    "3. Latex for typesetting math $\\int_{a=0}^{\\infty}x\\:dx $\n",
    "4. Different level of headings\n",
    "5. and much much more !\n",
    "\n",
    "This cell is written in markdown. Double click it, or select it and press enter to see the code. Feel free to play with the contents.\n",
    "\n",
    "When you're done and want to render the cell again just run it."
   ]
  },
  {
   "cell_type": "markdown",
   "metadata": {},
   "source": [
    "# Hands on experience\n",
    "## Getting around\n",
    "notebooks are navigatable via the keyboard or mouse. Select this cell, and use only the keyboard to navigate to the next cell and run it."
   ]
  },
  {
   "cell_type": "code",
   "execution_count": 12,
   "metadata": {},
   "outputs": [
    {
     "name": "stdout",
     "output_type": "stream",
     "text": [
      "Jupyter notebooks for everyone\n"
     ]
    }
   ],
   "source": [
    "print('Jupyter notebooks for everyone')"
   ]
  },
  {
   "cell_type": "markdown",
   "metadata": {},
   "source": [
    "Notice that things behave a bit differently when editing. \n",
    "1. Click the next cell to which is in edit mode and now press up.\n",
    "2. Press control enter to run the cell and now press up."
   ]
  },
  {
   "cell_type": "code",
   "execution_count": 13,
   "metadata": {},
   "outputs": [
    {
     "name": "stdout",
     "output_type": "stream",
     "text": [
      "Jupyter notebooks are so mode'y\n"
     ]
    }
   ],
   "source": [
    "print('Jupyter notebooks are so mode\\'y')"
   ]
  },
  {
   "cell_type": "markdown",
   "metadata": {},
   "source": [
    "## Changing modes\n",
    "cell mode can be changed using the cell menu in the tool bar or by some keyboard Kong-Fu. \n",
    "\n",
    "Select the next cell and:\n",
    "1. press Esc to exit edit mode\n",
    "2. press m to change it to a markdown cell\n",
    "3. run the cell to see the formatted text"
   ]
  },
  {
   "cell_type": "markdown",
   "metadata": {
    "collapsed": true
   },
   "source": [
    "what's a piece of text like me doing in a cell like this?"
   ]
  },
  {
   "cell_type": "code",
   "execution_count": null,
   "metadata": {},
   "outputs": [],
   "source": [
    "To change a cell to a code cell perform the same procedure aside for pressing y instead of m in stage 2. Try it for the next cell."
   ]
  },
  {
   "cell_type": "markdown",
   "metadata": {},
   "source": [
    "print('Run Forest run')"
   ]
  },
  {
   "cell_type": "markdown",
   "metadata": {},
   "source": [
    "## Misc\n",
    "### run and insert\n",
    "you can run a cell and create the next one in one go by selecting a cell and pressing alt-enter instead of ctrl-enter. Try it."
   ]
  },
  {
   "cell_type": "code",
   "execution_count": 15,
   "metadata": {},
   "outputs": [
    {
     "name": "stdout",
     "output_type": "stream",
     "text": [
      "testing\n"
     ]
    }
   ],
   "source": [
    "print('testing')"
   ]
  },
  {
   "cell_type": "code",
   "execution_count": 16,
   "metadata": {},
   "outputs": [
    {
     "name": "stdout",
     "output_type": "stream",
     "text": [
      "another one rides the bus\n"
     ]
    }
   ],
   "source": [
    "print('another one rides the bus')"
   ]
  },
  {
   "cell_type": "markdown",
   "metadata": {},
   "source": [
    "### split fu\n",
    "sometimes you may decide you want to a split a cell into. \n",
    "1. edit the cell below\n",
    "2. move the cursor to any line you wish except from the first and the last\n",
    "3. press ctrl-shift-- to split the cell at that line"
   ]
  },
  {
   "cell_type": "markdown",
   "metadata": {
    "collapsed": true
   },
   "source": [
    "print('Did anyone ever tell you')\n",
    "print('a long and winding story')\n",
    "print('that seems to lead somewhere')\n",
    "print('in some points in time')\n",
    "print('But in essence')\n",
    "print('is really a waste of your time?')"
   ]
  },
  {
   "cell_type": "markdown",
   "metadata": {},
   "source": [
    "## Help I need somebody\n",
    "first and foremost the internet is your friend, and one of the advantages of using a tool as popular Jupyter notebooks is the vast amount of help available online. While the internet is the swiss army knife of our time, in the case of Jupyter notebooks the help menu is also pretty awesome. You can browse it using your trusty mouse, or impress friends and family by exiting edit mode (Esc) and pressing p to conjure a magical and searchable help menu."
   ]
  },
  {
   "cell_type": "markdown",
   "metadata": {},
   "source": [
    "# A word to the wise\n",
    "unlike other some other tools the Jupyter notebook autosave function is shaky. Be sure to save frequently (shortcut: ctrl-s)"
   ]
  }
 ],
 "metadata": {
  "kernelspec": {
   "display_name": "Python 2",
   "language": "python",
   "name": "python2"
  },
  "language_info": {
   "codemirror_mode": {
    "name": "ipython",
    "version": 2
   },
   "file_extension": ".py",
   "mimetype": "text/x-python",
   "name": "python",
   "nbconvert_exporter": "python",
   "pygments_lexer": "ipython2",
   "version": "2.7.15"
  }
 },
 "nbformat": 4,
 "nbformat_minor": 2
}
